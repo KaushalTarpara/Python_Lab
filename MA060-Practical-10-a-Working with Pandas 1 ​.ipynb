{
 "cells": [
  {
   "cell_type": "markdown",
   "id": "b2f1b826",
   "metadata": {},
   "source": [
    "<h1>Practical-10-a-Working with Pandas"
   ]
  },
  {
   "cell_type": "markdown",
   "id": "f39fe35f",
   "metadata": {},
   "source": [
    "<h5>Name : Tarpara Kaushal\n",
    "<h5>Roll no : MA060"
   ]
  },
  {
   "cell_type": "markdown",
   "id": "7080f98f",
   "metadata": {},
   "source": [
    "<h3>1.Insert more 10 rows into the dataframe."
   ]
  },
  {
   "cell_type": "code",
   "execution_count": 61,
   "id": "18a8ce5f",
   "metadata": {},
   "outputs": [
    {
     "name": "stdout",
     "output_type": "stream",
     "text": [
      "   empid           ename       sal         doj\n",
      "0   1001      Ganesh Rao  10000.00  10-10-2000\n",
      "1   1002      Anil Kumar  23000.50   3-20-2002\n",
      "2   1003    Gaurav Gupta  18000.53  03-03-2002\n",
      "3   1004    Hema Chandra  16500.50  09-10-2000\n",
      "4   1005  Laxmi Prasanna  12000.75  10-08-2000\n",
      "5   1006       Anant Nag   9999.99  09-09-1999\n",
      "    empid           ename       sal         doj\n",
      "0    1001      Ganesh Rao  10000.00  10-10-2000\n",
      "1    1002      Anil Kumar  23000.50   3-20-2002\n",
      "2    1003    Gaurav Gupta  18000.53  03-03-2002\n",
      "3    1004    Hema Chandra  16500.50  09-10-2000\n",
      "4    1005  Laxmi Prasanna  12000.75  10-08-2000\n",
      "5    1006       Anant Nag   9999.99  09-09-1999\n",
      "6    1007    Suresh Kumar  14500.75  04-15-2003\n",
      "7    1008   Rajesh Sharma  21000.00  06-30-2004\n",
      "8    1009     Priya Singh  17500.25  09-20-2005\n",
      "9    1010     Mohan Reddy  19800.50  02-14-2006\n",
      "10   1011      Neha Verma  13200.00  07-05-2007\n",
      "11   1012      Amit Patel  18999.99  11-11-2008\n",
      "12   1013    Shweta Gupta  15750.00  03-25-2009\n",
      "13   1014   Sandeep Yadav  20500.00  08-10-2010\n",
      "14   1015    Pooja Sharma  12000.00  05-02-2011\n",
      "15   1016  Rajendra Kumar  22000.50  12-18-2012\n"
     ]
    },
    {
     "name": "stderr",
     "output_type": "stream",
     "text": [
      "C:\\Users\\kaush\\AppData\\Local\\Temp\\ipykernel_11884\\3557196510.py:15: FutureWarning: The frame.append method is deprecated and will be removed from pandas in a future version. Use pandas.concat instead.\n",
      "  df = df.append(new_rows_df,ignore_index=True)\n"
     ]
    }
   ],
   "source": [
    "import pandas as pd\n",
    "\n",
    "df = pd.read_csv(\"practical-10-a-empdata.csv\")\n",
    "\n",
    "print(df)\n",
    "\n",
    "new_rows_data = {\n",
    "    'empid': [1007, 1008, 1009, 1010, 1011, 1012, 1013, 1014, 1015, 1016],\n",
    "    'ename': ['Suresh Kumar', 'Rajesh Sharma', 'Priya Singh', 'Mohan Reddy', 'Neha Verma', 'Amit Patel', 'Shweta Gupta', 'Sandeep Yadav', 'Pooja Sharma', 'Rajendra Kumar'],\n",
    "    'sal': [14500.75, 21000.0, 17500.25, 19800.5, 13200.0, 18999.99, 15750.0, 20500.0, 12000.0, 22000.5],\n",
    "    'doj': ['04-15-2003', '06-30-2004', '09-20-2005', '02-14-2006', '07-05-2007', '11-11-2008', '03-25-2009', '08-10-2010', '05-02-2011', '12-18-2012']\n",
    "}\n",
    "\n",
    "new_rows_df = pd.DataFrame(new_rows_data)\n",
    "df = df.append(new_rows_df,ignore_index=True)\n",
    " \n",
    "print(df)\n"
   ]
  },
  {
   "cell_type": "markdown",
   "id": "fa764836",
   "metadata": {},
   "source": [
    "<h3>2. Add new column 'gender\"."
   ]
  },
  {
   "cell_type": "code",
   "execution_count": 62,
   "id": "fdc03c28",
   "metadata": {},
   "outputs": [
    {
     "name": "stdout",
     "output_type": "stream",
     "text": [
      "    empid           ename       sal         doj  gender\n",
      "0    1001      Ganesh Rao  10000.00  10-10-2000    Male\n",
      "1    1002      Anil Kumar  23000.50   3-20-2002    Male\n",
      "2    1003    Gaurav Gupta  18000.53  03-03-2002    Male\n",
      "3    1004    Hema Chandra  16500.50  09-10-2000  Female\n",
      "4    1005  Laxmi Prasanna  12000.75  10-08-2000  Female\n",
      "5    1006       Anant Nag   9999.99  09-09-1999    Male\n",
      "6    1007    Suresh Kumar  14500.75  04-15-2003    Male\n",
      "7    1008   Rajesh Sharma  21000.00  06-30-2004    Male\n",
      "8    1009     Priya Singh  17500.25  09-20-2005  Female\n",
      "9    1010     Mohan Reddy  19800.50  02-14-2006    Male\n",
      "10   1011      Neha Verma  13200.00  07-05-2007  Female\n",
      "11   1012      Amit Patel  18999.99  11-11-2008    Male\n",
      "12   1013    Shweta Gupta  15750.00  03-25-2009  Female\n",
      "13   1014   Sandeep Yadav  20500.00  08-10-2010    Male\n",
      "14   1015    Pooja Sharma  12000.00  05-02-2011  Female\n",
      "15   1016  Rajendra Kumar  22000.50  12-18-2012    Male\n"
     ]
    }
   ],
   "source": [
    "gender_values = ['Male', 'Male', 'Male', 'Female', 'Female', 'Male', 'Male', 'Male', 'Female', 'Male', 'Female', 'Male', 'Female', 'Male', 'Female', 'Male']\n",
    "df['gender'] = gender_values\n",
    "print(df)"
   ]
  },
  {
   "cell_type": "markdown",
   "id": "fdd47df1",
   "metadata": {},
   "source": [
    "<h3>3. Print salary of Ganesh Rao."
   ]
  },
  {
   "cell_type": "code",
   "execution_count": 63,
   "id": "502484ee",
   "metadata": {},
   "outputs": [
    {
     "name": "stdout",
     "output_type": "stream",
     "text": [
      "Salary of Ganesh Rao: 10000.0\n"
     ]
    }
   ],
   "source": [
    "print(\"Salary of Ganesh Rao:\",df[df['ename'] == 'Ganesh Rao']['sal'].values[0])"
   ]
  },
  {
   "cell_type": "markdown",
   "id": "5690c7b5",
   "metadata": {},
   "source": [
    "<h3>4. Print joining date and id of Laxmi Prasanna."
   ]
  },
  {
   "cell_type": "code",
   "execution_count": 64,
   "id": "d47be21d",
   "metadata": {},
   "outputs": [
    {
     "name": "stdout",
     "output_type": "stream",
     "text": [
      "Joining Date and Employee ID of Laxmi Prasanna:\n",
      "          doj  empid\n",
      "4  10-08-2000   1005\n"
     ]
    }
   ],
   "source": [
    "laxmi_prasanna_info = df[df['ename'] == 'Laxmi Prasanna'][['doj', 'empid']]\n",
    "\n",
    "print(\"Joining Date and Employee ID of Laxmi Prasanna:\")\n",
    "print(laxmi_prasanna_info)"
   ]
  },
  {
   "cell_type": "markdown",
   "id": "edb40a17",
   "metadata": {},
   "source": [
    "<h3>5. Print average salary."
   ]
  },
  {
   "cell_type": "code",
   "execution_count": 65,
   "id": "d4cad2c5",
   "metadata": {},
   "outputs": [
    {
     "name": "stdout",
     "output_type": "stream",
     "text": [
      "Average Salary: 16547.14125\n"
     ]
    }
   ],
   "source": [
    "average_salary = df['sal'].mean()\n",
    "\n",
    "print(\"Average Salary:\", average_salary)"
   ]
  },
  {
   "cell_type": "markdown",
   "id": "1a549281",
   "metadata": {},
   "source": [
    "<h3>6. Add new column \"annual-salary\"."
   ]
  },
  {
   "cell_type": "code",
   "execution_count": 66,
   "id": "b6bfe866",
   "metadata": {},
   "outputs": [
    {
     "name": "stdout",
     "output_type": "stream",
     "text": [
      "    empid           ename       sal         doj  gender  annual-salary\n",
      "0    1001      Ganesh Rao  10000.00  10-10-2000    Male      120000.00\n",
      "1    1002      Anil Kumar  23000.50   3-20-2002    Male      276006.00\n",
      "2    1003    Gaurav Gupta  18000.53  03-03-2002    Male      216006.36\n",
      "3    1004    Hema Chandra  16500.50  09-10-2000  Female      198006.00\n",
      "4    1005  Laxmi Prasanna  12000.75  10-08-2000  Female      144009.00\n",
      "5    1006       Anant Nag   9999.99  09-09-1999    Male      119999.88\n",
      "6    1007    Suresh Kumar  14500.75  04-15-2003    Male      174009.00\n",
      "7    1008   Rajesh Sharma  21000.00  06-30-2004    Male      252000.00\n",
      "8    1009     Priya Singh  17500.25  09-20-2005  Female      210003.00\n",
      "9    1010     Mohan Reddy  19800.50  02-14-2006    Male      237606.00\n",
      "10   1011      Neha Verma  13200.00  07-05-2007  Female      158400.00\n",
      "11   1012      Amit Patel  18999.99  11-11-2008    Male      227999.88\n",
      "12   1013    Shweta Gupta  15750.00  03-25-2009  Female      189000.00\n",
      "13   1014   Sandeep Yadav  20500.00  08-10-2010    Male      246000.00\n",
      "14   1015    Pooja Sharma  12000.00  05-02-2011  Female      144000.00\n",
      "15   1016  Rajendra Kumar  22000.50  12-18-2012    Male      264006.00\n"
     ]
    }
   ],
   "source": [
    "df['annual-salary'] = df['sal'] * 12\n",
    "\n",
    "print(df)"
   ]
  },
  {
   "cell_type": "markdown",
   "id": "b70d3b73",
   "metadata": {},
   "source": [
    "<h3>7. List female employees who are earning above average salary."
   ]
  },
  {
   "cell_type": "code",
   "execution_count": 67,
   "id": "7c3b7a1a",
   "metadata": {},
   "outputs": [
    {
     "name": "stdout",
     "output_type": "stream",
     "text": [
      "Female employees earning above average salary (16547.14125):\n",
      "   empid        ename       sal         doj  gender  annual-salary\n",
      "8   1009  Priya Singh  17500.25  09-20-2005  Female       210003.0\n"
     ]
    }
   ],
   "source": [
    "average_salary = df['sal'].mean()\n",
    "\n",
    "female_above_average = df[(df['gender'] == 'Female') & (df['sal'] > average_salary)]\n",
    "print(f\"Female employees earning above average salary ({average_salary}):\")\n",
    "print(female_above_average)"
   ]
  },
  {
   "cell_type": "markdown",
   "id": "8bb25656",
   "metadata": {},
   "source": [
    "<h3>8. List most recently joined three employees."
   ]
  },
  {
   "cell_type": "code",
   "execution_count": 68,
   "id": "298a289a",
   "metadata": {},
   "outputs": [
    {
     "name": "stdout",
     "output_type": "stream",
     "text": [
      "Most recently joined three employees:\n",
      "    empid           ename       sal         doj gender  annual-salary\n",
      "1    1002      Anil Kumar  23000.50   3-20-2002   Male      276006.00\n",
      "15   1016  Rajendra Kumar  22000.50  12-18-2012   Male      264006.00\n",
      "11   1012      Amit Patel  18999.99  11-11-2008   Male      227999.88\n"
     ]
    }
   ],
   "source": [
    "df_sorted = df.sort_values(by='doj', ascending=False)\n",
    "\n",
    "\n",
    "recently_joined_employees = df_sorted.head(3)\n",
    "\n",
    "print(\"Most recently joined three employees:\")\n",
    "print(recently_joined_employees)"
   ]
  },
  {
   "cell_type": "markdown",
   "id": "7282dc9c",
   "metadata": {},
   "source": [
    "<h3>9. Convert all column names to InitCap case."
   ]
  },
  {
   "cell_type": "code",
   "execution_count": 69,
   "id": "be0a5a71",
   "metadata": {},
   "outputs": [
    {
     "name": "stdout",
     "output_type": "stream",
     "text": [
      "    Empid           Ename       Sal         Doj  Gender  Annual-Salary\n",
      "0    1001      Ganesh Rao  10000.00  10-10-2000    Male      120000.00\n",
      "1    1002      Anil Kumar  23000.50   3-20-2002    Male      276006.00\n",
      "2    1003    Gaurav Gupta  18000.53  03-03-2002    Male      216006.36\n",
      "3    1004    Hema Chandra  16500.50  09-10-2000  Female      198006.00\n",
      "4    1005  Laxmi Prasanna  12000.75  10-08-2000  Female      144009.00\n",
      "5    1006       Anant Nag   9999.99  09-09-1999    Male      119999.88\n",
      "6    1007    Suresh Kumar  14500.75  04-15-2003    Male      174009.00\n",
      "7    1008   Rajesh Sharma  21000.00  06-30-2004    Male      252000.00\n",
      "8    1009     Priya Singh  17500.25  09-20-2005  Female      210003.00\n",
      "9    1010     Mohan Reddy  19800.50  02-14-2006    Male      237606.00\n",
      "10   1011      Neha Verma  13200.00  07-05-2007  Female      158400.00\n",
      "11   1012      Amit Patel  18999.99  11-11-2008    Male      227999.88\n",
      "12   1013    Shweta Gupta  15750.00  03-25-2009  Female      189000.00\n",
      "13   1014   Sandeep Yadav  20500.00  08-10-2010    Male      246000.00\n",
      "14   1015    Pooja Sharma  12000.00  05-02-2011  Female      144000.00\n",
      "15   1016  Rajendra Kumar  22000.50  12-18-2012    Male      264006.00\n"
     ]
    }
   ],
   "source": [
    "def initcap_column_name(column_name):\n",
    "    return column_name.title()\n",
    "\n",
    "initcap_columns = [initcap_column_name(col) for col in df.columns]\n",
    "df.columns = initcap_columns\n",
    "\n",
    "print(df)"
   ]
  },
  {
   "cell_type": "markdown",
   "id": "0497160d",
   "metadata": {},
   "source": [
    "<h3>10. Count male employees who are not earning below average salary."
   ]
  },
  {
   "cell_type": "code",
   "execution_count": 70,
   "id": "7d575a4a",
   "metadata": {},
   "outputs": [
    {
     "name": "stdout",
     "output_type": "stream",
     "text": [
      "Count of male employees earning above or equal to average salary (16547.14125): 7\n"
     ]
    }
   ],
   "source": [
    "avg_sal = df['Sal'].mean()\n",
    "\n",
    "male_above_avg = df[(df['Gender'] == 'Male') & (df['Sal'] >= avg_sal)]\n",
    "\n",
    "count_male_above_avg = len(male_above_avg)\n",
    "\n",
    "print(f\"Count of male employees earning above or equal to average salary ({avg_sal}): {count_male_above_avg}\")"
   ]
  },
  {
   "cell_type": "markdown",
   "id": "d2afd72d",
   "metadata": {},
   "source": [
    "<h3>11. Calculate and store bonus in a new column 'Bonus'. It should be 10% and 7.5% of 'Sal' for male and female employees respectively."
   ]
  },
  {
   "cell_type": "code",
   "execution_count": 71,
   "id": "70ec5d97",
   "metadata": {},
   "outputs": [
    {
     "name": "stdout",
     "output_type": "stream",
     "text": [
      "    Empid           Ename       Sal         Doj  Gender  Annual-Salary  \\\n",
      "0    1001      Ganesh Rao  10000.00  10-10-2000    Male      120000.00   \n",
      "1    1002      Anil Kumar  23000.50   3-20-2002    Male      276006.00   \n",
      "2    1003    Gaurav Gupta  18000.53  03-03-2002    Male      216006.36   \n",
      "3    1004    Hema Chandra  16500.50  09-10-2000  Female      198006.00   \n",
      "4    1005  Laxmi Prasanna  12000.75  10-08-2000  Female      144009.00   \n",
      "5    1006       Anant Nag   9999.99  09-09-1999    Male      119999.88   \n",
      "6    1007    Suresh Kumar  14500.75  04-15-2003    Male      174009.00   \n",
      "7    1008   Rajesh Sharma  21000.00  06-30-2004    Male      252000.00   \n",
      "8    1009     Priya Singh  17500.25  09-20-2005  Female      210003.00   \n",
      "9    1010     Mohan Reddy  19800.50  02-14-2006    Male      237606.00   \n",
      "10   1011      Neha Verma  13200.00  07-05-2007  Female      158400.00   \n",
      "11   1012      Amit Patel  18999.99  11-11-2008    Male      227999.88   \n",
      "12   1013    Shweta Gupta  15750.00  03-25-2009  Female      189000.00   \n",
      "13   1014   Sandeep Yadav  20500.00  08-10-2010    Male      246000.00   \n",
      "14   1015    Pooja Sharma  12000.00  05-02-2011  Female      144000.00   \n",
      "15   1016  Rajendra Kumar  22000.50  12-18-2012    Male      264006.00   \n",
      "\n",
      "         Bonus  \n",
      "0   1000.00000  \n",
      "1   2300.05000  \n",
      "2   1800.05300  \n",
      "3   1237.53750  \n",
      "4    900.05625  \n",
      "5    999.99900  \n",
      "6   1450.07500  \n",
      "7   2100.00000  \n",
      "8   1312.51875  \n",
      "9   1980.05000  \n",
      "10   990.00000  \n",
      "11  1899.99900  \n",
      "12  1181.25000  \n",
      "13  2050.00000  \n",
      "14   900.00000  \n",
      "15  2200.05000  \n"
     ]
    }
   ],
   "source": [
    "def calculate_bonus(row):\n",
    "    if row['Gender'] == 'Male':\n",
    "        return row['Sal'] * 0.10\n",
    "    elif row['Gender'] == 'Female':\n",
    "        return row['Sal'] * 0.075\n",
    "    else:\n",
    "        return 0\n",
    "\n",
    "df['Bonus'] = df.apply(calculate_bonus, axis=1)\n",
    "\n",
    "print(df)\n"
   ]
  },
  {
   "cell_type": "markdown",
   "id": "e166b844",
   "metadata": {},
   "source": [
    "<h3>12. Delete row having the least salary."
   ]
  },
  {
   "cell_type": "code",
   "execution_count": 72,
   "id": "cdb246d8",
   "metadata": {},
   "outputs": [
    {
     "name": "stdout",
     "output_type": "stream",
     "text": [
      "    Empid           Ename       Sal         Doj  Gender  Annual-Salary  \\\n",
      "0    1001      Ganesh Rao  10000.00  10-10-2000    Male      120000.00   \n",
      "1    1002      Anil Kumar  23000.50   3-20-2002    Male      276006.00   \n",
      "2    1003    Gaurav Gupta  18000.53  03-03-2002    Male      216006.36   \n",
      "3    1004    Hema Chandra  16500.50  09-10-2000  Female      198006.00   \n",
      "4    1005  Laxmi Prasanna  12000.75  10-08-2000  Female      144009.00   \n",
      "5    1007    Suresh Kumar  14500.75  04-15-2003    Male      174009.00   \n",
      "6    1008   Rajesh Sharma  21000.00  06-30-2004    Male      252000.00   \n",
      "7    1009     Priya Singh  17500.25  09-20-2005  Female      210003.00   \n",
      "8    1010     Mohan Reddy  19800.50  02-14-2006    Male      237606.00   \n",
      "9    1011      Neha Verma  13200.00  07-05-2007  Female      158400.00   \n",
      "10   1012      Amit Patel  18999.99  11-11-2008    Male      227999.88   \n",
      "11   1013    Shweta Gupta  15750.00  03-25-2009  Female      189000.00   \n",
      "12   1014   Sandeep Yadav  20500.00  08-10-2010    Male      246000.00   \n",
      "13   1015    Pooja Sharma  12000.00  05-02-2011  Female      144000.00   \n",
      "14   1016  Rajendra Kumar  22000.50  12-18-2012    Male      264006.00   \n",
      "\n",
      "         Bonus  \n",
      "0   1000.00000  \n",
      "1   2300.05000  \n",
      "2   1800.05300  \n",
      "3   1237.53750  \n",
      "4    900.05625  \n",
      "5   1450.07500  \n",
      "6   2100.00000  \n",
      "7   1312.51875  \n",
      "8   1980.05000  \n",
      "9    990.00000  \n",
      "10  1899.99900  \n",
      "11  1181.25000  \n",
      "12  2050.00000  \n",
      "13   900.00000  \n",
      "14  2200.05000  \n"
     ]
    }
   ],
   "source": [
    "index_of_least_salary = df['Sal'].idxmin()\n",
    "\n",
    "\n",
    "df = df.drop(index_of_least_salary)\n",
    "\n",
    "\n",
    "df.reset_index(drop=True, inplace=True)\n",
    "\n",
    "\n",
    "print(df)"
   ]
  },
  {
   "cell_type": "markdown",
   "id": "8ec2658c",
   "metadata": {},
   "source": [
    "<h3>13. Delete salary of Laxmi and Gaurav."
   ]
  },
  {
   "cell_type": "code",
   "execution_count": 73,
   "id": "f09c6769",
   "metadata": {},
   "outputs": [
    {
     "name": "stdout",
     "output_type": "stream",
     "text": [
      "    Empid           Ename       Sal         Doj  Gender  Annual-Salary  \\\n",
      "0    1001      Ganesh Rao  10000.00  10-10-2000    Male      120000.00   \n",
      "1    1002      Anil Kumar  23000.50   3-20-2002    Male      276006.00   \n",
      "2    1003    Gaurav Gupta       NaN  03-03-2002    Male      216006.36   \n",
      "3    1004    Hema Chandra  16500.50  09-10-2000  Female      198006.00   \n",
      "4    1005  Laxmi Prasanna       NaN  10-08-2000  Female      144009.00   \n",
      "5    1007    Suresh Kumar  14500.75  04-15-2003    Male      174009.00   \n",
      "6    1008   Rajesh Sharma  21000.00  06-30-2004    Male      252000.00   \n",
      "7    1009     Priya Singh  17500.25  09-20-2005  Female      210003.00   \n",
      "8    1010     Mohan Reddy  19800.50  02-14-2006    Male      237606.00   \n",
      "9    1011      Neha Verma  13200.00  07-05-2007  Female      158400.00   \n",
      "10   1012      Amit Patel  18999.99  11-11-2008    Male      227999.88   \n",
      "11   1013    Shweta Gupta  15750.00  03-25-2009  Female      189000.00   \n",
      "12   1014   Sandeep Yadav  20500.00  08-10-2010    Male      246000.00   \n",
      "13   1015    Pooja Sharma  12000.00  05-02-2011  Female      144000.00   \n",
      "14   1016  Rajendra Kumar  22000.50  12-18-2012    Male      264006.00   \n",
      "\n",
      "         Bonus  \n",
      "0   1000.00000  \n",
      "1   2300.05000  \n",
      "2   1800.05300  \n",
      "3   1237.53750  \n",
      "4    900.05625  \n",
      "5   1450.07500  \n",
      "6   2100.00000  \n",
      "7   1312.51875  \n",
      "8   1980.05000  \n",
      "9    990.00000  \n",
      "10  1899.99900  \n",
      "11  1181.25000  \n",
      "12  2050.00000  \n",
      "13   900.00000  \n",
      "14  2200.05000  \n"
     ]
    }
   ],
   "source": [
    "df.loc[df['Ename'].isin(['Laxmi Prasanna', 'Gaurav Gupta']), 'Sal'] = None\n",
    "print(df)"
   ]
  },
  {
   "cell_type": "markdown",
   "id": "f52f1164",
   "metadata": {},
   "source": [
    "<h3>14. Set missing salary with the average salary."
   ]
  },
  {
   "cell_type": "code",
   "execution_count": 74,
   "id": "55312bca",
   "metadata": {},
   "outputs": [
    {
     "name": "stdout",
     "output_type": "stream",
     "text": [
      "    Empid           Ename           Sal         Doj  Gender  Annual-Salary  \\\n",
      "0    1001      Ganesh Rao  10000.000000  10-10-2000    Male      120000.00   \n",
      "1    1002      Anil Kumar  23000.500000   3-20-2002    Male      276006.00   \n",
      "2    1003    Gaurav Gupta  17288.691538  03-03-2002    Male      216006.36   \n",
      "3    1004    Hema Chandra  16500.500000  09-10-2000  Female      198006.00   \n",
      "4    1005  Laxmi Prasanna  17288.691538  10-08-2000  Female      144009.00   \n",
      "5    1007    Suresh Kumar  14500.750000  04-15-2003    Male      174009.00   \n",
      "6    1008   Rajesh Sharma  21000.000000  06-30-2004    Male      252000.00   \n",
      "7    1009     Priya Singh  17500.250000  09-20-2005  Female      210003.00   \n",
      "8    1010     Mohan Reddy  19800.500000  02-14-2006    Male      237606.00   \n",
      "9    1011      Neha Verma  13200.000000  07-05-2007  Female      158400.00   \n",
      "10   1012      Amit Patel  18999.990000  11-11-2008    Male      227999.88   \n",
      "11   1013    Shweta Gupta  15750.000000  03-25-2009  Female      189000.00   \n",
      "12   1014   Sandeep Yadav  20500.000000  08-10-2010    Male      246000.00   \n",
      "13   1015    Pooja Sharma  12000.000000  05-02-2011  Female      144000.00   \n",
      "14   1016  Rajendra Kumar  22000.500000  12-18-2012    Male      264006.00   \n",
      "\n",
      "         Bonus  \n",
      "0   1000.00000  \n",
      "1   2300.05000  \n",
      "2   1800.05300  \n",
      "3   1237.53750  \n",
      "4    900.05625  \n",
      "5   1450.07500  \n",
      "6   2100.00000  \n",
      "7   1312.51875  \n",
      "8   1980.05000  \n",
      "9    990.00000  \n",
      "10  1899.99900  \n",
      "11  1181.25000  \n",
      "12  2050.00000  \n",
      "13   900.00000  \n",
      "14  2200.05000  \n"
     ]
    }
   ],
   "source": [
    "average_salary = df['Sal'].mean()\n",
    "\n",
    "\n",
    "df['Sal'].fillna(average_salary, inplace=True)\n",
    "\n",
    "print(df)"
   ]
  },
  {
   "cell_type": "markdown",
   "id": "62cf2744",
   "metadata": {},
   "source": [
    "<h3>15. Convert all employee names to upper case."
   ]
  },
  {
   "cell_type": "code",
   "execution_count": 75,
   "id": "e8798d1e",
   "metadata": {},
   "outputs": [
    {
     "name": "stdout",
     "output_type": "stream",
     "text": [
      "    Empid           Ename           Sal         Doj  Gender  Annual-Salary  \\\n",
      "0    1001      GANESH RAO  10000.000000  10-10-2000    Male      120000.00   \n",
      "1    1002      ANIL KUMAR  23000.500000   3-20-2002    Male      276006.00   \n",
      "2    1003    GAURAV GUPTA  17288.691538  03-03-2002    Male      216006.36   \n",
      "3    1004    HEMA CHANDRA  16500.500000  09-10-2000  Female      198006.00   \n",
      "4    1005  LAXMI PRASANNA  17288.691538  10-08-2000  Female      144009.00   \n",
      "5    1007    SURESH KUMAR  14500.750000  04-15-2003    Male      174009.00   \n",
      "6    1008   RAJESH SHARMA  21000.000000  06-30-2004    Male      252000.00   \n",
      "7    1009     PRIYA SINGH  17500.250000  09-20-2005  Female      210003.00   \n",
      "8    1010     MOHAN REDDY  19800.500000  02-14-2006    Male      237606.00   \n",
      "9    1011      NEHA VERMA  13200.000000  07-05-2007  Female      158400.00   \n",
      "10   1012      AMIT PATEL  18999.990000  11-11-2008    Male      227999.88   \n",
      "11   1013    SHWETA GUPTA  15750.000000  03-25-2009  Female      189000.00   \n",
      "12   1014   SANDEEP YADAV  20500.000000  08-10-2010    Male      246000.00   \n",
      "13   1015    POOJA SHARMA  12000.000000  05-02-2011  Female      144000.00   \n",
      "14   1016  RAJENDRA KUMAR  22000.500000  12-18-2012    Male      264006.00   \n",
      "\n",
      "         Bonus  \n",
      "0   1000.00000  \n",
      "1   2300.05000  \n",
      "2   1800.05300  \n",
      "3   1237.53750  \n",
      "4    900.05625  \n",
      "5   1450.07500  \n",
      "6   2100.00000  \n",
      "7   1312.51875  \n",
      "8   1980.05000  \n",
      "9    990.00000  \n",
      "10  1899.99900  \n",
      "11  1181.25000  \n",
      "12  2050.00000  \n",
      "13   900.00000  \n",
      "14  2200.05000  \n"
     ]
    }
   ],
   "source": [
    "df['Ename'] = df['Ename'].str.upper()\n",
    "\n",
    "print(df)"
   ]
  },
  {
   "cell_type": "markdown",
   "id": "df7b7b35",
   "metadata": {},
   "source": [
    "<h3>16. Count all employees who had joined before 01-01-2001."
   ]
  },
  {
   "cell_type": "code",
   "execution_count": 79,
   "id": "e2d0b36b",
   "metadata": {},
   "outputs": [
    {
     "name": "stdout",
     "output_type": "stream",
     "text": [
      "Count of employees who joined before 01-01-2001: 3\n"
     ]
    }
   ],
   "source": [
    "df['Doj'] = pd.to_datetime(df['Doj'], format='%d-%m-%Y', errors='coerce')\n",
    "\n",
    "count_employees_before_2001 = len(df[df['Doj'] <  pd.to_datetime('01-01-2001', format='%d-%m-%Y')])\n",
    "\n",
    "print(f\"Count of employees who joined before 01-01-2001: {count_employees_before_2001}\")"
   ]
  },
  {
   "cell_type": "markdown",
   "id": "9c550cb9",
   "metadata": {},
   "source": [
    "<h3>17. Add a new column 'Department'. Possible values: \"Systems\", \"Data Analytics\", \"Web Apps\""
   ]
  },
  {
   "cell_type": "code",
   "execution_count": 81,
   "id": "fa328d5b",
   "metadata": {},
   "outputs": [
    {
     "name": "stdout",
     "output_type": "stream",
     "text": [
      "    Empid           Ename           Sal        Doj  Gender  Annual-Salary  \\\n",
      "0    1001      GANESH RAO  10000.000000 2000-10-10    Male      120000.00   \n",
      "1    1002      ANIL KUMAR  23000.500000        NaT    Male      276006.00   \n",
      "2    1003    GAURAV GUPTA  17288.691538 2002-03-03    Male      216006.36   \n",
      "3    1004    HEMA CHANDRA  16500.500000 2000-10-09  Female      198006.00   \n",
      "4    1005  LAXMI PRASANNA  17288.691538 2000-08-10  Female      144009.00   \n",
      "5    1007    SURESH KUMAR  14500.750000        NaT    Male      174009.00   \n",
      "6    1008   RAJESH SHARMA  21000.000000        NaT    Male      252000.00   \n",
      "7    1009     PRIYA SINGH  17500.250000        NaT  Female      210003.00   \n",
      "8    1010     MOHAN REDDY  19800.500000        NaT    Male      237606.00   \n",
      "9    1011      NEHA VERMA  13200.000000 2007-05-07  Female      158400.00   \n",
      "10   1012      AMIT PATEL  18999.990000 2008-11-11    Male      227999.88   \n",
      "11   1013    SHWETA GUPTA  15750.000000        NaT  Female      189000.00   \n",
      "12   1014   SANDEEP YADAV  20500.000000 2010-10-08    Male      246000.00   \n",
      "13   1015    POOJA SHARMA  12000.000000 2011-02-05  Female      144000.00   \n",
      "14   1016  RAJENDRA KUMAR  22000.500000        NaT    Male      264006.00   \n",
      "\n",
      "         Bonus      Department  \n",
      "0   1000.00000         Systems  \n",
      "1   2300.05000  Data Analytics  \n",
      "2   1800.05300        Web Apps  \n",
      "3   1237.53750         Systems  \n",
      "4    900.05625  Data Analytics  \n",
      "5   1450.07500         Systems  \n",
      "6   2100.00000  Data Analytics  \n",
      "7   1312.51875        Web Apps  \n",
      "8   1980.05000         Systems  \n",
      "9    990.00000  Data Analytics  \n",
      "10  1899.99900        Web Apps  \n",
      "11  1181.25000         Systems  \n",
      "12  2050.00000  Data Analytics  \n",
      "13   900.00000        Web Apps  \n",
      "14  2200.05000         Systems  \n"
     ]
    }
   ],
   "source": [
    "department_mapping = {\n",
    "    'GANESH RAO': 'Systems',\n",
    "    'ANIL KUMAR': 'Data Analytics',\n",
    "    'GAURAV GUPTA': 'Web Apps',\n",
    "    'HEMA CHANDRA': 'Systems',\n",
    "    'LAXMI PRASANNA': 'Data Analytics',\n",
    "    'ANANT NAG': 'Web Apps',\n",
    "    'SURESH KUMAR': 'Systems',\n",
    "    'RAJESH SHARMA': 'Data Analytics',\n",
    "    'PRIYA SINGH': 'Web Apps',\n",
    "    'MOHAN REDDY': 'Systems',\n",
    "    'NEHA VERMA': 'Data Analytics',\n",
    "    'AMIT PATEL': 'Web Apps',\n",
    "    'SHWETA GUPTA': 'Systems',\n",
    "    'SANDEEP YADAV': 'Data Analytics',\n",
    "    'POOJA SHARMA': 'Web Apps',\n",
    "    'RAJENDRA KUMAR': 'Systems'\n",
    "}\n",
    "df['Department'] = df['Ename'].str.upper().map(department_mapping)\n",
    "\n",
    "print(df)"
   ]
  },
  {
   "cell_type": "markdown",
   "id": "d91d1b2d",
   "metadata": {},
   "source": [
    "<h3>18. Sort rows: department - salary - name viz."
   ]
  },
  {
   "cell_type": "code",
   "execution_count": 82,
   "id": "2952a3af",
   "metadata": {},
   "outputs": [
    {
     "name": "stdout",
     "output_type": "stream",
     "text": [
      "    Empid           Ename           Sal        Doj  Gender  Annual-Salary  \\\n",
      "0    1011      NEHA VERMA  13200.000000 2007-05-07  Female      158400.00   \n",
      "1    1005  LAXMI PRASANNA  17288.691538 2000-08-10  Female      144009.00   \n",
      "2    1014   SANDEEP YADAV  20500.000000 2010-10-08    Male      246000.00   \n",
      "3    1008   RAJESH SHARMA  21000.000000        NaT    Male      252000.00   \n",
      "4    1002      ANIL KUMAR  23000.500000        NaT    Male      276006.00   \n",
      "5    1001      GANESH RAO  10000.000000 2000-10-10    Male      120000.00   \n",
      "6    1007    SURESH KUMAR  14500.750000        NaT    Male      174009.00   \n",
      "7    1013    SHWETA GUPTA  15750.000000        NaT  Female      189000.00   \n",
      "8    1004    HEMA CHANDRA  16500.500000 2000-10-09  Female      198006.00   \n",
      "9    1010     MOHAN REDDY  19800.500000        NaT    Male      237606.00   \n",
      "10   1016  RAJENDRA KUMAR  22000.500000        NaT    Male      264006.00   \n",
      "11   1015    POOJA SHARMA  12000.000000 2011-02-05  Female      144000.00   \n",
      "12   1003    GAURAV GUPTA  17288.691538 2002-03-03    Male      216006.36   \n",
      "13   1009     PRIYA SINGH  17500.250000        NaT  Female      210003.00   \n",
      "14   1012      AMIT PATEL  18999.990000 2008-11-11    Male      227999.88   \n",
      "\n",
      "         Bonus      Department  \n",
      "0    990.00000  Data Analytics  \n",
      "1    900.05625  Data Analytics  \n",
      "2   2050.00000  Data Analytics  \n",
      "3   2100.00000  Data Analytics  \n",
      "4   2300.05000  Data Analytics  \n",
      "5   1000.00000         Systems  \n",
      "6   1450.07500         Systems  \n",
      "7   1181.25000         Systems  \n",
      "8   1237.53750         Systems  \n",
      "9   1980.05000         Systems  \n",
      "10  2200.05000         Systems  \n",
      "11   900.00000        Web Apps  \n",
      "12  1800.05300        Web Apps  \n",
      "13  1312.51875        Web Apps  \n",
      "14  1899.99900        Web Apps  \n"
     ]
    }
   ],
   "source": [
    "df = df.sort_values(by=['Department', 'Sal', 'Ename'], ascending=[True, True, True])\n",
    "\n",
    "df.reset_index(drop=True, inplace=True)\n",
    "\n",
    "print(df)"
   ]
  },
  {
   "cell_type": "markdown",
   "id": "91104979",
   "metadata": {},
   "source": [
    "<h3>19. Find difference in count of employees (\"System\" and \"Web Apps\") earning below average salary."
   ]
  },
  {
   "cell_type": "code",
   "execution_count": 83,
   "id": "1c6348fa",
   "metadata": {},
   "outputs": [
    {
     "name": "stdout",
     "output_type": "stream",
     "text": [
      "Difference in count of employees ('Systems' - 'Web Apps') earning below average salary: 3\n"
     ]
    }
   ],
   "source": [
    "average_salary = df['Sal'].mean()\n",
    "systems_webapps_df = df[df['Department'].isin(['Systems', 'Web Apps'])]\n",
    "below_average_salary_df = systems_webapps_df[systems_webapps_df['Sal'] < average_salary]\n",
    "department_counts = below_average_salary_df['Department'].value_counts()\n",
    "difference = department_counts.get('Systems', 0) - department_counts.get('Web Apps', 0)\n",
    "print(f\"Difference in count of employees ('Systems' - 'Web Apps') earning below average salary: {difference}\")\n"
   ]
  },
  {
   "cell_type": "markdown",
   "id": "8b54b750",
   "metadata": {},
   "source": [
    "<h3>20. Increase salary of all females by 10% (of their existing salary) whose salary is below average salary."
   ]
  },
  {
   "cell_type": "code",
   "execution_count": 84,
   "id": "17b60fc4",
   "metadata": {},
   "outputs": [
    {
     "name": "stdout",
     "output_type": "stream",
     "text": [
      "     Empid           Ename           Sal        Doj  Gender  Annual-Salary  \\\n",
      "0   1011.0      NEHA VERMA  14520.000000 2007-05-07  Female      158400.00   \n",
      "1   1005.0  LAXMI PRASANNA  17288.691538 2000-08-10  Female      144009.00   \n",
      "2   1014.0   SANDEEP YADAV  20500.000000 2010-10-08    Male      246000.00   \n",
      "3   1008.0   RAJESH SHARMA  21000.000000        NaT    Male      252000.00   \n",
      "4   1002.0      ANIL KUMAR  23000.500000        NaT    Male      276006.00   \n",
      "5   1001.0      GANESH RAO  10000.000000 2000-10-10    Male      120000.00   \n",
      "6   1007.0    SURESH KUMAR  14500.750000        NaT    Male      174009.00   \n",
      "7   1013.0    SHWETA GUPTA  17325.000000        NaT  Female      189000.00   \n",
      "8   1004.0    HEMA CHANDRA  18150.550000 2000-10-09  Female      198006.00   \n",
      "9   1010.0     MOHAN REDDY  19800.500000        NaT    Male      237606.00   \n",
      "10  1016.0  RAJENDRA KUMAR  22000.500000        NaT    Male      264006.00   \n",
      "11  1015.0    POOJA SHARMA  13200.000000 2011-02-05  Female      144000.00   \n",
      "12  1003.0    GAURAV GUPTA  17288.691538 2002-03-03    Male      216006.36   \n",
      "13  1009.0     PRIYA SINGH  17500.250000        NaT  Female      210003.00   \n",
      "14  1012.0      AMIT PATEL  18999.990000 2008-11-11    Male      227999.88   \n",
      "\n",
      "         Bonus      Department  \n",
      "0    990.00000  Data Analytics  \n",
      "1    900.05625  Data Analytics  \n",
      "2   2050.00000  Data Analytics  \n",
      "3   2100.00000  Data Analytics  \n",
      "4   2300.05000  Data Analytics  \n",
      "5   1000.00000         Systems  \n",
      "6   1450.07500         Systems  \n",
      "7   1181.25000         Systems  \n",
      "8   1237.53750         Systems  \n",
      "9   1980.05000         Systems  \n",
      "10  2200.05000         Systems  \n",
      "11   900.00000        Web Apps  \n",
      "12  1800.05300        Web Apps  \n",
      "13  1312.51875        Web Apps  \n",
      "14  1899.99900        Web Apps  \n"
     ]
    },
    {
     "name": "stderr",
     "output_type": "stream",
     "text": [
      "C:\\Users\\kaush\\AppData\\Local\\Temp\\ipykernel_11884\\604157958.py:3: SettingWithCopyWarning: \n",
      "A value is trying to be set on a copy of a slice from a DataFrame.\n",
      "Try using .loc[row_indexer,col_indexer] = value instead\n",
      "\n",
      "See the caveats in the documentation: https://pandas.pydata.org/pandas-docs/stable/user_guide/indexing.html#returning-a-view-versus-a-copy\n",
      "  female_below_average_df['Sal'] = female_below_average_df['Sal'] * 1.10\n"
     ]
    }
   ],
   "source": [
    "average_salary = df['Sal'].mean()\n",
    "female_below_average_df = df[(df['Gender'] == 'Female') & (df['Sal'] < average_salary)]\n",
    "female_below_average_df['Sal'] = female_below_average_df['Sal'] * 1.10\n",
    "df.update(female_below_average_df)\n",
    "print(df)"
   ]
  },
  {
   "cell_type": "markdown",
   "id": "76530c7f",
   "metadata": {},
   "source": [
    "<h3>21. Remove all \"Data Analytics\" department employees."
   ]
  },
  {
   "cell_type": "code",
   "execution_count": 85,
   "id": "1ca042c4",
   "metadata": {},
   "outputs": [
    {
     "name": "stdout",
     "output_type": "stream",
     "text": [
      "    Empid           Ename           Sal        Doj  Gender  Annual-Salary  \\\n",
      "0  1001.0      GANESH RAO  10000.000000 2000-10-10    Male      120000.00   \n",
      "1  1007.0    SURESH KUMAR  14500.750000        NaT    Male      174009.00   \n",
      "2  1013.0    SHWETA GUPTA  17325.000000        NaT  Female      189000.00   \n",
      "3  1004.0    HEMA CHANDRA  18150.550000 2000-10-09  Female      198006.00   \n",
      "4  1010.0     MOHAN REDDY  19800.500000        NaT    Male      237606.00   \n",
      "5  1016.0  RAJENDRA KUMAR  22000.500000        NaT    Male      264006.00   \n",
      "6  1015.0    POOJA SHARMA  13200.000000 2011-02-05  Female      144000.00   \n",
      "7  1003.0    GAURAV GUPTA  17288.691538 2002-03-03    Male      216006.36   \n",
      "8  1009.0     PRIYA SINGH  17500.250000        NaT  Female      210003.00   \n",
      "9  1012.0      AMIT PATEL  18999.990000 2008-11-11    Male      227999.88   \n",
      "\n",
      "        Bonus Department  \n",
      "0  1000.00000    Systems  \n",
      "1  1450.07500    Systems  \n",
      "2  1181.25000    Systems  \n",
      "3  1237.53750    Systems  \n",
      "4  1980.05000    Systems  \n",
      "5  2200.05000    Systems  \n",
      "6   900.00000   Web Apps  \n",
      "7  1800.05300   Web Apps  \n",
      "8  1312.51875   Web Apps  \n",
      "9  1899.99900   Web Apps  \n"
     ]
    }
   ],
   "source": [
    "df = df[df['Department'] != 'Data Analytics']\n",
    "\n",
    "\n",
    "df.reset_index(drop=True, inplace=True)\n",
    "\n",
    "\n",
    "print(df)"
   ]
  },
  {
   "cell_type": "markdown",
   "id": "bb029d7d",
   "metadata": {},
   "source": [
    "<h3>22. Insert a new column \"SALARY\" which should be identical to the 'Sal' column."
   ]
  },
  {
   "cell_type": "code",
   "execution_count": 86,
   "id": "980c68a4",
   "metadata": {},
   "outputs": [
    {
     "name": "stdout",
     "output_type": "stream",
     "text": [
      "    Empid           Ename           Sal        Doj  Gender  Annual-Salary  \\\n",
      "0  1001.0      GANESH RAO  10000.000000 2000-10-10    Male      120000.00   \n",
      "1  1007.0    SURESH KUMAR  14500.750000        NaT    Male      174009.00   \n",
      "2  1013.0    SHWETA GUPTA  17325.000000        NaT  Female      189000.00   \n",
      "3  1004.0    HEMA CHANDRA  18150.550000 2000-10-09  Female      198006.00   \n",
      "4  1010.0     MOHAN REDDY  19800.500000        NaT    Male      237606.00   \n",
      "5  1016.0  RAJENDRA KUMAR  22000.500000        NaT    Male      264006.00   \n",
      "6  1015.0    POOJA SHARMA  13200.000000 2011-02-05  Female      144000.00   \n",
      "7  1003.0    GAURAV GUPTA  17288.691538 2002-03-03    Male      216006.36   \n",
      "8  1009.0     PRIYA SINGH  17500.250000        NaT  Female      210003.00   \n",
      "9  1012.0      AMIT PATEL  18999.990000 2008-11-11    Male      227999.88   \n",
      "\n",
      "        Bonus Department        SALARY  \n",
      "0  1000.00000    Systems  10000.000000  \n",
      "1  1450.07500    Systems  14500.750000  \n",
      "2  1181.25000    Systems  17325.000000  \n",
      "3  1237.53750    Systems  18150.550000  \n",
      "4  1980.05000    Systems  19800.500000  \n",
      "5  2200.05000    Systems  22000.500000  \n",
      "6   900.00000   Web Apps  13200.000000  \n",
      "7  1800.05300   Web Apps  17288.691538  \n",
      "8  1312.51875   Web Apps  17500.250000  \n",
      "9  1899.99900   Web Apps  18999.990000  \n"
     ]
    }
   ],
   "source": [
    "df['SALARY'] = df['Sal']\n",
    "\n",
    "print(df)"
   ]
  },
  {
   "cell_type": "markdown",
   "id": "b5b81659",
   "metadata": {},
   "source": [
    "<h3>23. Remove the 'SALARY' column."
   ]
  },
  {
   "cell_type": "code",
   "execution_count": 87,
   "id": "fcdd7ef0",
   "metadata": {},
   "outputs": [
    {
     "name": "stdout",
     "output_type": "stream",
     "text": [
      "    Empid           Ename           Sal        Doj  Gender  Annual-Salary  \\\n",
      "0  1001.0      GANESH RAO  10000.000000 2000-10-10    Male      120000.00   \n",
      "1  1007.0    SURESH KUMAR  14500.750000        NaT    Male      174009.00   \n",
      "2  1013.0    SHWETA GUPTA  17325.000000        NaT  Female      189000.00   \n",
      "3  1004.0    HEMA CHANDRA  18150.550000 2000-10-09  Female      198006.00   \n",
      "4  1010.0     MOHAN REDDY  19800.500000        NaT    Male      237606.00   \n",
      "5  1016.0  RAJENDRA KUMAR  22000.500000        NaT    Male      264006.00   \n",
      "6  1015.0    POOJA SHARMA  13200.000000 2011-02-05  Female      144000.00   \n",
      "7  1003.0    GAURAV GUPTA  17288.691538 2002-03-03    Male      216006.36   \n",
      "8  1009.0     PRIYA SINGH  17500.250000        NaT  Female      210003.00   \n",
      "9  1012.0      AMIT PATEL  18999.990000 2008-11-11    Male      227999.88   \n",
      "\n",
      "        Bonus Department  \n",
      "0  1000.00000    Systems  \n",
      "1  1450.07500    Systems  \n",
      "2  1181.25000    Systems  \n",
      "3  1237.53750    Systems  \n",
      "4  1980.05000    Systems  \n",
      "5  2200.05000    Systems  \n",
      "6   900.00000   Web Apps  \n",
      "7  1800.05300   Web Apps  \n",
      "8  1312.51875   Web Apps  \n",
      "9  1899.99900   Web Apps  \n"
     ]
    }
   ],
   "source": [
    "df = df.drop(columns=['SALARY'])\n",
    "\n",
    "print(df)"
   ]
  },
  {
   "cell_type": "code",
   "execution_count": null,
   "id": "3712222b",
   "metadata": {},
   "outputs": [],
   "source": []
  }
 ],
 "metadata": {
  "kernelspec": {
   "display_name": "Python 3 (ipykernel)",
   "language": "python",
   "name": "python3"
  },
  "language_info": {
   "codemirror_mode": {
    "name": "ipython",
    "version": 3
   },
   "file_extension": ".py",
   "mimetype": "text/x-python",
   "name": "python",
   "nbconvert_exporter": "python",
   "pygments_lexer": "ipython3",
   "version": "3.10.9"
  }
 },
 "nbformat": 4,
 "nbformat_minor": 5
}
