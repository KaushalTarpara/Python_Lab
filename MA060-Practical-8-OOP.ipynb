{
 "cells": [
  {
   "cell_type": "markdown",
   "id": "f09565ef",
   "metadata": {},
   "source": [
    "<h1>Practical-8-OOP"
   ]
  },
  {
   "cell_type": "markdown",
   "id": "1c0a62d3",
   "metadata": {},
   "source": [
    "<h5>Name : Tarpara Kaushal\n",
    "<h5>Roll no : MA060"
   ]
  },
  {
   "cell_type": "markdown",
   "id": "e3b76ab1",
   "metadata": {},
   "source": [
    "<h3>1. Create a Calculator class with data members: operand1, operand2 and operator, and member functions: set(), add(), subtract(), multiply(), power(), and divide(). Show usage of class objects."
   ]
  },
  {
   "cell_type": "code",
   "execution_count": 1,
   "id": "185df55e",
   "metadata": {},
   "outputs": [
    {
     "name": "stdout",
     "output_type": "stream",
     "text": [
      "Addition: 8\n",
      "Subtraction: 6\n",
      "Multiplication: 42\n",
      "Power: 8\n",
      "Division: 4.0\n"
     ]
    }
   ],
   "source": [
    "class Calculator:\n",
    "    def set(self, operand1, operand2, operator):\n",
    "        self.operand1 = operand1\n",
    "        self.operand2 = operand2\n",
    "        self.operator = operator\n",
    "\n",
    "    def add(self):\n",
    "        return self.operand1 + self.operand2\n",
    "\n",
    "    def subtract(self):\n",
    "        return self.operand1 - self.operand2\n",
    "\n",
    "    def multiply(self):\n",
    "        return self.operand1 * self.operand2\n",
    "\n",
    "    def power(self):\n",
    "        return self.operand1 ** self.operand2\n",
    "\n",
    "    def divide(self):\n",
    "        if self.operand2 == 0:\n",
    "            return \"Cannot divide by zero\"\n",
    "        return self.operand1 / self.operand2\n",
    "\n",
    "calc = Calculator()\n",
    "\n",
    "calc.set(5, 3, '+')\n",
    "print(\"Addition:\", calc.add())\n",
    "\n",
    "calc.set(10, 4, '-')\n",
    "print(\"Subtraction:\", calc.subtract())\n",
    "\n",
    "calc.set(6, 7, '*')\n",
    "print(\"Multiplication:\", calc.multiply())\n",
    "\n",
    "calc.set(2, 3, '^')\n",
    "print(\"Power:\", calc.power())\n",
    "\n",
    "calc.set(8, 2, '/')\n",
    "print(\"Division:\", calc.divide())\n"
   ]
  },
  {
   "cell_type": "markdown",
   "id": "2c15ddde",
   "metadata": {},
   "source": [
    "<h3>2. Add constructor to the class Calculator"
   ]
  },
  {
   "cell_type": "code",
   "execution_count": 2,
   "id": "75cad0b9",
   "metadata": {},
   "outputs": [
    {
     "name": "stdout",
     "output_type": "stream",
     "text": [
      "Addition: 8\n",
      "Subtraction: 6\n",
      "Multiplication: 42\n",
      "Power: 8\n",
      "Division: 4.0\n"
     ]
    }
   ],
   "source": [
    "class Calculator:\n",
    "    def __init__(self, operand1, operand2, operator):\n",
    "        self.operand1 = operand1\n",
    "        self.operand2 = operand2\n",
    "        self.operator = operator\n",
    "\n",
    "    def add(self):\n",
    "        return self.operand1 + self.operand2\n",
    "\n",
    "    def subtract(self):\n",
    "        return self.operand1 - self.operand2\n",
    "\n",
    "    def multiply(self):\n",
    "        return self.operand1 * self.operand2\n",
    "\n",
    "    def power(self):\n",
    "        return self.operand1 ** self.operand2\n",
    "\n",
    "    def divide(self):\n",
    "        if self.operand2 == 0:\n",
    "            return \"Cannot divide by zero\"\n",
    "        return self.operand1 / self.operand2\n",
    "\n",
    "\n",
    "calc1 = Calculator(5, 3, '+')\n",
    "print(\"Addition:\", calc1.add())\n",
    "\n",
    "calc2 = Calculator(10, 4, '-')\n",
    "print(\"Subtraction:\", calc2.subtract())\n",
    "\n",
    "calc3 = Calculator(6, 7, '*')\n",
    "print(\"Multiplication:\", calc3.multiply())\n",
    "\n",
    "calc4 = Calculator(2, 3, '^')\n",
    "print(\"Power:\", calc4.power())\n",
    "\n",
    "calc5 = Calculator(8, 2, '/')\n",
    "print(\"Division:\", calc5.divide())\n"
   ]
  },
  {
   "cell_type": "markdown",
   "id": "d49860ba",
   "metadata": {},
   "source": [
    "<h3>3. Create a class Employee with data members: empno, name, gender, birthdate, da_rate, hra_rate, basic_salary, and member functions: constructor, set(), calc_da(), calc_hra(), calc_netsalary(). Assume suitable rates for da and hra."
   ]
  },
  {
   "cell_type": "code",
   "execution_count": 4,
   "id": "ccc7a11b",
   "metadata": {},
   "outputs": [
    {
     "name": "stdout",
     "output_type": "stream",
     "text": [
      "Employee Details:\n",
      "Employee Number: E101\n",
      "Name: Kaushal Tarpara\n",
      "Gender: Male\n",
      "Birthdate: 2002-01-15\n",
      "\n",
      "Salary Details:\n",
      "Basic Salary: 50000\n",
      "Dearness Allowance (DA): 7500.0\n",
      "House Rent Allowance (HRA): 5000.0\n",
      "Net Salary: 62500.0\n"
     ]
    }
   ],
   "source": [
    "class Employee:\n",
    "    def __init__(self, empno, name, gender, birthdate, basic_salary):\n",
    "        self.empno = empno\n",
    "        self.name = name\n",
    "        self.gender = gender\n",
    "        self.birthdate = birthdate\n",
    "        self.da_rate = 0.15  # Example DA rate (15%)\n",
    "        self.hra_rate = 0.1  # Example HRA rate (10%)\n",
    "        self.basic_salary = basic_salary\n",
    "\n",
    "    def set(self, empno, name, gender, birthdate, basic_salary):\n",
    "        self.empno = empno\n",
    "        self.name = name\n",
    "        self.gender = gender\n",
    "        self.birthdate = birthdate\n",
    "        self.basic_salary = basic_salary\n",
    "\n",
    "    def calc_da(self):\n",
    "        return self.basic_salary * self.da_rate\n",
    "\n",
    "    def calc_hra(self):\n",
    "        return self.basic_salary * self.hra_rate\n",
    "\n",
    "    def calc_netsalary(self):\n",
    "        da = self.calc_da()\n",
    "        hra = self.calc_hra()\n",
    "        gross_salary = self.basic_salary + da + hra\n",
    "        return gross_salary\n",
    "\n",
    "# Usage of the Employee class\n",
    "emp = Employee(\"E101\", \"Kaushal Tarpara\", \"Male\", \"2002-01-15\", 50000)\n",
    "\n",
    "print(\"Employee Details:\")\n",
    "print(\"Employee Number:\", emp.empno)\n",
    "print(\"Name:\", emp.name)\n",
    "print(\"Gender:\", emp.gender)\n",
    "print(\"Birthdate:\", emp.birthdate)\n",
    "\n",
    "print(\"\\nSalary Details:\")\n",
    "print(\"Basic Salary:\", emp.basic_salary)\n",
    "print(\"Dearness Allowance (DA):\", emp.calc_da())\n",
    "print(\"House Rent Allowance (HRA):\", emp.calc_hra())\n",
    "print(\"Net Salary:\", emp.calc_netsalary())\n"
   ]
  },
  {
   "cell_type": "markdown",
   "id": "cb681bcc",
   "metadata": {},
   "source": [
    "<h3>4. Create a class String with a data member str, and member functions: strlen(), toUpperCase(), toReverseCase(), reverse(), split(), and suppressAccessiveSpaces(). The split() should accept one character parameter and it should split the string accordingly."
   ]
  },
  {
   "cell_type": "code",
   "execution_count": 5,
   "id": "b5a1733b",
   "metadata": {},
   "outputs": [
    {
     "name": "stdout",
     "output_type": "stream",
     "text": [
      "Original String: Wake Up To Reality!\n",
      "Length of String: 19\n",
      "Uppercase String: WAKE UP TO REALITY!\n",
      "Reverse Case String: wAKE uP tO rEALITY!\n",
      "Reversed String: !ytilaeR oT pU ekaW\n",
      "Split String (by space): ['Wake', 'Up', 'To', 'Reality!']\n",
      "String with Suppressed Excessive Spaces: Wake Up To Reality!\n"
     ]
    }
   ],
   "source": [
    "class String:\n",
    "    def __init__(self, str_value):\n",
    "        self.str = str_value\n",
    "\n",
    "    def strlen(self):\n",
    "        return len(self.str)\n",
    "\n",
    "    def toUpperCase(self):\n",
    "        return self.str.upper()\n",
    "\n",
    "    def toReverseCase(self):\n",
    "        result = ''\n",
    "        for char in self.str:\n",
    "            if char.islower():\n",
    "                result += char.upper()\n",
    "            elif char.isupper():\n",
    "                result += char.lower()\n",
    "            else:\n",
    "                result += char\n",
    "        return result\n",
    "\n",
    "    def reverse(self):\n",
    "        return self.str[::-1]\n",
    "\n",
    "    def split(self, delimiter):\n",
    "        return self.str.split(delimiter)\n",
    "\n",
    "    def suppressExcessiveSpaces(self):\n",
    "        return ' '.join(self.str.split())\n",
    "\n",
    "# Usage of the String class\n",
    "input_str = \"Wake Up To Reality!\"\n",
    "string_obj = String(input_str)\n",
    "\n",
    "print(\"Original String:\", string_obj.str)\n",
    "print(\"Length of String:\", string_obj.strlen())\n",
    "print(\"Uppercase String:\", string_obj.toUpperCase())\n",
    "print(\"Reverse Case String:\", string_obj.toReverseCase())\n",
    "print(\"Reversed String:\", string_obj.reverse())\n",
    "print(\"Split String (by space):\", string_obj.split(' '))\n",
    "print(\"String with Suppressed Excessive Spaces:\", string_obj.suppressExcessiveSpaces())\n"
   ]
  },
  {
   "cell_type": "markdown",
   "id": "d98f711b",
   "metadata": {},
   "source": [
    "<h3>5. Create a constructor in the class Employee. Show usage of it."
   ]
  },
  {
   "cell_type": "code",
   "execution_count": 6,
   "id": "567dc63c",
   "metadata": {},
   "outputs": [
    {
     "name": "stdout",
     "output_type": "stream",
     "text": [
      "Employee Details:\n",
      "Employee Number: E101\n",
      "Name: Kaushal\n",
      "Gender: Male\n",
      "Birthdate: 2002-01-15\n",
      "\n",
      "Salary Details:\n",
      "Basic Salary: 50000\n",
      "Dearness Allowance (DA): 7500.0\n",
      "House Rent Allowance (HRA): 5000.0\n",
      "Net Salary: 62500.0\n"
     ]
    }
   ],
   "source": [
    "class Employee:\n",
    "    def __init__(self, empno, name, gender, birthdate, basic_salary):\n",
    "        self.empno = empno\n",
    "        self.name = name\n",
    "        self.gender = gender\n",
    "        self.birthdate = birthdate\n",
    "        self.basic_salary = basic_salary\n",
    "        self.da_rate = 0.15  # Example DA rate (15%)\n",
    "        self.hra_rate = 0.1  # Example HRA rate (10%)\n",
    "\n",
    "    def calc_da(self):\n",
    "        return self.basic_salary * self.da_rate\n",
    "\n",
    "    def calc_hra(self):\n",
    "        return self.basic_salary * self.hra_rate\n",
    "\n",
    "    def calc_netsalary(self):\n",
    "        da = self.calc_da()\n",
    "        hra = self.calc_hra()\n",
    "        gross_salary = self.basic_salary + da + hra\n",
    "        return gross_salary\n",
    "\n",
    "# Usage of the Employee class with constructor\n",
    "emp = Employee(\"E101\", \"Kaushal\", \"Male\", \"2002-01-15\", 50000)\n",
    "\n",
    "print(\"Employee Details:\")\n",
    "print(\"Employee Number:\", emp.empno)\n",
    "print(\"Name:\", emp.name)\n",
    "print(\"Gender:\", emp.gender)\n",
    "print(\"Birthdate:\", emp.birthdate)\n",
    "\n",
    "print(\"\\nSalary Details:\")\n",
    "print(\"Basic Salary:\", emp.basic_salary)\n",
    "print(\"Dearness Allowance (DA):\", emp.calc_da())\n",
    "print(\"House Rent Allowance (HRA):\", emp.calc_hra())\n",
    "print(\"Net Salary:\", emp.calc_netsalary())\n"
   ]
  },
  {
   "cell_type": "markdown",
   "id": "4cdc3a70",
   "metadata": {},
   "source": [
    "<h3>6. Experiment with method overloading. Explain your observations."
   ]
  },
  {
   "cell_type": "code",
   "execution_count": 7,
   "id": "fd1c900c",
   "metadata": {},
   "outputs": [
    {
     "name": "stdout",
     "output_type": "stream",
     "text": [
      "Result of add(2, 3, 4): 9\n"
     ]
    },
    {
     "ename": "TypeError",
     "evalue": "Calculator.add() missing 1 required positional argument: 'c'",
     "output_type": "error",
     "traceback": [
      "\u001b[1;31m---------------------------------------------------------------------------\u001b[0m",
      "\u001b[1;31mTypeError\u001b[0m                                 Traceback (most recent call last)",
      "Cell \u001b[1;32mIn[7], line 16\u001b[0m\n\u001b[0;32m     13\u001b[0m \u001b[38;5;28mprint\u001b[39m(\u001b[38;5;124m\"\u001b[39m\u001b[38;5;124mResult of add(2, 3, 4):\u001b[39m\u001b[38;5;124m\"\u001b[39m, result)\n\u001b[0;32m     15\u001b[0m \u001b[38;5;66;03m# If you try to call the first add method with two arguments, it will raise a TypeError\u001b[39;00m\n\u001b[1;32m---> 16\u001b[0m result \u001b[38;5;241m=\u001b[39m \u001b[43mcalc\u001b[49m\u001b[38;5;241;43m.\u001b[39;49m\u001b[43madd\u001b[49m\u001b[43m(\u001b[49m\u001b[38;5;241;43m2\u001b[39;49m\u001b[43m,\u001b[49m\u001b[43m \u001b[49m\u001b[38;5;241;43m3\u001b[39;49m\u001b[43m)\u001b[49m\n",
      "\u001b[1;31mTypeError\u001b[0m: Calculator.add() missing 1 required positional argument: 'c'"
     ]
    }
   ],
   "source": [
    "class Calculator:\n",
    "    def add(self, a, b):\n",
    "        return a + b\n",
    "\n",
    "    def add(self, a, b, c):\n",
    "        return a + b + c\n",
    "\n",
    "\n",
    "calc = Calculator()\n",
    "\n",
    "# The second add method with three arguments will override the first one\n",
    "result = calc.add(2, 3, 4)\n",
    "print(\"Result of add(2, 3, 4):\", result)\n",
    "\n",
    "# If we try to call the first add method with two arguments,\n",
    "# it will raise a TypeError\n",
    "result = calc.add(2, 3)  #TypeError\n"
   ]
  },
  {
   "cell_type": "markdown",
   "id": "518a6b26",
   "metadata": {},
   "source": [
    "<h3>7. Experiment with private/public members in class. Explain your observations."
   ]
  },
  {
   "cell_type": "code",
   "execution_count": 17,
   "id": "7053ac1a",
   "metadata": {},
   "outputs": [
    {
     "name": "stdout",
     "output_type": "stream",
     "text": [
      "Public Data Member:  public\n",
      "Private Data Member:  private\n",
      "Object is accessing public member: public\n"
     ]
    },
    {
     "ename": "AttributeError",
     "evalue": "'MemberDemo' object has no attribute '__var2'",
     "output_type": "error",
     "traceback": [
      "\u001b[1;31m---------------------------------------------------------------------------\u001b[0m",
      "\u001b[1;31mAttributeError\u001b[0m                            Traceback (most recent call last)",
      "Cell \u001b[1;32mIn[17], line 38\u001b[0m\n\u001b[0;32m     35\u001b[0m obj\u001b[38;5;241m.\u001b[39maccessPrivateMembers()\n\u001b[0;32m     37\u001b[0m \u001b[38;5;28mprint\u001b[39m(\u001b[38;5;124m\"\u001b[39m\u001b[38;5;124mObject is accessing public member:\u001b[39m\u001b[38;5;124m\"\u001b[39m, obj\u001b[38;5;241m.\u001b[39mvar1)\n\u001b[1;32m---> 38\u001b[0m \u001b[38;5;28mprint\u001b[39m(\u001b[38;5;124m\"\u001b[39m\u001b[38;5;124mObject is accessing private member:\u001b[39m\u001b[38;5;124m\"\u001b[39m, \u001b[43mobj\u001b[49m\u001b[38;5;241;43m.\u001b[39;49m\u001b[43m__var2\u001b[49m)\n",
      "\u001b[1;31mAttributeError\u001b[0m: 'MemberDemo' object has no attribute '__var2'"
     ]
    }
   ],
   "source": [
    "class MemberDemo:\n",
    "     \n",
    "     # public data member\n",
    "     var1 = None\n",
    " \n",
    "     # private data member\n",
    "     __var2 = None\n",
    "     \n",
    "     # constructor\n",
    "     def __init__(self, var1, var2): \n",
    "          self.var1 = var1\n",
    "          self.__var2 = var2\n",
    "          \n",
    "     \n",
    "    # public member function  \n",
    "     def displayPublicMembers(self):\n",
    "         print(\"Public Data Member: \", self.var1)\n",
    "        \n",
    "  \n",
    "     # private member function  \n",
    "     def __displayPrivateMembers(self):  \n",
    "          # accessing private data members\n",
    "          print(\"Private Data Member: \", self.__var2)\n",
    " \n",
    "     # public member function\n",
    "     def accessPrivateMembers(self):              \n",
    "          # accessing private member function\n",
    "          self.__displayPrivateMembers()\n",
    " \n",
    "# creating objects of the derived class    \n",
    "obj = MemberDemo(\"public\", \"private\")\n",
    " \n",
    "# calling public member functions of the class\n",
    "obj.displayPublicMembers()\n",
    "obj.accessPrivateMembers()\n",
    "\n",
    "print(\"Object is accessing public member:\", obj.var1)\n",
    "print(\"Object is accessing private member:\", obj.__var2)\n",
    " \n",
    "# object can not access private member, so it will generate Attribute error\n",
    "#print(obj.__var2)\n",
    "#obj.__displayPrivateMembers()"
   ]
  },
  {
   "cell_type": "code",
   "execution_count": null,
   "id": "9347ab3f",
   "metadata": {},
   "outputs": [],
   "source": []
  }
 ],
 "metadata": {
  "kernelspec": {
   "display_name": "Python 3 (ipykernel)",
   "language": "python",
   "name": "python3"
  },
  "language_info": {
   "codemirror_mode": {
    "name": "ipython",
    "version": 3
   },
   "file_extension": ".py",
   "mimetype": "text/x-python",
   "name": "python",
   "nbconvert_exporter": "python",
   "pygments_lexer": "ipython3",
   "version": "3.10.9"
  }
 },
 "nbformat": 4,
 "nbformat_minor": 5
}
