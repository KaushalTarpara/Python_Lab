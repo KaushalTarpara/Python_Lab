{
 "cells": [
  {
   "cell_type": "markdown",
   "id": "b2ea20b5",
   "metadata": {},
   "source": [
    "<h1>Practical-4-Working with User defined functions"
   ]
  },
  {
   "cell_type": "markdown",
   "id": "1e4b482b",
   "metadata": {},
   "source": [
    "<h3> Name : Tarpara Kaushal\n",
    "<h3> Roll No : MA060"
   ]
  },
  {
   "cell_type": "markdown",
   "id": "e301417e",
   "metadata": {},
   "source": [
    "<h1>Exercises"
   ]
  },
  {
   "cell_type": "markdown",
   "id": "c8bc797f",
   "metadata": {},
   "source": [
    "<h3>1. Create a function calcFactorial. It should accept one integer parameter. If the parameter is integer, the function should return factorial of the parameter, else the function should return -9999. Show usage of the function."
   ]
  },
  {
   "cell_type": "code",
   "execution_count": null,
   "id": "64712b08",
   "metadata": {},
   "outputs": [],
   "source": []
  },
  {
   "cell_type": "markdown",
   "id": "6d19c2ab",
   "metadata": {},
   "source": [
    "<h3>2. Create a function checkPrime. It should accept one integer parameter. If the parameter is not integer, the function should return -9999. The function should return True if the parameter is a prime number, else the function should return False. Show usage of the function."
   ]
  },
  {
   "cell_type": "code",
   "execution_count": null,
   "id": "0c5bc53a",
   "metadata": {},
   "outputs": [],
   "source": []
  },
  {
   "cell_type": "markdown",
   "id": "2224de07",
   "metadata": {},
   "source": [
    "<h3>3. Create a function countVowelsFrequencies. The function should accept one string parameter and return frequency of each vowel present in the parameter."
   ]
  },
  {
   "cell_type": "code",
   "execution_count": null,
   "id": "2a946868",
   "metadata": {},
   "outputs": [],
   "source": []
  },
  {
   "cell_type": "markdown",
   "id": "ada9aa81",
   "metadata": {},
   "source": [
    "<h3>4. Create a function factorials which accepts a list of integers. The function should compute factorial for all list elements (use calcFactorial() from above sr# 1), and return all factorial values."
   ]
  },
  {
   "cell_type": "code",
   "execution_count": null,
   "id": "d38227f8",
   "metadata": {},
   "outputs": [],
   "source": []
  },
  {
   "cell_type": "markdown",
   "id": "77d8232e",
   "metadata": {},
   "source": [
    "<h3>5. Create a function calcSimpleInterest() to compute simple interest of three paramters: principal_amount, duration, rate_of_interest. Demonstrate usage of default arguments in function call."
   ]
  },
  {
   "cell_type": "code",
   "execution_count": null,
   "id": "2fa6f09f",
   "metadata": {},
   "outputs": [],
   "source": []
  },
  {
   "cell_type": "markdown",
   "id": "5e09923e",
   "metadata": {},
   "source": [
    "<h3>6. Create a function printMultiplicationTable(). The function should receive an integer parameter and print multiplication table of the same."
   ]
  },
  {
   "cell_type": "code",
   "execution_count": null,
   "id": "85e50d78",
   "metadata": {},
   "outputs": [],
   "source": []
  },
  {
   "cell_type": "markdown",
   "id": "ed1b82f3",
   "metadata": {},
   "source": [
    "<h3>7. Create a function toUpper() to convert a string parameter in upper case and return the same. Do not use inbuilt function."
   ]
  },
  {
   "cell_type": "code",
   "execution_count": null,
   "id": "a37f2fd4",
   "metadata": {},
   "outputs": [],
   "source": []
  },
  {
   "cell_type": "markdown",
   "id": "34c19bde",
   "metadata": {},
   "source": [
    "<h3>8. Create a function removeWhiteSpaceFromString() to remove white space from a string parameter."
   ]
  },
  {
   "cell_type": "code",
   "execution_count": null,
   "id": "13f25554",
   "metadata": {},
   "outputs": [],
   "source": []
  },
  {
   "cell_type": "markdown",
   "id": "5784f4c9",
   "metadata": {},
   "source": [
    "<h3>9. Create a function reverseString() to reverse a string parameter. Do not use inbuilt function."
   ]
  },
  {
   "cell_type": "code",
   "execution_count": null,
   "id": "01d47ed1",
   "metadata": {},
   "outputs": [],
   "source": []
  },
  {
   "cell_type": "markdown",
   "id": "1cf166a3",
   "metadata": {},
   "source": [
    "<h3>10. Create a function checkSquare(), which accepts lengths of four sides of a rectangle; and checks if rectangle is square or not."
   ]
  },
  {
   "cell_type": "code",
   "execution_count": null,
   "id": "97512e8c",
   "metadata": {},
   "outputs": [],
   "source": []
  }
 ],
 "metadata": {
  "kernelspec": {
   "display_name": "Python 3 (ipykernel)",
   "language": "python",
   "name": "python3"
  },
  "language_info": {
   "codemirror_mode": {
    "name": "ipython",
    "version": 3
   },
   "file_extension": ".py",
   "mimetype": "text/x-python",
   "name": "python",
   "nbconvert_exporter": "python",
   "pygments_lexer": "ipython3",
   "version": "3.10.9"
  }
 },
 "nbformat": 4,
 "nbformat_minor": 5
}
