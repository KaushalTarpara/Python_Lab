{
 "cells": [
  {
   "cell_type": "markdown",
   "id": "0dc77735",
   "metadata": {},
   "source": [
    "<h1>Practical-4-Working with User defined functions"
   ]
  },
  {
   "cell_type": "markdown",
   "id": "abe1fa3a",
   "metadata": {},
   "source": [
    "<h3> Name : Tarpara Kaushal\n",
    "<h3> Roll No : MA060"
   ]
  },
  {
   "cell_type": "markdown",
   "id": "089e413c",
   "metadata": {},
   "source": [
    "<h1>Exercises"
   ]
  },
  {
   "cell_type": "markdown",
   "id": "039d21bf",
   "metadata": {},
   "source": [
    "<h3>1. Create a function calcFactorial. It should accept one integer parameter. If the parameter is integer, the function should return factorial of the parameter, else the function should return -9999. Show usage of the function."
   ]
  },
  {
   "cell_type": "code",
   "execution_count": 13,
   "id": "c8692896",
   "metadata": {},
   "outputs": [
    {
     "name": "stdout",
     "output_type": "stream",
     "text": [
      "Enter Value : 4\n",
      "<class 'int'>\n",
      "Factorial Is= 24\n"
     ]
    }
   ],
   "source": [
    "def calcFactorial(num1):\n",
    "    if type(num1)==int:\n",
    "        fact=1\n",
    "        for i in range(1,num1+1):\n",
    "            fact=fact*i\n",
    "        return fact\n",
    "         \n",
    "    else:\n",
    "        return -9999\n",
    "    \n",
    "no=int(input(\"Enter Value : \"))\n",
    "ans=calcFactorial(no)\n",
    "print(\"Factorial Is=\",ans)"
   ]
  },
  {
   "cell_type": "markdown",
   "id": "26ea38af",
   "metadata": {},
   "source": [
    "<h3>2. Create a function checkPrime. It should accept one integer parameter. If the parameter is not integer, the function should return -9999. The function should return True if the parameter is a prime number, else the function should return False. Show usage of the function."
   ]
  },
  {
   "cell_type": "code",
   "execution_count": null,
   "id": "e6e8aa8f",
   "metadata": {},
   "outputs": [],
   "source": [
    "def checkPrime(no2):\n",
    "    if type(no2)!=int:\n",
    "        return -9999\n",
    "    else:\n",
    "        cnt = 0\n",
    "        i = 2\n",
    "        while(i <= no2/2):\n",
    "            if(no2 % i) == 0:\n",
    "                cnt = cnt + 1\n",
    "                break;\n",
    "            i=i+1   \n",
    "    if(cnt == 0 and no2 != 1):\n",
    "        return True\n",
    "    else:\n",
    "        return False\n",
    "    \n",
    "pri=int(input(\"Enter Number :\"))\n",
    "ans=checkPrime(pri)\n",
    "print(ans)"
   ]
  },
  {
   "cell_type": "markdown",
   "id": "cc78470f",
   "metadata": {},
   "source": [
    "<h3>3. Create a function countVowelsFrequencies. The function should accept one string parameter and return frequency of each vowel present in the parameter."
   ]
  },
  {
   "cell_type": "code",
   "execution_count": 30,
   "id": "e27a37bc",
   "metadata": {},
   "outputs": [
    {
     "name": "stdout",
     "output_type": "stream",
     "text": [
      "Frequency of each vowel:\n",
      "a  :  2\n",
      "e  :  6\n",
      "i  :  2\n",
      "o  :  3\n",
      "u  :  3\n"
     ]
    }
   ],
   "source": [
    "def countVowelsFrequencies(str):\n",
    "    vowels = 'aeiou'\n",
    "    vowel_count_dic= {vowel: 0 for vowel in vowels}\n",
    "\n",
    "    for char in str:\n",
    "        if char in vowel_count_dic:\n",
    "            vowel_count_dic[char] += 1\n",
    "\n",
    "    return vowel_count_dic\n",
    "\n",
    "input_string = \"Create a function countVowelsFrequencies\"\n",
    "result = countVowelsFrequencies(input_string)\n",
    "\n",
    "print(\"Frequency of each vowel:\")\n",
    "for vowel, count in result.items():\n",
    "    print(vowel,\" : \",count)"
   ]
  },
  {
   "cell_type": "markdown",
   "id": "f4c94e4a",
   "metadata": {},
   "source": [
    "<h3>4. Create a function factorials which accepts a list of integers. The function should compute factorial for all list elements (use calcFactorial() from above sr# 1), and return all factorial values."
   ]
  },
  {
   "cell_type": "code",
   "execution_count": 15,
   "id": "a50b1e18",
   "metadata": {},
   "outputs": [
    {
     "name": "stdout",
     "output_type": "stream",
     "text": [
      "[1, 2, 6, 24, 120]\n",
      "1\n",
      "2\n",
      "6\n",
      "24\n",
      "120\n"
     ]
    }
   ],
   "source": [
    "def factorials(lst):\n",
    "    ls=[]\n",
    "    for i in lst:\n",
    "        ls.append(calcFactorial(i))\n",
    "    return ls\n",
    "\n",
    "ans=factorials([1,2,3,4,5])\n",
    "type(ans)\n",
    "print(ans)\n",
    "print(ans[0])\n",
    "print(ans[1])\n",
    "print(ans[2])\n",
    "print(ans[3])\n",
    "print(ans[4])"
   ]
  },
  {
   "cell_type": "markdown",
   "id": "eb6beec9",
   "metadata": {},
   "source": [
    "<h3>5. Create a function calcSimpleInterest() to compute simple interest of three paramters: principal_amount, duration, rate_of_interest. Demonstrate usage of default arguments in function call."
   ]
  },
  {
   "cell_type": "code",
   "execution_count": 6,
   "id": "7268d1ed",
   "metadata": {},
   "outputs": [
    {
     "name": "stdout",
     "output_type": "stream",
     "text": [
      "500.0\n",
      "500.0\n"
     ]
    }
   ],
   "source": [
    "def calcSimpleIntrest(p,r,n=5):\n",
    "    return (p*r*n)/100\n",
    "\n",
    "\n",
    "print(calcSimpleIntrest(1000,10,5))\n",
    "print(calcSimpleIntrest(1000,10))\n"
   ]
  },
  {
   "cell_type": "markdown",
   "id": "21279b45",
   "metadata": {},
   "source": [
    "<h3>6. Create a function printMultiplicationTable(). The function should receive an integer parameter and print multiplication table of the same."
   ]
  },
  {
   "cell_type": "code",
   "execution_count": 3,
   "id": "bf2dc5bc",
   "metadata": {},
   "outputs": [
    {
     "name": "stdout",
     "output_type": "stream",
     "text": [
      "Enter Number : 4\n",
      "4 * 1 = 4\n",
      "4 * 2 = 8\n",
      "4 * 3 = 12\n",
      "4 * 4 = 16\n",
      "4 * 5 = 20\n",
      "4 * 6 = 24\n",
      "4 * 7 = 28\n",
      "4 * 8 = 32\n",
      "4 * 9 = 36\n",
      "4 * 10 = 40\n"
     ]
    }
   ],
   "source": [
    "def printMultiplicationTable(no):\n",
    "    n=1\n",
    "    while n<=10:\n",
    "        print(no,\"*\",n,\"=\",(no*n))\n",
    "        n=n+1\n",
    "        \n",
    "n=int(input(\"Enter Number : \"))\n",
    "printMultiplicationTable(n)"
   ]
  },
  {
   "cell_type": "markdown",
   "id": "2dc271f2",
   "metadata": {},
   "source": [
    "<h3>7. Create a function toUpper() to convert a string parameter in upper case and return the same. Do not use inbuilt function."
   ]
  },
  {
   "cell_type": "code",
   "execution_count": 1,
   "id": "424c1059",
   "metadata": {},
   "outputs": [
    {
     "name": "stdout",
     "output_type": "stream",
     "text": [
      "HELLO\n"
     ]
    }
   ],
   "source": [
    "def toUpper(str):\n",
    "    y=\"\"\n",
    "    for i in range (0,len(str)):\n",
    "        x=ord(str[i])\n",
    "        if x>=97 and x<=122:\n",
    "            x=x-32\n",
    "            y=y+chr(x)\n",
    "    return y\n",
    "\n",
    "ans=toUpper(\"hello\")\n",
    "print(ans)"
   ]
  },
  {
   "cell_type": "markdown",
   "id": "362ba677",
   "metadata": {},
   "source": [
    "<h3>8. Create a function removeWhiteSpaceFromString() to remove white space from a string parameter."
   ]
  },
  {
   "cell_type": "code",
   "execution_count": 18,
   "id": "6743e175",
   "metadata": {},
   "outputs": [
    {
     "name": "stdout",
     "output_type": "stream",
     "text": [
      "String without white spaces: StringwithWhitespace\n"
     ]
    }
   ],
   "source": [
    "def removeWhiteSpaceFromString(str):\n",
    "    return ''.join(str.split())\n",
    "\n",
    "str = \"String with White space\"\n",
    "result = removeWhiteSpaceFromString(str)\n",
    "\n",
    "print(\"String without white spaces:\", result)"
   ]
  },
  {
   "cell_type": "markdown",
   "id": "5d9831ef",
   "metadata": {},
   "source": [
    "<h3>9. Create a function reverseString() to reverse a string parameter. Do not use inbuilt function."
   ]
  },
  {
   "cell_type": "code",
   "execution_count": 21,
   "id": "c8fff61b",
   "metadata": {},
   "outputs": [
    {
     "name": "stdout",
     "output_type": "stream",
     "text": [
      "gnirtS esreveR\n"
     ]
    }
   ],
   "source": [
    "def reverseString(str):\n",
    "    return str[::-1]\n",
    "\n",
    "str = \"Reverse String\"\n",
    "rev_str = reverseString(str)\n",
    "print(rev_str)"
   ]
  },
  {
   "cell_type": "markdown",
   "id": "fbc5c2de",
   "metadata": {},
   "source": [
    "<h3>10. Create a function checkSquare(), which accepts lengths of four sides of a rectangle; and checks if rectangle is square or not."
   ]
  },
  {
   "cell_type": "code",
   "execution_count": 23,
   "id": "894d565e",
   "metadata": {},
   "outputs": [
    {
     "name": "stdout",
     "output_type": "stream",
     "text": [
      "True\n",
      "False\n"
     ]
    }
   ],
   "source": [
    "def checkSquare(a, b, c, d):\n",
    "    if a == b == c == d:\n",
    "        return True\n",
    "    else:\n",
    "        return False\n",
    "\n",
    "print(checkSquare(4,4,4,4))\n",
    "print(checkSquare(4,4,4,0))"
   ]
  },
  {
   "cell_type": "code",
   "execution_count": null,
   "id": "5d152abc",
   "metadata": {},
   "outputs": [],
   "source": []
  }
 ],
 "metadata": {
  "kernelspec": {
   "display_name": "Python 3 (ipykernel)",
   "language": "python",
   "name": "python3"
  },
  "language_info": {
   "codemirror_mode": {
    "name": "ipython",
    "version": 3
   },
   "file_extension": ".py",
   "mimetype": "text/x-python",
   "name": "python",
   "nbconvert_exporter": "python",
   "pygments_lexer": "ipython3",
   "version": "3.10.9"
  }
 },
 "nbformat": 4,
 "nbformat_minor": 5
}
