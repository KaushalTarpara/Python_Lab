{
 "cells": [
  {
   "cell_type": "markdown",
   "id": "63935676",
   "metadata": {},
   "source": [
    "<h1>Practical-5-SupplementaryExcercises"
   ]
  },
  {
   "cell_type": "markdown",
   "id": "720b3f64",
   "metadata": {},
   "source": [
    "<h5>Name : Tarpara Kaushal\n",
    "<h5>Roll no : MA060"
   ]
  },
  {
   "cell_type": "markdown",
   "id": "814eadfe",
   "metadata": {},
   "source": [
    "<h4>1. Create a recursive function calcFactorial() to compute factorial of a parameter. Using the calcFactorial(), display factorial of only numeric command line variable number of arguments. "
   ]
  },
  {
   "cell_type": "code",
   "execution_count": 13,
   "id": "899a50d8",
   "metadata": {},
   "outputs": [
    {
     "name": "stdout",
     "output_type": "stream",
     "text": [
      "Factorial of 3 is 6\n",
      "Factorial of 5 is 120\n",
      "Factorial of 2 is 2\n",
      "Factorial of 4 is 24\n"
     ]
    }
   ],
   "source": [
    "import sys\n",
    "\n",
    "def calcFactorial(n):\n",
    "    if n == 0 or n == 1:\n",
    "        return 1\n",
    "    else:\n",
    "        return n * calcFactorial(n - 1)\n",
    "\n",
    "# for i in range(1, len(sys.argv)):\n",
    "#     if(type(arg[i]) == int):\n",
    "#         num = int(sys.argv[i])\n",
    "#         result = calcFactorial(num)\n",
    "#         print(f\"Factorial of {num} is {result}\")\n",
    "\n",
    "arg = [3,5,2,'py',4]\n",
    "for i in range(0, len(arg)):\n",
    "    if(type(arg[i]) == int):\n",
    "        num = int(arg[i])\n",
    "        result = calcFactorial(num)\n",
    "        print(f\"Factorial of {num} is {result}\")\n"
   ]
  },
  {
   "cell_type": "markdown",
   "id": "61dcb5e1",
   "metadata": {},
   "source": [
    "<h4> 2. Create functions add(), subtract(), multiply(), divide(), power() - each of them should accepct two number parameters and return appropriate answer as per the name of respective funtion. Create a function calculate() which should accpet three parameters: 'operand1', 'operand2', and 'operator'. Based on the value of the formal parameter 'operator' (+,-,*,/,^), the function calculate() should invoke relevant function from: add(), subtract(), etc. Demonstrate usage of: positional arguments, keyword arguments and default arguments. "
   ]
  },
  {
   "cell_type": "code",
   "execution_count": 14,
   "id": "35d99a0a",
   "metadata": {},
   "outputs": [
    {
     "name": "stdout",
     "output_type": "stream",
     "text": [
      "Positional Arguments:\n",
      "Addition: 8\n",
      "Subtraction: 6\n",
      "\n",
      "Keyword Arguments:\n",
      "Multiplication: 48\n",
      "Division: 8.0\n",
      "\n",
      "Default Arguments:\n",
      "Power: 8\n",
      "Division: Cannot divide by zero\n"
     ]
    }
   ],
   "source": [
    "def add(a, b):\n",
    "    return a + b\n",
    "\n",
    "def subtract(a, b):\n",
    "    return a - b\n",
    "\n",
    "def multiply(a, b):\n",
    "    return a * b\n",
    "\n",
    "def divide(a, b):\n",
    "    if b != 0:\n",
    "        return a / b\n",
    "    else:\n",
    "        return \"Cannot divide by zero\"\n",
    "\n",
    "def power(a, b):\n",
    "    return a ** b\n",
    "\n",
    "def calculate(operand1, operand2, operator):\n",
    "    if operator == \"+\":\n",
    "        return add(operand1, operand2)\n",
    "    elif operator == \"-\":\n",
    "        return subtract(operand1, operand2)\n",
    "    elif operator == \"*\":\n",
    "        return multiply(operand1, operand2)\n",
    "    elif operator == \"/\":\n",
    "        return divide(operand1, operand2)\n",
    "    elif operator == \"^\":\n",
    "        return power(operand1, operand2)\n",
    "    else:\n",
    "        return \"Invalid operator\"\n",
    "\n",
    "print(\"Positional Arguments:\")\n",
    "print(\"Addition:\", calculate(5, 3, \"+\"))\n",
    "print(\"Subtraction:\", calculate(10, 4, \"-\"))\n",
    "\n",
    "print(\"\\nKeyword Arguments:\")\n",
    "print(\"Multiplication:\", calculate(operand1=6, operand2=8, operator=\"*\"))\n",
    "print(\"Division:\", calculate(operand2=2, operator=\"/\", operand1=16))\n",
    "\n",
    "print(\"\\nDefault Arguments:\")\n",
    "print(\"Power:\", calculate(2, 3, \"^\"))\n",
    "print(\"Division:\", calculate(operand1=10, operand2=0, operator=\"/\"))\n"
   ]
  },
  {
   "cell_type": "markdown",
   "id": "95829705",
   "metadata": {},
   "source": [
    "<h4> 3. Create following string manipulation functions without using inbuilt functions:\n",
    "        <ul>\n",
    "            <li> toLowerCase(str): returns the parameter str in lower case\n",
    "            <li> toUpperCase(str): returns the parameter str in upper case\n",
    "            <li> toInitCap(str): returns the parameter str in sentence case\n",
    "            <li> strlen(str): returns length of the parameter str\n",
    "            <li> reverse(str): returns reverse of the paraeter str\n",
    "            <li> countVowelsFrequencies(str): returns frequency of each vowel in the parameter str\n",
    "            <li> search(str,substr): return index of first occurence of substr in str\n",
    "            <li> searchMultiple(str,substr): return indices of each occurence of substr in str\n",
    "            <li> remove(str,substr): remove first occurence of substr from str; return the resultant object\n",
    "            <li> removeMultiple(str,substr): remove all occurences of substr from str; return the resultant object\n",
    "        </ul>"
   ]
  },
  {
   "cell_type": "code",
   "execution_count": 16,
   "id": "87ee9de2",
   "metadata": {},
   "outputs": [
    {
     "name": "stdout",
     "output_type": "stream",
     "text": [
      "Original String: Hello Python\n",
      "Lower Case: hello python\n",
      "Upper Case: HELLO PYTHON\n",
      "Sentence Case: Hello Python\n",
      "Length: 12\n",
      "Reversed: nohtyP olleH\n",
      "Vowel Frequencies: {'a': 0, 'e': 1, 'i': 0, 'o': 2, 'u': 0}\n",
      "Search: 2\n",
      "Search Multiple: [2, 3]\n",
      "Remove: Helo Python\n",
      "Remove Multiple: Heo Python\n"
     ]
    }
   ],
   "source": [
    "def toLowerCase(s):\n",
    "    result = ''\n",
    "    for char in s:\n",
    "        if 'A' <= char <= 'Z':\n",
    "            result += chr(ord(char) + 32)\n",
    "        else:\n",
    "            result += char\n",
    "    return result\n",
    "\n",
    "def toUpperCase(s):\n",
    "    result = ''\n",
    "    for char in s:\n",
    "        if 'a' <= char <= 'z':\n",
    "            result += chr(ord(char) - 32)\n",
    "        else:\n",
    "            result += char\n",
    "    return result\n",
    "\n",
    "def toInitCap(s):\n",
    "    result = ''\n",
    "    capitalize = True\n",
    "    for char in s:\n",
    "        if char == ' ':\n",
    "            capitalize = True\n",
    "            result += char\n",
    "        elif capitalize:\n",
    "            result += char.upper()\n",
    "            capitalize = False\n",
    "        else:\n",
    "            result += char.lower()\n",
    "    return result\n",
    "\n",
    "def strlen(s):\n",
    "    length = 0\n",
    "    for char in s:\n",
    "        length += 1\n",
    "    return length\n",
    "\n",
    "def reverse(s):\n",
    "    result = ''\n",
    "    for char in s:\n",
    "        result = char + result\n",
    "    return result\n",
    "\n",
    "def countVowelsFrequencies(s):\n",
    "    vowels = 'aeiou'\n",
    "    frequencies = {vowel: 0 for vowel in vowels}\n",
    "    for char in s:\n",
    "        if char.lower() in vowels:\n",
    "            frequencies[char.lower()] += 1\n",
    "    return frequencies\n",
    "\n",
    "def search(s, substr):\n",
    "    for i in range(len(s) - len(substr) + 1):\n",
    "        if s[i:i+len(substr)] == substr:\n",
    "            return i\n",
    "    return -1\n",
    "\n",
    "def searchMultiple(s, substr):\n",
    "    indices = []\n",
    "    for i in range(len(s) - len(substr) + 1):\n",
    "        if s[i:i+len(substr)] == substr:\n",
    "            indices.append(i)\n",
    "    return indices\n",
    "\n",
    "def remove(s, substr):\n",
    "    index = search(s, substr)\n",
    "    if index != -1:\n",
    "        return s[:index] + s[index+len(substr):]\n",
    "    return s\n",
    "\n",
    "def removeMultiple(s, substr):\n",
    "    while search(s, substr) != -1:\n",
    "        s = remove(s, substr)\n",
    "    return s\n",
    "\n",
    "\n",
    "string = \"Hello Python\"\n",
    "substring = \"l\"\n",
    "print(\"Original String:\", string)\n",
    "print(\"Lower Case:\", toLowerCase(string))\n",
    "print(\"Upper Case:\", toUpperCase(string))\n",
    "print(\"Sentence Case:\", toInitCap(string))\n",
    "print(\"Length:\", strlen(string))\n",
    "print(\"Reversed:\", reverse(string))\n",
    "print(\"Vowel Frequencies:\", countVowelsFrequencies(string))\n",
    "print(\"Search:\", search(string, substring))\n",
    "print(\"Search Multiple:\", searchMultiple(string, substring))\n",
    "print(\"Remove:\", remove(string, substring))\n",
    "print(\"Remove Multiple:\", removeMultiple(string, substring))\n"
   ]
  },
  {
   "cell_type": "markdown",
   "id": "63b59366",
   "metadata": {},
   "source": [
    "<h4> 4. Create the following functionality:\n",
    "        <ul>\n",
    "            <li> Create a function dynamicFilter() such that\n",
    "            <li> It should be capable to accept an unknown number of parameters\n",
    "            <li> It should return the parameters in various groups based on the type of parameters; \n",
    "e.g.: integers, floats, strings =dynamicFilter(-1,\"create\",7,\"work\",-9.7,9,...)  \n",
    "        </ul>"
   ]
  },
  {
   "cell_type": "code",
   "execution_count": 17,
   "id": "96acd0ea",
   "metadata": {},
   "outputs": [
    {
     "name": "stdout",
     "output_type": "stream",
     "text": [
      "Integers: [-1, 7, 9]\n",
      "Floats: [-9.7, 3.14]\n",
      "Strings: ['create', 'work', 'example']\n",
      "Others: [None]\n"
     ]
    }
   ],
   "source": [
    "def dynamicFilter(*args):\n",
    "    result = {\n",
    "        'integers': [],\n",
    "        'floats': [],\n",
    "        'strings': [],\n",
    "        'others': []\n",
    "    }\n",
    "    \n",
    "    for item in args:\n",
    "        if isinstance(item, int):\n",
    "            result['integers'].append(item)\n",
    "        elif isinstance(item, float):\n",
    "            result['floats'].append(item)\n",
    "        elif isinstance(item, str):\n",
    "            result['strings'].append(item)\n",
    "        else:\n",
    "            result['others'].append(item)\n",
    "    \n",
    "    return result\n",
    "\n",
    "\n",
    "filtered_data = dynamicFilter(-1, \"create\", 7, \"work\", -9.7, 9, \"example\", 3.14, None)\n",
    "print(\"Integers:\", filtered_data['integers'])\n",
    "print(\"Floats:\", filtered_data['floats'])\n",
    "print(\"Strings:\", filtered_data['strings'])\n",
    "print(\"Others:\", filtered_data['others'])\n"
   ]
  },
  {
   "cell_type": "markdown",
   "id": "e8b70ad8",
   "metadata": {},
   "source": [
    "<h4> 5. Develop appropriate functions to implement following functionality without using inbuilt functions:\n",
    "        <ul> \n",
    "            <li> reverseInt(int): returns reverse of the parameter int\n",
    "            <li> upperCeil(int): return upper ceiling int of the parameter int\n",
    "            <li> bottomCeil(int): return bottom ceiling int of the parameter int\n",
    "            <li> round(int,n): return the parameter int rounded to n positions"
   ]
  },
  {
   "cell_type": "code",
   "execution_count": 18,
   "id": "42a5a821",
   "metadata": {},
   "outputs": [
    {
     "name": "stdout",
     "output_type": "stream",
     "text": [
      "Original Number: 12345\n",
      "Reversed: 54321\n",
      "Upper Ceiling: 12345\n",
      "Bottom Ceiling: 12346\n",
      "Rounded to 2 decimal places: 12345.0\n"
     ]
    }
   ],
   "source": [
    "def reverseInt(num):\n",
    "    reversed_num = 0\n",
    "    negative = False\n",
    "    if num < 0:\n",
    "        negative = True\n",
    "        num = -num\n",
    "\n",
    "    while num > 0:\n",
    "        last_digit = num % 10\n",
    "        reversed_num = reversed_num * 10 + last_digit\n",
    "        num //= 10\n",
    "\n",
    "    return -reversed_num if negative else reversed_num\n",
    "\n",
    "def upperCeil(num):\n",
    "    if num > 0 and num % 1 != 0:\n",
    "        return int(num) + 1\n",
    "    return int(num)\n",
    "\n",
    "def bottomCeil(num):\n",
    "    return int(num) + 1\n",
    "\n",
    "def roundNumber(num, n):\n",
    "    factor = 10 ** n\n",
    "    return int(num * factor + 0.5) / factor\n",
    "\n",
    "number = 12345\n",
    "print(\"Original Number:\", number)\n",
    "print(\"Reversed:\", reverseInt(number))\n",
    "print(\"Upper Ceiling:\", upperCeil(number))\n",
    "print(\"Bottom Ceiling:\", bottomCeil(number))\n",
    "print(\"Rounded to 2 decimal places:\", roundNumber(number, 2))\n"
   ]
  },
  {
   "cell_type": "markdown",
   "id": "75bbb530",
   "metadata": {},
   "source": [
    "<h4> 6. How to use map(), reduce() and lambda? Give at least four examples of each."
   ]
  },
  {
   "cell_type": "markdown",
   "id": "d87908b7",
   "metadata": {},
   "source": [
    "<h5> a) map()\n",
    "    "
   ]
  },
  {
   "cell_type": "code",
   "execution_count": 24,
   "id": "db8bb433",
   "metadata": {},
   "outputs": [
    {
     "name": "stdout",
     "output_type": "stream",
     "text": [
      "[2, 4, 6, 8, 10]\n"
     ]
    }
   ],
   "source": [
    "# Doubling numbers using map() and a simple function:\n",
    "numbers = [1, 2, 3, 4, 5]\n",
    "doubled = list(map(lambda x: x * 2, numbers))\n",
    "print(doubled)"
   ]
  },
  {
   "cell_type": "code",
   "execution_count": 26,
   "id": "c5aa83f4",
   "metadata": {},
   "outputs": [
    {
     "name": "stdout",
     "output_type": "stream",
     "text": [
      "[32.0, 68.0, 98.6, 212.0]\n"
     ]
    }
   ],
   "source": [
    "# Converting temperatures from Celsius to Fahrenheit using map() and a conversion function:\n",
    "celsius_temps = [0, 20, 37, 100]\n",
    "fahrenheit_temps = list(map(lambda c: c * 9/5 + 32, celsius_temps))\n",
    "print(fahrenheit_temps)"
   ]
  },
  {
   "cell_type": "code",
   "execution_count": 25,
   "id": "8c688a5d",
   "metadata": {},
   "outputs": [
    {
     "name": "stdout",
     "output_type": "stream",
     "text": [
      "['Hello', 'World', 'Python']\n"
     ]
    }
   ],
   "source": [
    "# Capitalizing words using map() and a built-in function:\n",
    "words = ['hello', 'world', 'python']\n",
    "capitalized = list(map(str.capitalize, words))\n",
    "print(capitalized)\n"
   ]
  },
  {
   "cell_type": "code",
   "execution_count": 28,
   "id": "a6067a21",
   "metadata": {},
   "outputs": [
    {
     "name": "stdout",
     "output_type": "stream",
     "text": [
      "[4, 9, 16, 25]\n"
     ]
    }
   ],
   "source": [
    "# Squaring numbers using map() and a user-defined function:\n",
    "def square(x):\n",
    "    return x ** 2\n",
    "\n",
    "numbers = [2, 3, 4, 5]\n",
    "squared = list(map(square, numbers))\n",
    "print(squared)\n"
   ]
  },
  {
   "cell_type": "markdown",
   "id": "e333f299",
   "metadata": {},
   "source": [
    "<h5>b) reduce()"
   ]
  },
  {
   "cell_type": "code",
   "execution_count": 33,
   "id": "9b4e603f",
   "metadata": {},
   "outputs": [
    {
     "name": "stdout",
     "output_type": "stream",
     "text": [
      "15\n"
     ]
    }
   ],
   "source": [
    "# from functools import reduce\n",
    "from functools import reduce\n",
    "numbers = [1, 2, 3, 4, 5]\n",
    "sum_result = reduce(lambda x, y: x + y, numbers)\n",
    "print(sum_result)"
   ]
  },
  {
   "cell_type": "code",
   "execution_count": 34,
   "id": "6d2a479b",
   "metadata": {},
   "outputs": [
    {
     "name": "stdout",
     "output_type": "stream",
     "text": [
      "11\n"
     ]
    }
   ],
   "source": [
    "# Finding the maximum element in a list using reduce():\n",
    "numbers = [5, 8, 3, 11, 6]\n",
    "max_result = reduce(lambda x, y: x if x > y else y, numbers)\n",
    "print(max_result)\n"
   ]
  },
  {
   "cell_type": "code",
   "execution_count": 35,
   "id": "ac2bd19c",
   "metadata": {},
   "outputs": [
    {
     "name": "stdout",
     "output_type": "stream",
     "text": [
      "Hello, world!\n"
     ]
    }
   ],
   "source": [
    "# Concatenating strings in a list using reduce():\n",
    "strings = ['Hello', ', ', 'world', '!']\n",
    "concatenated = reduce(lambda x, y: x + y, strings)\n",
    "print(concatenated)\n"
   ]
  },
  {
   "cell_type": "code",
   "execution_count": 37,
   "id": "82a520a4",
   "metadata": {},
   "outputs": [
    {
     "name": "stdout",
     "output_type": "stream",
     "text": [
      "120\n"
     ]
    }
   ],
   "source": [
    "# Calculating the product of a list of numbers using reduce():\n",
    "numbers = [2, 3, 4, 5]\n",
    "product_result = reduce(lambda x, y: x * y, numbers)\n",
    "print(product_result)"
   ]
  },
  {
   "cell_type": "markdown",
   "id": "258b4837",
   "metadata": {},
   "source": [
    "<h5>c) lambda"
   ]
  },
  {
   "cell_type": "code",
   "execution_count": 39,
   "id": "e733510d",
   "metadata": {},
   "outputs": [
    {
     "name": "stdout",
     "output_type": "stream",
     "text": [
      "8\n"
     ]
    }
   ],
   "source": [
    "# Adding two numbers using a lambda function:\n",
    "add = lambda x, y: x + y\n",
    "result = add(5, 3)\n",
    "print(result) "
   ]
  },
  {
   "cell_type": "code",
   "execution_count": 42,
   "id": "3182c056",
   "metadata": {},
   "outputs": [
    {
     "name": "stdout",
     "output_type": "stream",
     "text": [
      "28\n"
     ]
    }
   ],
   "source": [
    "# Multiplying two numbers using a lambda function:\n",
    "multiply = lambda x, y: x * y\n",
    "result = multiply(4, 7)\n",
    "print(result)"
   ]
  },
  {
   "cell_type": "code",
   "execution_count": 40,
   "id": "6982a541",
   "metadata": {},
   "outputs": [
    {
     "name": "stdout",
     "output_type": "stream",
     "text": [
      "[(3, 'apple'), (1, 'banana'), (2, 'cherry')]\n"
     ]
    }
   ],
   "source": [
    "# Sorting a list of tuples based on the second element using a lambda function:\n",
    "data = [(3, 'apple'), (1, 'banana'), (2, 'cherry')]\n",
    "sorted_data = sorted(data, key=lambda x: x[1])\n",
    "print(sorted_data)\n"
   ]
  },
  {
   "cell_type": "code",
   "execution_count": 41,
   "id": "92b07701",
   "metadata": {},
   "outputs": [
    {
     "name": "stdout",
     "output_type": "stream",
     "text": [
      "64\n"
     ]
    }
   ],
   "source": [
    "# Finding the cube of a number using a lambda function:\n",
    "cube = lambda x: x ** 3\n",
    "result = cube(4)\n",
    "print(result)\n"
   ]
  },
  {
   "cell_type": "markdown",
   "id": "c49e4bf2",
   "metadata": {},
   "source": [
    "<h4> 7. Create a Python program to find the number of occurences of each letter in a string."
   ]
  },
  {
   "cell_type": "code",
   "execution_count": 23,
   "id": "b0b202d4",
   "metadata": {},
   "outputs": [
    {
     "name": "stdout",
     "output_type": "stream",
     "text": [
      "Occurrences of each letter:\n",
      "'h': 2\n",
      "'e': 2\n",
      "'l': 2\n",
      "'o': 2\n",
      "'p': 2\n",
      "'y': 2\n",
      "'t': 2\n",
      "'n': 2\n",
      "'a': 1\n",
      "'d': 1\n",
      "'j': 1\n",
      "'u': 1\n",
      "'r': 1\n"
     ]
    }
   ],
   "source": [
    "def countOccurrences(input_str):\n",
    "    letter_count = {}\n",
    "\n",
    "    for char in input_str:\n",
    "        if char.isalpha():\n",
    "            char_lower = char.lower()\n",
    "            if char_lower in letter_count:\n",
    "                letter_count[char_lower] += 1\n",
    "            else:\n",
    "                letter_count[char_lower] = 1\n",
    "\n",
    "    return letter_count\n",
    "\n",
    "string = \"Hello, Python and Jupyter\"\n",
    "occurrences = countOccurrences(string)\n",
    "\n",
    "print(\"Occurrences of each letter:\")\n",
    "for letter, count in occurrences.items():\n",
    "    print(f\"'{letter}': {count}\")\n"
   ]
  },
  {
   "cell_type": "code",
   "execution_count": null,
   "id": "867506c9",
   "metadata": {},
   "outputs": [],
   "source": []
  }
 ],
 "metadata": {
  "kernelspec": {
   "display_name": "Python 3 (ipykernel)",
   "language": "python",
   "name": "python3"
  },
  "language_info": {
   "codemirror_mode": {
    "name": "ipython",
    "version": 3
   },
   "file_extension": ".py",
   "mimetype": "text/x-python",
   "name": "python",
   "nbconvert_exporter": "python",
   "pygments_lexer": "ipython3",
   "version": "3.10.9"
  }
 },
 "nbformat": 4,
 "nbformat_minor": 5
}
