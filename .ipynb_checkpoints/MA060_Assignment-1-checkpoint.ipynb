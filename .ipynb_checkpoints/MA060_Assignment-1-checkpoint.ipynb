{
 "cells": [
  {
   "cell_type": "markdown",
   "id": "674453e5",
   "metadata": {},
   "source": [
    "<h1>Assignment -1"
   ]
  },
  {
   "cell_type": "markdown",
   "id": "aad59e02",
   "metadata": {},
   "source": [
    "<h5>Name : Tarpara Kaushal\n",
    "<h5>Roll no : MA060"
   ]
  },
  {
   "cell_type": "markdown",
   "id": "76b95a6a",
   "metadata": {},
   "source": [
    "<h2>Q-1"
   ]
  },
  {
   "cell_type": "markdown",
   "id": "e3564ef8",
   "metadata": {},
   "source": [
    "<h4>(a) Write a python program using lambda to extract year, month, data and time form a given Date."
   ]
  },
  {
   "cell_type": "code",
   "execution_count": 9,
   "id": "14c29a0d",
   "metadata": {},
   "outputs": [
    {
     "name": "stdout",
     "output_type": "stream",
     "text": [
      "[2023, 12, 8, datetime.time(11, 14, 1, 753870)]\n"
     ]
    }
   ],
   "source": [
    "from datetime import datetime\n",
    "\n",
    "lst = lambda x : [x.year,x.day,x.month,x.time()]\n",
    "print(lst(datetime.now()))"
   ]
  },
  {
   "cell_type": "markdown",
   "id": "2843761a",
   "metadata": {},
   "source": [
    "<h4>(b) Write a python program using lambda to find whether a given sentence starts with a given char."
   ]
  },
  {
   "cell_type": "code",
   "execution_count": 10,
   "id": "a2595211",
   "metadata": {},
   "outputs": [
    {
     "name": "stdout",
     "output_type": "stream",
     "text": [
      "True\n"
     ]
    }
   ],
   "source": [
    "is_start = lambda sent,c : True if sent[0]==c else False\n",
    "val = is_start(\"python is smart\",\"p\")\n",
    "print(val)"
   ]
  },
  {
   "cell_type": "markdown",
   "id": "97d27959",
   "metadata": {},
   "source": [
    "<h4>(c) Write a python program using lamda to sort the above 'marks' list of tuples in ascending order of marks.\n",
    " \n",
    " marks =  [('c',88),('cpp',90),('python',97),('java',82)]"
   ]
  },
  {
   "cell_type": "code",
   "execution_count": 11,
   "id": "a3005aaf",
   "metadata": {},
   "outputs": [
    {
     "name": "stdout",
     "output_type": "stream",
     "text": [
      "(('java', 82), ('c', 88), ('cpp', 90), ('python', 97))\n"
     ]
    }
   ],
   "source": [
    "marks = [('c',88),('cpp',90),('python',97),('java',82)]\n",
    "t = tuple(sorted(marks,key = lambda m : m[1]))\n",
    "print(t)"
   ]
  },
  {
   "cell_type": "markdown",
   "id": "e6a4d028",
   "metadata": {},
   "source": [
    "<h2>Q-2"
   ]
  },
  {
   "cell_type": "markdown",
   "id": "32fb8b6f",
   "metadata": {},
   "source": [
    "<h4>(a) Write a python progarm for following requirement:\n",
    "<br>    -Create a Function findLongestString(), which should\n",
    "<br>        - accept variable number of string arguments ,and\n",
    " <br>       - return the longest string parameter."
   ]
  },
  {
   "cell_type": "code",
   "execution_count": 13,
   "id": "d4610453",
   "metadata": {},
   "outputs": [
    {
     "name": "stdout",
     "output_type": "stream",
     "text": [
      "JavaScript\n"
     ]
    }
   ],
   "source": [
    "def findLongestString(*var):\n",
    "    tlst = []\n",
    "    max1 = 0\n",
    "    index = 0\n",
    "    for i in var:\n",
    "        tlst.append(len(i))\n",
    "    \n",
    "    for i in range(0,len(tlst)):\n",
    "        if max1 < tlst[i]:\n",
    "            max= tlst[i]\n",
    "            index = i\n",
    "    return var[index]\n",
    "\n",
    "str1 = findLongestString(\"Hii\",\"Python\",\"Java\",\"JavaScript\")\n",
    "print(str1)\n",
    "        "
   ]
  },
  {
   "cell_type": "markdown",
   "id": "178a2161",
   "metadata": {},
   "source": [
    "<h4>(b) Write a python to generate a tuple that shpuld contain first N lower case alphabets in revese order. Accept N as input from user."
   ]
  },
  {
   "cell_type": "code",
   "execution_count": 17,
   "id": "dff90b83",
   "metadata": {},
   "outputs": [
    {
     "name": "stdout",
     "output_type": "stream",
     "text": [
      "Enter Number: 5\n",
      "('e', 'd', 'c', 'b', 'a')\n"
     ]
    }
   ],
   "source": [
    "tup = ()\n",
    "n = int(input(\"Enter Number: \"))\n",
    "\n",
    "for i in reversed(range(ord('a'),ord('a')+n)):\n",
    "    tup +=(chr(i),)\n",
    "\n",
    "print(tup)"
   ]
  },
  {
   "cell_type": "markdown",
   "id": "11083c35",
   "metadata": {},
   "source": [
    "<h4> (c) Write a Python program that -\n",
    "    <br> - accepts variable number of numeric command line arguments.\n",
    "    <br> - returns (i) largest and smallest float arguments,\n",
    "    <br>         (ii) largest and smallest int arguments,"
   ]
  },
  {
   "cell_type": "code",
   "execution_count": 38,
   "id": "e5be0d2e",
   "metadata": {},
   "outputs": [
    {
     "name": "stdout",
     "output_type": "stream",
     "text": [
      "1000.3 0.2 12 2\n"
     ]
    }
   ],
   "source": [
    "import sys\n",
    "\n",
    "def findLargestSmallest(arg):\n",
    "    floatArg = [i for i in arg if type(i) is float]\n",
    "    intArg = [i for  i in arg if type(i) is int]\n",
    "    \n",
    "    return max(floatArg),min(floatArg),max(intArg),min(intArg)\n",
    "###\n",
    "\n",
    "arg = sys.argv[1:]\n",
    "# arg = [2,4,4.3,2.2,0.2,6,1000.3,12]\n",
    "\n",
    "maxFloat,minFolat,maxInt,minInt = findLargestSmallest(arg)\n",
    "\n",
    "print(maxFloat,minFolat,maxInt,minInt)"
   ]
  },
  {
   "cell_type": "markdown",
   "id": "da3f27ed",
   "metadata": {},
   "source": [
    "<h2> Q-3"
   ]
  },
  {
   "cell_type": "markdown",
   "id": "31264d24",
   "metadata": {},
   "source": [
    "<h4> (a) With help of suitable python code and necessary example input to that code , deomnstrate behavior of all bit-wisen operators available in python."
   ]
  },
  {
   "cell_type": "code",
   "execution_count": 46,
   "id": "f97270bb",
   "metadata": {},
   "outputs": [
    {
     "name": "stdout",
     "output_type": "stream",
     "text": [
      "Bitwise AND: 7\n",
      "Bitwise OR: 15\n",
      "Bitwise XOR: 8\n",
      "Bitwise NOT of a: -16\n",
      "Bitwise NOT of b: -8\n",
      "Left Shift of a: 60\n",
      "Right Shift of a: 3\n"
     ]
    }
   ],
   "source": [
    "a = 15   # Binary: 1111\n",
    "b = 7    # Binary: 0111\n",
    "\n",
    "# Bitwise AND\n",
    "result_and = a & b\n",
    "print(\"Bitwise AND:\", result_and)\n",
    "\n",
    "# Bitwise OR\n",
    "result_or = a | b\n",
    "print(\"Bitwise OR:\", result_or)\n",
    "\n",
    "# Bitwise XOR\n",
    "result_xor = a ^ b\n",
    "print(\"Bitwise XOR:\", result_xor)\n",
    "\n",
    "# Bitwise NOT\n",
    "result_not_a = ~a\n",
    "result_not_b = ~b\n",
    "print(\"Bitwise NOT of a:\", result_not_a)\n",
    "print(\"Bitwise NOT of b:\", result_not_b)\n",
    "\n",
    "# Left Shift\n",
    "result_left_shift = a << 2\n",
    "print(\"Left Shift of a:\", result_left_shift)\n",
    "\n",
    "# Right Shift\n",
    "result_right_shift = a >> 2\n",
    "print(\"Right Shift of a:\", result_right_shift)\n"
   ]
  },
  {
   "cell_type": "markdown",
   "id": "ed886b94",
   "metadata": {},
   "source": [
    "<h4><center>OR"
   ]
  },
  {
   "cell_type": "markdown",
   "id": "b62c7107",
   "metadata": {},
   "source": [
    "<h4>(a) write a python program to generate a tuple that should contain factorials of first N prime numbers. Accept N as input form user."
   ]
  },
  {
   "cell_type": "code",
   "execution_count": 51,
   "id": "7dd63747",
   "metadata": {},
   "outputs": [
    {
     "name": "stdout",
     "output_type": "stream",
     "text": [
      "Enter the value of N: 5\n",
      "Factorials of the first 5 prime numbers: (2, 6, 120, 5040, 39916800)\n"
     ]
    }
   ],
   "source": [
    "def is_prime(num):\n",
    "    if num <= 1:\n",
    "        return False\n",
    "    for i in range(2, int(num ** 0.5) + 1):\n",
    "        if num % i == 0:\n",
    "            return False\n",
    "    return True\n",
    "\n",
    "def factorial(n):\n",
    "    if n == 0:\n",
    "        return 1\n",
    "    return n * factorial(n - 1)\n",
    "\n",
    "N = int(input(\"Enter the value of N: \"))\n",
    "\n",
    "prime_factorials = []\n",
    "num = 2\n",
    "while len(prime_factorials) < N:\n",
    "    if is_prime(num):\n",
    "        prime_factorials.append(factorial(num))\n",
    "    num += 1\n",
    "\n",
    "print(f\"Factorials of the first {N} prime numbers:\", tuple(prime_factorials))\n"
   ]
  },
  {
   "cell_type": "code",
   "execution_count": null,
   "id": "145165e6",
   "metadata": {},
   "outputs": [],
   "source": []
  }
 ],
 "metadata": {
  "kernelspec": {
   "display_name": "Python 3 (ipykernel)",
   "language": "python",
   "name": "python3"
  },
  "language_info": {
   "codemirror_mode": {
    "name": "ipython",
    "version": 3
   },
   "file_extension": ".py",
   "mimetype": "text/x-python",
   "name": "python",
   "nbconvert_exporter": "python",
   "pygments_lexer": "ipython3",
   "version": "3.10.9"
  }
 },
 "nbformat": 4,
 "nbformat_minor": 5
}
