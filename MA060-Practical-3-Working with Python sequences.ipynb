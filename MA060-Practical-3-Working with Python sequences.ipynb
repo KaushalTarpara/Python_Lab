{
 "cells": [
  {
   "cell_type": "markdown",
   "id": "22116d6f",
   "metadata": {},
   "source": [
    "<h1>Practical-3-Working with Python sequences"
   ]
  },
  {
   "cell_type": "markdown",
   "id": "be7906c6",
   "metadata": {},
   "source": [
    "<h3> Name : Tarpara Kaushal\n",
    "<h3> Roll No : MA060"
   ]
  },
  {
   "cell_type": "markdown",
   "id": "99ae8bfe",
   "metadata": {},
   "source": [
    "<h1>EXERCISES-3-a"
   ]
  },
  {
   "cell_type": "markdown",
   "id": "7d62bdde",
   "metadata": {},
   "source": [
    "<h3>1. Remove duplicate list items."
   ]
  },
  {
   "cell_type": "code",
   "execution_count": 17,
   "id": "a628b817",
   "metadata": {},
   "outputs": [
    {
     "name": "stdout",
     "output_type": "stream",
     "text": [
      "[1, 1, 3, 4, 5, 5, 7]\n",
      "[1, 3, 4, 5, 7]\n"
     ]
    }
   ],
   "source": [
    "lst = [1,1,3,4,5,5,7]\n",
    "print(lst)\n",
    "ulist = []\n",
    "\n",
    "for i in lst:\n",
    "    if i not in ulist:\n",
    "        ulist.append(i)\n",
    "    \n",
    "lst=ulist\n",
    "print(lst)"
   ]
  },
  {
   "cell_type": "markdown",
   "id": "a3057669",
   "metadata": {},
   "source": [
    "<h3>2.Store reverse of each list member in another list at same position."
   ]
  },
  {
   "cell_type": "code",
   "execution_count": 22,
   "id": "1fa11840",
   "metadata": {},
   "outputs": [
    {
     "name": "stdout",
     "output_type": "stream",
     "text": [
      "['321', 'lahsuak', [3, 2, 1]]\n"
     ]
    }
   ],
   "source": [
    "lst2 = [123,\"kaushal\",[1,2,3]]\n",
    "rev_list = []\n",
    "for i in lst2:\n",
    "    if isinstance(i,int):\n",
    "        rev_list.append(str(i)[::-1])\n",
    "    else:\n",
    "        rev_list.append(i[::-1])\n",
    "        \n",
    "print(rev_list)\n"
   ]
  },
  {
   "cell_type": "markdown",
   "id": "e82fc014",
   "metadata": {},
   "source": [
    "<h3>3. Take a sentence as input from user. Break it into words, store words in a list. Sort list according to length of string members."
   ]
  },
  {
   "cell_type": "code",
   "execution_count": 36,
   "id": "8d531ba9",
   "metadata": {},
   "outputs": [
    {
     "name": "stdout",
     "output_type": "stream",
     "text": [
      "Enter String :zenbook note\n",
      "['note', 'zenbook']\n"
     ]
    }
   ],
   "source": [
    "sentence = input(\"Enter String :\")\n",
    "\n",
    "word_list = sentence.split()\n",
    "\n",
    "word_list.sort()\n",
    "\n",
    "print(word_list)\n"
   ]
  },
  {
   "cell_type": "markdown",
   "id": "81612165",
   "metadata": {},
   "source": [
    "<h3>4. Create a list which contains integers from -100 to 1 as list items."
   ]
  },
  {
   "cell_type": "code",
   "execution_count": 38,
   "id": "f3011a31",
   "metadata": {},
   "outputs": [
    {
     "name": "stdout",
     "output_type": "stream",
     "text": [
      "[-100, -99, -98, -97, -96, -95, -94, -93, -92, -91, -90, -89, -88, -87, -86, -85, -84, -83, -82, -81, -80, -79, -78, -77, -76, -75, -74, -73, -72, -71, -70, -69, -68, -67, -66, -65, -64, -63, -62, -61, -60, -59, -58, -57, -56, -55, -54, -53, -52, -51, -50, -49, -48, -47, -46, -45, -44, -43, -42, -41, -40, -39, -38, -37, -36, -35, -34, -33, -32, -31, -30, -29, -28, -27, -26, -25, -24, -23, -22, -21, -20, -19, -18, -17, -16, -15, -14, -13, -12, -11, -10, -9, -8, -7, -6, -5, -4, -3, -2, -1, 0, 1]\n"
     ]
    }
   ],
   "source": [
    "lst = list(range(-100,2))\n",
    "print(lst)"
   ]
  },
  {
   "cell_type": "markdown",
   "id": "056b55e9",
   "metadata": {},
   "source": [
    "<h3>5. Create a list which contains all even integers between 1 and 10 as list items."
   ]
  },
  {
   "cell_type": "code",
   "execution_count": 42,
   "id": "ea7becdb",
   "metadata": {},
   "outputs": [
    {
     "name": "stdout",
     "output_type": "stream",
     "text": [
      "[2, 4, 6, 8, 10]\n"
     ]
    }
   ],
   "source": [
    "lst = list(range(2,11,2))\n",
    "print(lst)"
   ]
  },
  {
   "cell_type": "markdown",
   "id": "37a223a0",
   "metadata": {},
   "source": [
    "<h3>6. Create a list which contains all consonent-alphabets between 'A' and 'Z' as list items."
   ]
  },
  {
   "cell_type": "code",
   "execution_count": 54,
   "id": "9ff62b7e",
   "metadata": {},
   "outputs": [
    {
     "name": "stdout",
     "output_type": "stream",
     "text": [
      "['B', 'C', 'D', 'F', 'G', 'H', 'J', 'K', 'L', 'M', 'N', 'P', 'Q', 'R', 'S', 'T', 'V', 'W', 'X', 'Y', 'Z']\n"
     ]
    }
   ],
   "source": [
    "lst = [chr(code) for code in range(ord('A'),ord('Z')+1) if chr(code) not in \"AEIOU\"]\n",
    "print(lst)\n"
   ]
  },
  {
   "cell_type": "markdown",
   "id": "8ef75bd9",
   "metadata": {},
   "source": [
    "<h1>EXERCISES-3-b"
   ]
  },
  {
   "cell_type": "markdown",
   "id": "7cf85b3f",
   "metadata": {},
   "source": [
    "<h3>1. Store 5 different birthdates into a tuple. Print birthdates in the order of from elder to younger (i.e.Sort the tuple in descending order of dates)."
   ]
  },
  {
   "cell_type": "code",
   "execution_count": 67,
   "id": "367da4a4",
   "metadata": {},
   "outputs": [
    {
     "name": "stdout",
     "output_type": "stream",
     "text": [
      "Original Tuple \n",
      "  ('20-04-2000', '11-05-2000', '26-11-1999', '04-01-2001', '02-05-2002')\n",
      "<class 'tuple'>\n",
      "Stored Tuple \n",
      "  ('26-11-1999', '20-04-2000', '11-05-2000', '04-01-2001', '02-05-2002')\n"
     ]
    }
   ],
   "source": [
    "t = ('20-04-2000','11-05-2000','26-11-1999','04-01-2001','02-05-2002')\n",
    "print(\"Original Tuple \\n \",t)\n",
    "t_desc = tuple(sorted(t,reverse=True))\n",
    "print(\"Stored Tuple \\n \",t_desc)"
   ]
  },
  {
   "cell_type": "markdown",
   "id": "e0de4a0f",
   "metadata": {},
   "source": [
    "<h3>2. Create two tuples with some elements. Store only common elements from both the tuples into a third tuple."
   ]
  },
  {
   "cell_type": "code",
   "execution_count": 68,
   "id": "db6e635b",
   "metadata": {},
   "outputs": [
    {
     "name": "stdout",
     "output_type": "stream",
     "text": [
      "(3, 5, 7)\n"
     ]
    }
   ],
   "source": [
    "t1= (3,4,5,6,7)\n",
    "t2 =(5,3,2,13,5,7)\n",
    "\n",
    "t3 = tuple(set(t1) & set(t2))\n",
    "print(t3)"
   ]
  },
  {
   "cell_type": "markdown",
   "id": "bd0f4e73",
   "metadata": {},
   "source": [
    "<h3>3. Reverse a string without help of inbuilt function (OR Reverse a string using only one command/statement). Store answer in another string."
   ]
  },
  {
   "cell_type": "code",
   "execution_count": 71,
   "id": "5fe21a45",
   "metadata": {},
   "outputs": [
    {
     "name": "stdout",
     "output_type": "stream",
     "text": [
      "esrever ton si gnirtS\n"
     ]
    }
   ],
   "source": [
    "str = \"String is not reverse\"\n",
    "str_Rev = str[::-1]\n",
    "print(str_Rev)"
   ]
  },
  {
   "cell_type": "markdown",
   "id": "12829cb1",
   "metadata": {},
   "source": [
    "<h1>EXERCISES-3-c"
   ]
  },
  {
   "cell_type": "markdown",
   "id": "bce14394",
   "metadata": {},
   "source": [
    "<h3>1. Explain usage of items() method of dictionary."
   ]
  },
  {
   "cell_type": "code",
   "execution_count": 73,
   "id": "f6c53547",
   "metadata": {},
   "outputs": [
    {
     "name": "stdout",
     "output_type": "stream",
     "text": [
      "Dictionary items:\n",
      "dict_items([('Brand', 'HP'), ('Model', 'I34520'), ('Color', 'White'), ('Price', 100000)])\n"
     ]
    }
   ],
   "source": [
    "Dictionary1 = { 'Brand': 'HP', 'Model': 'I34520', 'Color': 'White','Price':100000 }\n",
    "print(\"Dictionary items:\")\n",
    "print(Dictionary1.items())"
   ]
  },
  {
   "cell_type": "markdown",
   "id": "c3f4d861",
   "metadata": {},
   "source": [
    "<h3>2. Explain usage of get() & pop() methods of dictionary."
   ]
  },
  {
   "cell_type": "code",
   "execution_count": 77,
   "id": "064b52f8",
   "metadata": {},
   "outputs": [
    {
     "name": "stdout",
     "output_type": "stream",
     "text": [
      "72\n",
      "Removed 25\n",
      "{'OSLP': 72, 'JAVA': 100, 'CSDF': 100, 'DS': 40}\n"
     ]
    }
   ],
   "source": [
    "marks = {'OSLP': 72, 'JAVA': 100, 'CSDF': 100, 'DS': 40,'DBMS':25}   \n",
    "print(marks.get('OSLP'))  \n",
    "p = marks.pop('DBMS')  \n",
    "print(\"Removed\",p)  \n",
    "print(marks)"
   ]
  },
  {
   "cell_type": "markdown",
   "id": "2155bc8a",
   "metadata": {},
   "source": [
    "<h3>3. Explain usage of popitem() & update() methods of dictionary."
   ]
  },
  {
   "cell_type": "code",
   "execution_count": 85,
   "id": "1316144f",
   "metadata": {},
   "outputs": [
    {
     "name": "stdout",
     "output_type": "stream",
     "text": [
      "{'OSLP': 72, 'JAVA': 100, 'CSDF': 100, 'DS': 40, 'DBMS': 25}\n",
      "Removed ('DBMS', 25)\n",
      "{'OSLP': 72, 'JAVA': 100, 'CSDF': 100, 'DS': 40}\n",
      "{'OSLP': 72, 'JAVA': 50, 'CSDF': 100, 'DS': 40, 'Python': 90}\n"
     ]
    }
   ],
   "source": [
    "marks = {'OSLP': 72, 'JAVA': 100, 'CSDF': 100, 'DS': 40,'DBMS':25}      \n",
    "print(marks)  \n",
    "p = marks.popitem()  \n",
    "print(\"Removed\",p)  \n",
    "print(marks) \n",
    "\n",
    "\n",
    "marks.update({'JAVA':50})\n",
    "marks.update({'Python':90})\n",
    "print(marks)\n"
   ]
  },
  {
   "cell_type": "markdown",
   "id": "9df3ed7a",
   "metadata": {},
   "source": [
    "<h3>4. Count frequency of each vowel in a sentence."
   ]
  },
  {
   "cell_type": "code",
   "execution_count": 89,
   "id": "3c5950a6",
   "metadata": {},
   "outputs": [
    {
     "name": "stdout",
     "output_type": "stream",
     "text": [
      "{'a': 2, 'e': 7, 'i': 1, 'o': 3, 'u': 2}\n"
     ]
    }
   ],
   "source": [
    "str = \"Count frequency of each vowel in a sentence\"\n",
    "vowels = 'aeiou'\n",
    "vowel_dic = {}.fromkeys(vowels,0)\n",
    "for c in str:\n",
    "    if c in vowel_dic:\n",
    "        vowel_dic[c] +=1\n",
    "print(vowel_dic)\n"
   ]
  },
  {
   "cell_type": "code",
   "execution_count": null,
   "id": "9f47562c",
   "metadata": {},
   "outputs": [],
   "source": []
  }
 ],
 "metadata": {
  "kernelspec": {
   "display_name": "Python 3 (ipykernel)",
   "language": "python",
   "name": "python3"
  },
  "language_info": {
   "codemirror_mode": {
    "name": "ipython",
    "version": 3
   },
   "file_extension": ".py",
   "mimetype": "text/x-python",
   "name": "python",
   "nbconvert_exporter": "python",
   "pygments_lexer": "ipython3",
   "version": "3.10.9"
  }
 },
 "nbformat": 4,
 "nbformat_minor": 5
}
