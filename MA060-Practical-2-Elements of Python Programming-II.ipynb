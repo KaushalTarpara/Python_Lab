{
 "cells": [
  {
   "cell_type": "markdown",
   "id": "2288817c",
   "metadata": {},
   "source": [
    "<h1>Practical-2-Elements of Python Programming-II"
   ]
  },
  {
   "cell_type": "markdown",
   "id": "febf7d5d",
   "metadata": {},
   "source": [
    "<h3> Name : Tarpara Kaushal\n",
    "<h3> Roll No : MA060"
   ]
  },
  {
   "cell_type": "markdown",
   "id": "9f8e5e72",
   "metadata": {},
   "source": [
    "### EXERCISES-2-a"
   ]
  },
  {
   "cell_type": "markdown",
   "id": "e0185abb",
   "metadata": {},
   "source": [
    "<h4> 1. Input two float operands from user. Apply arithmetic operators on them. "
   ]
  },
  {
   "cell_type": "markdown",
   "id": "e7fd8ab4",
   "metadata": {},
   "source": [
    "<h4>2. Input two string operands from user. Check behaviour of relational and logical operators on them. Write your observations."
   ]
  },
  {
   "cell_type": "markdown",
   "id": "8fa1d725",
   "metadata": {},
   "source": [
    "<h4>3. Input two int operands from user. Explain behviour of bitwise operators on them."
   ]
  },
  {
   "cell_type": "markdown",
   "id": "df34d895",
   "metadata": {},
   "source": [
    "### EXERCISES-2-b"
   ]
  },
  {
   "cell_type": "markdown",
   "id": "af7fd987",
   "metadata": {},
   "source": [
    "<h4>1. Determine whether an integer entered by a user is odd or even."
   ]
  },
  {
   "cell_type": "markdown",
   "id": "416bc4ea",
   "metadata": {},
   "source": [
    "<h4> 2. Input student details: rollno, name and marks of 3 subjects from user. Calculate total marks, percentage and grade. Print mark-sheet. Determine pass or fail"
   ]
  },
  {
   "cell_type": "markdown",
   "id": "ab021efb",
   "metadata": {},
   "source": [
    "<h4> 3.Input employee details: empno, name, gender, basic salary from user. Calculate DA (Of basic salary to 80% male, 70% to female ), HRA (Of basic salary 15% to female, 10% to male) and net salary. Also calculate gross (yearly) salary which also \n",
    "includes bonus (Of one basic salary 50% to male, 55% to female). "
   ]
  },
  {
   "cell_type": "markdown",
   "id": "a32b8e2d",
   "metadata": {},
   "source": [
    "<h4> 4. Check whether your birthdate has already gone or it is about to come in the current year."
   ]
  },
  {
   "cell_type": "markdown",
   "id": "579e8f32",
   "metadata": {},
   "source": [
    "<h4> 5.Determine whether current year is leap year or not."
   ]
  },
  {
   "cell_type": "markdown",
   "id": "d9412896",
   "metadata": {},
   "source": [
    "### EXERCISES-2-c"
   ]
  },
  {
   "cell_type": "markdown",
   "id": "a235d895",
   "metadata": {},
   "source": [
    "<h4>1. Print multiplication table of a number entered by user."
   ]
  },
  {
   "cell_type": "markdown",
   "id": "9e44d2a6",
   "metadata": {},
   "source": [
    "<h4>2. Compute factorial of a number given by user."
   ]
  },
  {
   "cell_type": "markdown",
   "id": "8806a218",
   "metadata": {},
   "source": [
    "<h4> 3. Determine whether a number entered by user is prime or not"
   ]
  },
  {
   "cell_type": "markdown",
   "id": "1f9be1ef",
   "metadata": {},
   "source": [
    "<h4> 4. Determine whether a string entered by user is palindrome or not."
   ]
  },
  {
   "cell_type": "markdown",
   "id": "85bf21ad",
   "metadata": {},
   "source": [
    "### EXERCISES-2-d"
   ]
  },
  {
   "cell_type": "markdown",
   "id": "cd4edffd",
   "metadata": {},
   "source": [
    "<h4> 1. Find length of a string given by user. Do not use inbuilt function."
   ]
  },
  {
   "cell_type": "markdown",
   "id": "a347716d",
   "metadata": {},
   "source": [
    "<h4> 2.Determine whether a number entered by user is prime or not. Do not use inbuilt functions."
   ]
  },
  {
   "cell_type": "markdown",
   "id": "342c7f81",
   "metadata": {},
   "source": [
    "<h4> 3. Determine whether a string entered by user is palindrome or not. Do not use inbuilt function."
   ]
  },
  {
   "cell_type": "markdown",
   "id": "12608288",
   "metadata": {},
   "source": [
    "<h4> 4. Print pattern:<BR>\n",
    "        *<BR>\n",
    "        * *<BR>\n",
    "        * * *<BR>\n",
    "        * * * *<BR>"
   ]
  },
  {
   "cell_type": "markdown",
   "id": "f847add9",
   "metadata": {},
   "source": [
    "<h4> 5. Pring pattern: <BR>\n",
    "        1<br>\n",
    "        1 2<br>\n",
    "        1 2 3<br>\n",
    "        ...<br>\n",
    "        1 2 3 .. N<br>"
   ]
  },
  {
   "cell_type": "markdown",
   "id": "4c453113",
   "metadata": {},
   "source": [
    "<h4> 6. Pring pattern: <BR>\n",
    "        A<br>\n",
    "        A B<br>\n",
    "        A B C<br>\n",
    "        ...<br>\n",
    "        A B C ...n <br>  "
   ]
  },
  {
   "cell_type": "code",
   "execution_count": null,
   "id": "53ace40f",
   "metadata": {},
   "outputs": [],
   "source": []
  }
 ],
 "metadata": {
  "kernelspec": {
   "display_name": "Python 3 (ipykernel)",
   "language": "python",
   "name": "python3"
  },
  "language_info": {
   "codemirror_mode": {
    "name": "ipython",
    "version": 3
   },
   "file_extension": ".py",
   "mimetype": "text/x-python",
   "name": "python",
   "nbconvert_exporter": "python",
   "pygments_lexer": "ipython3",
   "version": "3.10.9"
  }
 },
 "nbformat": 4,
 "nbformat_minor": 5
}
