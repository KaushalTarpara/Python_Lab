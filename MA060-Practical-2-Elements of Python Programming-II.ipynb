{
 "cells": [
  {
   "cell_type": "markdown",
   "id": "2288817c",
   "metadata": {},
   "source": [
    "<h1>Practical-2-Elements of Python Programming-II"
   ]
  },
  {
   "cell_type": "markdown",
   "id": "febf7d5d",
   "metadata": {},
   "source": [
    "<h3> Name : Tarpara Kaushal\n",
    "<h3> Roll No : MA060"
   ]
  },
  {
   "cell_type": "markdown",
   "id": "9f8e5e72",
   "metadata": {},
   "source": [
    "### EXERCISES-2-a"
   ]
  },
  {
   "cell_type": "markdown",
   "id": "e0185abb",
   "metadata": {},
   "source": [
    "<h4> 1. Input two float operands from user. Apply arithmetic operators on them. "
   ]
  },
  {
   "cell_type": "code",
   "execution_count": 1,
   "id": "57f4f6a2",
   "metadata": {},
   "outputs": [
    {
     "name": "stdout",
     "output_type": "stream",
     "text": [
      "Enter the first operand: 45\n",
      "Enter the second operand: 45\n",
      "Addition: 90.0\n",
      "Subtraction: 0.0\n",
      "Multiplication: 2025.0\n",
      "Division: 1.0\n"
     ]
    }
   ],
   "source": [
    "n1 = float(input(\"Enter the first operand: \"))\n",
    "n2 = float(input(\"Enter the second operand: \"))\n",
    "\n",
    "print(\"Addition:\", n1 + n2)\n",
    "print(\"Subtraction:\", n1 - n2)\n",
    "print(\"Multiplication:\", n1 * n2)\n",
    "print(\"Division:\", n1 / n2)"
   ]
  },
  {
   "cell_type": "markdown",
   "id": "e7fd8ab4",
   "metadata": {},
   "source": [
    "<h4>2. Input two string operands from user. Check behaviour of relational and logical operators on them. Write your observations."
   ]
  },
  {
   "cell_type": "code",
   "execution_count": 4,
   "id": "97f72635",
   "metadata": {},
   "outputs": [
    {
     "name": "stdout",
     "output_type": "stream",
     "text": [
      "Enter the first string: 23\n",
      "Enter the second string: 0\n",
      "Relational Operators:\n",
      "Equal to: False\n",
      "Not equal to: True\n",
      "Greater than: True\n",
      "Less than: False\n",
      "Greater than or equal to: True\n",
      "Less than or equal to: False\n",
      "Logical Operators:\n",
      "Logical AND: 0\n",
      "Logical OR: 23\n",
      "Logical NOT (str1): False\n",
      "Logical NOT (str2): False\n"
     ]
    }
   ],
   "source": [
    "str1 = input(\"Enter the first string: \")\n",
    "str2 = input(\"Enter the second string: \")\n",
    "\n",
    "print(\"Relational Operators:\")\n",
    "print(\"Equal to:\", str1 == str2)\n",
    "print(\"Not equal to:\", str1 != str2)\n",
    "print(\"Greater than:\", str1 > str2)\n",
    "print(\"Less than:\", str1 < str2)\n",
    "print(\"Greater than or equal to:\", str1 >= str2)\n",
    "print(\"Less than or equal to:\", str1 <= str2)\n",
    "\n",
    "print(\"Logical Operators:\")\n",
    "print(\"Logical AND:\", str1 and str2)\n",
    "print(\"Logical OR:\", str1 or str2)\n",
    "print(\"Logical NOT (str1):\", not str1)\n",
    "print(\"Logical NOT (str2):\", not str2)"
   ]
  },
  {
   "cell_type": "markdown",
   "id": "8fa1d725",
   "metadata": {},
   "source": [
    "<h4>3. Input two int operands from user. Explain behviour of bitwise operators on them."
   ]
  },
  {
   "cell_type": "code",
   "execution_count": 5,
   "id": "8b58a462",
   "metadata": {},
   "outputs": [
    {
     "name": "stdout",
     "output_type": "stream",
     "text": [
      "Enter the first operand: 4\n",
      "Enter the second operand: 2\n",
      "AND: 0\n",
      "OR: 6\n",
      "XOR: 6\n",
      "NOT a: -5\n",
      "NOT b: -3\n",
      "Left Shift: 16\n",
      "Right Shift: 1\n"
     ]
    }
   ],
   "source": [
    "a = int(input(\"Enter the first operand: \"))\n",
    "b = int(input(\"Enter the second operand: \"))\n",
    "\n",
    "print(\"AND:\", a & b)\n",
    "print(\"OR:\", a | b)\n",
    "print(\"XOR:\", a ^ b)\n",
    "print(\"NOT a:\", ~a)\n",
    "print(\"NOT b:\", ~b)\n",
    "print(\"Left Shift:\", a << b)\n",
    "print(\"Right Shift:\", a >> b)"
   ]
  },
  {
   "cell_type": "markdown",
   "id": "df34d895",
   "metadata": {},
   "source": [
    "### EXERCISES-2-b"
   ]
  },
  {
   "cell_type": "markdown",
   "id": "af7fd987",
   "metadata": {},
   "source": [
    "<h4>1. Determine whether an integer entered by a user is odd or even."
   ]
  },
  {
   "cell_type": "code",
   "execution_count": 6,
   "id": "eaf83aa6",
   "metadata": {},
   "outputs": [
    {
     "name": "stdout",
     "output_type": "stream",
     "text": [
      "Enter an integer: 4\n",
      "The number is even.\n"
     ]
    }
   ],
   "source": [
    "num = int(input(\"Enter an integer: \"))\n",
    "\n",
    "if num % 2 == 0:\n",
    "    print(\"The number is even.\")\n",
    "else:\n",
    "    print(\"The number is odd.\")\n"
   ]
  },
  {
   "cell_type": "markdown",
   "id": "416bc4ea",
   "metadata": {},
   "source": [
    "<h4> 2. Input student details: rollno, name and marks of 3 subjects from user. Calculate total marks, percentage and grade. Print mark-sheet. Determine pass or fail"
   ]
  },
  {
   "cell_type": "code",
   "execution_count": 32,
   "id": "a0cab5c0",
   "metadata": {},
   "outputs": [
    {
     "name": "stdout",
     "output_type": "stream",
     "text": [
      "Roll number: MA060\n",
      "Student name: kaushal\n",
      "Enter marks for subject 1: 80\n",
      "Enter marks for subject 2: 90\n",
      "Enter marks for subject 3: 80\n",
      "------ Mark Sheet ------\n",
      "Roll Number: MA060\n",
      "Student Name: kaushal\n",
      "------------------------\n",
      "Subject 1: 80\n",
      "Subject 2: 90\n",
      "Subject 3: 80\n",
      "------------------------\n",
      "Total Marks: 250\n",
      "Percentage: 83.33333333333334\n",
      "Grade: B\n",
      "Result: Pass\n",
      "------------------------\n"
     ]
    }
   ],
   "source": [
    "r = input(\"Roll number: \")\n",
    "n = input(\"Student name: \")\n",
    "s1 = int(input(\"Enter marks for subject 1: \"))\n",
    "s2 = int(input(\"Enter marks for subject 2: \"))\n",
    "s3 = int(input(\"Enter marks for subject 3: \"))\n",
    "\n",
    "total = s1 + s2 + s3\n",
    "percentage = (total / 300) * 100\n",
    "\n",
    "if percentage >= 90:\n",
    "    grade = \"A\"\n",
    "elif percentage >= 80:\n",
    "    grade = \"B\"\n",
    "elif percentage >= 70:\n",
    "    grade = \"C\"\n",
    "elif percentage >= 60:\n",
    "    grade = \"D\"\n",
    "else:\n",
    "    grade = \"F\"\n",
    "\n",
    "result = \"Pass\" \n",
    "\n",
    "if grade == 'F':\n",
    "    result = \"Fail\"\n",
    "\n",
    "print(\"------ Mark Sheet ------\")\n",
    "print(\"Roll Number:\", r)\n",
    "print(\"Student Name:\", n)\n",
    "print(\"------------------------\")\n",
    "print(\"Subject 1:\", s1)\n",
    "print(\"Subject 2:\", s2)\n",
    "print(\"Subject 3:\", s3)\n",
    "print(\"------------------------\")\n",
    "print(\"Total Marks:\", total)\n",
    "print(\"Percentage:\", percentage)\n",
    "print(\"Grade:\", grade)\n",
    "print(\"Result:\", result)\n",
    "print(\"------------------------\")\n"
   ]
  },
  {
   "cell_type": "markdown",
   "id": "ab021efb",
   "metadata": {},
   "source": [
    "<h4> 3.Input employee details: empno, name, gender, basic salary from user. Calculate DA (Of basic salary to 80% male, 70% to female ), HRA (Of basic salary 15% to female, 10% to male) and net salary. Also calculate gross (yearly) salary which also \n",
    "includes bonus (Of one basic salary 50% to male, 55% to female). "
   ]
  },
  {
   "cell_type": "code",
   "execution_count": 31,
   "id": "e8f7b226",
   "metadata": {},
   "outputs": [
    {
     "name": "stdout",
     "output_type": "stream",
     "text": [
      "Enter employee number: MA060\n",
      "Enter employee name: kaushal\n",
      "Enter employee gender (M/F): M\n",
      "Enter basic salary: 10000\n",
      "------ Employee Details ------\n",
      "Employee Number: MA060\n",
      "Employee Name: kaushal\n",
      "Gender: M\n",
      "------------------------------\n",
      "Basic Salary: 10000.0\n",
      "DA: 8000.0\n",
      "HRA: 1000.0\n",
      "Net Salary: 19000.0\n",
      "------------------------------\n",
      "Gross Salary (Yearly): 233000.0\n",
      "------------------------------\n"
     ]
    }
   ],
   "source": [
    "eno = input(\"Enter employee number: \")\n",
    "name = input(\"Enter employee name: \")\n",
    "gender = input(\"Enter employee gender (M/F): \")\n",
    "bs = float(input(\"Enter basic salary: \"))\n",
    "\n",
    "if gender == \"M\":\n",
    "    da = bs * 0.8\n",
    "    hra = bs * 0.1\n",
    "    bonus = bs * 0.5\n",
    "else:\n",
    "    da = bs * 0.7\n",
    "    hra = bs * 0.15\n",
    "    bonus = bs * 0.55\n",
    "\n",
    "net_salary = bs + da + hra\n",
    "\n",
    "gross_salary = net_salary * 12 + bonus\n",
    "\n",
    "print(\"------ Employee Details ------\")\n",
    "print(\"Employee Number:\", eno)\n",
    "print(\"Employee Name:\", name)\n",
    "print(\"Gender:\", gender)\n",
    "print(\"------------------------------\")\n",
    "print(\"Basic Salary:\", bs)\n",
    "print(\"DA:\", da)\n",
    "print(\"HRA:\", hra)\n",
    "print(\"Net Salary:\", net_salary)\n",
    "print(\"------------------------------\")\n",
    "print(\"Gross Salary (Yearly):\", gross_salary)\n",
    "print(\"------------------------------\")\n"
   ]
  },
  {
   "cell_type": "markdown",
   "id": "a32b8e2d",
   "metadata": {},
   "source": [
    "<h4> 4. Check whether your birthdate has already gone or it is about to come in the current year."
   ]
  },
  {
   "cell_type": "code",
   "execution_count": 14,
   "id": "1b76df62",
   "metadata": {},
   "outputs": [
    {
     "name": "stdout",
     "output_type": "stream",
     "text": [
      "Enter a date (YYYY-MM-DD): 2002-07-15\n",
      "Today is your birthday\n"
     ]
    }
   ],
   "source": [
    "from datetime import datetime\n",
    "\n",
    "curDate = datetime.now().date()\n",
    "\n",
    "bDate = datetime.strptime(input(\"Enter a date (YYYY-MM-DD): \"), \"%Y-%m-%d\").date()\n",
    "\n",
    "bDate = bDate.replace(year=curDate.year)\n",
    "\n",
    "if bDate < curDate:\n",
    "    print(\"Birthday has already gone.\")\n",
    "elif bDate == curDate:\n",
    "    print(\"Today is your birthday\")\n",
    "else:\n",
    "    print(\"Birthday is about to come.\")\n"
   ]
  },
  {
   "cell_type": "markdown",
   "id": "579e8f32",
   "metadata": {},
   "source": [
    "<h4> 5.Determine whether current year is leap year or not."
   ]
  },
  {
   "cell_type": "code",
   "execution_count": 16,
   "id": "0ba3273f",
   "metadata": {},
   "outputs": [
    {
     "name": "stdout",
     "output_type": "stream",
     "text": [
      "The current year is not a leap year.\n"
     ]
    }
   ],
   "source": [
    "import datetime\n",
    "\n",
    "cYear = datetime.datetime.now().year\n",
    "\n",
    "if cYear % 4 == 0 and (cYear % 100 != 0 or cYear % 400 == 0):\n",
    "    print(\"The current year is a leap year.\")\n",
    "else:\n",
    "    print(\"The current year is not a leap year.\")\n"
   ]
  },
  {
   "cell_type": "markdown",
   "id": "d9412896",
   "metadata": {},
   "source": [
    "### EXERCISES-2-c"
   ]
  },
  {
   "cell_type": "markdown",
   "id": "a235d895",
   "metadata": {},
   "source": [
    "<h4>1. Print multiplication table of a number entered by user."
   ]
  },
  {
   "cell_type": "code",
   "execution_count": 15,
   "id": "7b76c99e",
   "metadata": {},
   "outputs": [
    {
     "name": "stdout",
     "output_type": "stream",
     "text": [
      "Enter a number: 5\n",
      "Multiplication Table of 5\n",
      "5 x 1 = 5\n",
      "5 x 2 = 10\n",
      "5 x 3 = 15\n",
      "5 x 4 = 20\n",
      "5 x 5 = 25\n",
      "5 x 6 = 30\n",
      "5 x 7 = 35\n",
      "5 x 8 = 40\n",
      "5 x 9 = 45\n",
      "5 x 10 = 50\n"
     ]
    }
   ],
   "source": [
    "num = int(input(\"Enter a number: \"))\n",
    "\n",
    "print(\"Multiplication Table of\", num)\n",
    "for i in range(1, 11):\n",
    "    r = num * i\n",
    "    print(num, \"x\", i, \"=\", r)\n"
   ]
  },
  {
   "cell_type": "markdown",
   "id": "9e44d2a6",
   "metadata": {},
   "source": [
    "<h4>2. Compute factorial of a number given by user."
   ]
  },
  {
   "cell_type": "code",
   "execution_count": null,
   "id": "c17003bc",
   "metadata": {},
   "outputs": [],
   "source": [
    "num = int(input(\"Enter a number: \"))\n",
    "\n",
    "factorial = 1\n",
    "\n",
    "if num < 0:\n",
    "    print(\"Factorial is not defined for negative numbers.\")\n",
    "elif num == 0:\n",
    "    print(\"The factorial of 0 is 1.\")\n",
    "else:\n",
    "    for i in range(1, num + 1):\n",
    "        factorial *= i\n",
    "\n",
    "    print(\"The factorial of\", num, \"is\", factorial)\n"
   ]
  },
  {
   "cell_type": "markdown",
   "id": "8806a218",
   "metadata": {},
   "source": [
    "<h4> 3. Determine whether a number entered by user is prime or not"
   ]
  },
  {
   "cell_type": "code",
   "execution_count": 21,
   "id": "fb739a51",
   "metadata": {},
   "outputs": [
    {
     "name": "stdout",
     "output_type": "stream",
     "text": [
      "Enter a number: 7\n",
      "The number is prime.\n"
     ]
    }
   ],
   "source": [
    "num = int(input(\"Enter a number: \"))\n",
    "\n",
    "prime = True\n",
    "\n",
    "for i in range(2, int(num/2) + 1):\n",
    "    if num % i == 0:\n",
    "        prime = False\n",
    "        break\n",
    "\n",
    "if prime:\n",
    "    print(\"The number is prime.\")\n",
    "else:\n",
    "    print(\"The number is not prime.\")"
   ]
  },
  {
   "cell_type": "markdown",
   "id": "1f9be1ef",
   "metadata": {},
   "source": [
    "<h4> 4. Determine whether a string entered by user is palindrome or not."
   ]
  },
  {
   "cell_type": "code",
   "execution_count": 24,
   "id": "3b4eecf4",
   "metadata": {},
   "outputs": [
    {
     "name": "stdout",
     "output_type": "stream",
     "text": [
      "Enter a string: maam\n",
      "The string is a palindrome.\n"
     ]
    }
   ],
   "source": [
    "string = input(\"Enter a string: \")\n",
    "if string == string[::-1]:\n",
    "    print(\"The string is a palindrome.\")\n",
    "else:\n",
    "    print(\"The string is not a palindrome.\")"
   ]
  },
  {
   "cell_type": "markdown",
   "id": "85bf21ad",
   "metadata": {},
   "source": [
    "### EXERCISES-2-d"
   ]
  },
  {
   "cell_type": "markdown",
   "id": "cd4edffd",
   "metadata": {},
   "source": [
    "<h4> 1. Find length of a string given by user. Do not use inbuilt function."
   ]
  },
  {
   "cell_type": "code",
   "execution_count": 3,
   "id": "2709f018",
   "metadata": {},
   "outputs": [
    {
     "name": "stdout",
     "output_type": "stream",
     "text": [
      "Enter a string: sdsds\n",
      "Length of the string: 5\n"
     ]
    }
   ],
   "source": [
    "string = input(\"Enter a string: \")\n",
    "\n",
    "length = 0\n",
    "for _ in string:\n",
    "    length += 1\n",
    "\n",
    "print(\"Length of the string:\", length)\n"
   ]
  },
  {
   "cell_type": "markdown",
   "id": "a347716d",
   "metadata": {},
   "source": [
    "<h4> 2.Determine whether a number entered by user is prime or not. Do not use inbuilt functions."
   ]
  },
  {
   "cell_type": "code",
   "execution_count": null,
   "id": "20666109",
   "metadata": {},
   "outputs": [],
   "source": [
    "num = int(input(\"Enter a number: \"))\n",
    "\n",
    "prime = True\n",
    "\n",
    "for i in range(2, int(num/2) + 1):\n",
    "    if num % i == 0:\n",
    "        prime = False\n",
    "        break\n",
    "\n",
    "if prime:\n",
    "    print(\"The number is prime.\")\n",
    "else:\n",
    "    print(\"The number is not prime.\")"
   ]
  },
  {
   "cell_type": "markdown",
   "id": "342c7f81",
   "metadata": {},
   "source": [
    "<h4> 3. Determine whether a string entered by user is palindrome or not. Do not use inbuilt function."
   ]
  },
  {
   "cell_type": "code",
   "execution_count": 27,
   "id": "2b580a92",
   "metadata": {},
   "outputs": [
    {
     "name": "stdout",
     "output_type": "stream",
     "text": [
      "Enter a string: maam\n",
      "The string is a palindrome.\n"
     ]
    }
   ],
   "source": [
    "s = input(\"Enter a string: \")\n",
    "\n",
    "flag = True\n",
    "length = len(s)\n",
    "\n",
    "for i in range(length // 2):\n",
    "    if s[i] != s[length - i - 1]:\n",
    "        flag = False\n",
    "        break\n",
    "\n",
    "if flag:\n",
    "    print(\"The string is a palindrome.\")\n",
    "else:\n",
    "    print(\"The string is not a palindrome.\")\n"
   ]
  },
  {
   "cell_type": "markdown",
   "id": "12608288",
   "metadata": {},
   "source": [
    "<h4> 4. Print pattern:<BR>\n",
    "        *<BR>\n",
    "        * *<BR>\n",
    "        * * *<BR>\n",
    "        * * * *<BR>"
   ]
  },
  {
   "cell_type": "code",
   "execution_count": 28,
   "id": "94d77e56",
   "metadata": {},
   "outputs": [
    {
     "name": "stdout",
     "output_type": "stream",
     "text": [
      "* \n",
      "* * \n",
      "* * * \n",
      "* * * * \n"
     ]
    }
   ],
   "source": [
    "rows = 4\n",
    "\n",
    "for i in range(1, rows + 1):\n",
    "    for j in range(1, i + 1):\n",
    "        print(\"*\", end=\" \")\n",
    "    print()\n"
   ]
  },
  {
   "cell_type": "markdown",
   "id": "f847add9",
   "metadata": {},
   "source": [
    "<h4> 5. Pring pattern: <BR>\n",
    "        1<br>\n",
    "        1 2<br>\n",
    "        1 2 3<br>\n",
    "        ...<br>\n",
    "        1 2 3 .. N<br>"
   ]
  },
  {
   "cell_type": "code",
   "execution_count": 29,
   "id": "248c4ed2",
   "metadata": {},
   "outputs": [
    {
     "name": "stdout",
     "output_type": "stream",
     "text": [
      "Enter the value of N: 7\n",
      "1 \n",
      "1 2 \n",
      "1 2 3 \n",
      "1 2 3 4 \n",
      "1 2 3 4 5 \n",
      "1 2 3 4 5 6 \n",
      "1 2 3 4 5 6 7 \n"
     ]
    }
   ],
   "source": [
    "n = int(input(\"Enter the value of N: \"))\n",
    "\n",
    "for i in range(1, n + 1):\n",
    "    for j in range(1, i + 1):\n",
    "        print(j, end=\" \")\n",
    "    print()\n"
   ]
  },
  {
   "cell_type": "markdown",
   "id": "4c453113",
   "metadata": {},
   "source": [
    "<h4> 6. Pring pattern: <BR>\n",
    "        A<br>\n",
    "        A B<br>\n",
    "        A B C<br>\n",
    "        ...<br>\n",
    "        A B C ...n <br>  "
   ]
  },
  {
   "cell_type": "code",
   "execution_count": 30,
   "id": "53ace40f",
   "metadata": {},
   "outputs": [
    {
     "name": "stdout",
     "output_type": "stream",
     "text": [
      "Enter the value of N: 6\n",
      "A \n",
      "A B \n",
      "A B C \n",
      "A B C D \n",
      "A B C D E \n",
      "A B C D E F \n"
     ]
    }
   ],
   "source": [
    "n = int(input(\"Enter the value of N: \"))\n",
    "\n",
    "for i in range(1, n + 1):\n",
    "    for j in range(1, i + 1):\n",
    "        print(chr(64 + j), end=\" \")\n",
    "    print()\n"
   ]
  },
  {
   "cell_type": "code",
   "execution_count": null,
   "id": "c3720822",
   "metadata": {},
   "outputs": [],
   "source": []
  }
 ],
 "metadata": {
  "kernelspec": {
   "display_name": "Python 3 (ipykernel)",
   "language": "python",
   "name": "python3"
  },
  "language_info": {
   "codemirror_mode": {
    "name": "ipython",
    "version": 3
   },
   "file_extension": ".py",
   "mimetype": "text/x-python",
   "name": "python",
   "nbconvert_exporter": "python",
   "pygments_lexer": "ipython3",
   "version": "3.10.9"
  }
 },
 "nbformat": 4,
 "nbformat_minor": 5
}
