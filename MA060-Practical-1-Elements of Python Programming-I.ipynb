{
 "cells": [
  {
   "cell_type": "markdown",
   "metadata": {},
   "source": [
    "<h1>Practical-1-Elements of Python Programming-I"
   ]
  },
  {
   "cell_type": "markdown",
   "metadata": {},
   "source": [
    "<h5>Name : Tarpara Kaushal\n",
    "<h5>Roll no : MA060"
   ]
  },
  {
   "cell_type": "markdown",
   "metadata": {},
   "source": [
    "<h4>1 .Input user's fullname, age, complete address, phone number on screen. Print them in proper way on screen"
   ]
  },
  {
   "cell_type": "code",
   "execution_count": 6,
   "metadata": {},
   "outputs": [
    {
     "name": "stdout",
     "output_type": "stream",
     "text": [
      "Enter your full name: Kauhsal Tarpara\n",
      "Enter your age: 21\n",
      "Enter your complete address: Jamnagar\n",
      "Enter your phone number: 9924389806\n",
      "\n",
      "Full Name: Kauhsal Tarpara\n",
      "Age: 21\n",
      "Address: Jamnagar\n",
      "Phone Number: 9924389806\n"
     ]
    }
   ],
   "source": [
    "fname = input(\"Enter your full name: \")\n",
    "age = int(input(\"Enter your age: \"))\n",
    "address = input(\"Enter your complete address: \")\n",
    "phone_number = int(input(\"Enter your phone number: \"))\n",
    "\n",
    "print(\"\\nFull Name:\", fname)\n",
    "print(\"Age:\", age)\n",
    "print(\"Address:\", address)\n",
    "print(\"Phone Number:\", phone_number)"
   ]
  },
  {
   "cell_type": "markdown",
   "metadata": {},
   "source": [
    "<h5>2. Input two integer operands from user. Print their summation, difference, multiplication and division."
   ]
  },
  {
   "cell_type": "code",
   "execution_count": 7,
   "metadata": {},
   "outputs": [
    {
     "name": "stdout",
     "output_type": "stream",
     "text": [
      "Enter the first number: 10\n",
      "Enter the second number: 5\n",
      "Summation: 15\n",
      "Difference: 5\n",
      "Multiplication: 50\n",
      "Division: 2.0\n"
     ]
    }
   ],
   "source": [
    "n1 = int(input(\"Enter the first number: \"))\n",
    "n2 = int(input(\"Enter the second number: \"))\n",
    "\n",
    "print(\"Summation:\", n1 + n2)\n",
    "print(\"Difference:\", n1 - n2)\n",
    "print(\"Multiplication:\", n1 * n2)\n",
    "print(\"Division:\", n1 / n2)"
   ]
  },
  {
   "cell_type": "markdown",
   "metadata": {},
   "source": [
    "<h5>3. Input/read principal amount(P), rate of interest(R) and Duraton in Number of years (N) from user. Compute Simple Interest."
   ]
  },
  {
   "cell_type": "code",
   "execution_count": 6,
   "metadata": {},
   "outputs": [
    {
     "name": "stdout",
     "output_type": "stream",
     "text": [
      "Enter the principal amount: 200000\n",
      "Enter the rate of interest (in percentage): 23\n",
      "Enter the duration in number of years: 12\n",
      "Simple Interest: 552000.0\n"
     ]
    }
   ],
   "source": [
    "p = float(input(\"Enter the principal amount: \"))\n",
    "r = float(input(\"Enter the rate of interest (in percentage): \"))\n",
    "n = float(input(\"Enter the duration in number of years: \"))\n",
    "\n",
    "si = p * r * n / 100\n",
    "print(\"Simple Interest:\", si)"
   ]
  },
  {
   "cell_type": "markdown",
   "metadata": {},
   "source": [
    "<h5>4. Compute compound interest in above program."
   ]
  },
  {
   "cell_type": "code",
   "execution_count": 7,
   "metadata": {},
   "outputs": [
    {
     "name": "stdout",
     "output_type": "stream",
     "text": [
      "Compound Interest: 2198232.77\n"
     ]
    }
   ],
   "source": [
    "ci = p * (1 + r / 100 )**n - p\n",
    "print(\"Compound Interest:\", round(ci,2))"
   ]
  },
  {
   "cell_type": "markdown",
   "metadata": {},
   "source": [
    "<h5>5. Input radius of circle from user. Compute diameter, perimeter and area of circle."
   ]
  },
  {
   "cell_type": "code",
   "execution_count": 10,
   "metadata": {},
   "outputs": [
    {
     "name": "stdout",
     "output_type": "stream",
     "text": [
      "Enter the radius of the circle: 5\n",
      "\n",
      "Diameter: 10.0\n",
      "Perimeter: 31.400000000000002\n",
      "Area: 78.5\n"
     ]
    }
   ],
   "source": [
    "radius = float(input(\"Enter the radius of the circle: \"))\n",
    "pi = 3.14\n",
    "diameter = 2 * radius\n",
    "perimeter = 2 * pi * radius\n",
    "area = pi * radius ** 2\n",
    "\n",
    "print(\"\\nDiameter:\", diameter)\n",
    "print(\"Perimeter:\", perimeter)\n",
    "print(\"Area:\", area)"
   ]
  },
  {
   "cell_type": "markdown",
   "metadata": {},
   "source": [
    "<h5>6. Input student details: rollno, name and marks of 4 subjects from user. Calculate total marks, percentage and grade. Print mark-sheet."
   ]
  },
  {
   "cell_type": "code",
   "execution_count": 11,
   "metadata": {},
   "outputs": [
    {
     "name": "stdout",
     "output_type": "stream",
     "text": [
      "Enter the roll number: MA060\n",
      "Enter the student name: Kausahl\n",
      "Enter marks for subject 1: 80\n",
      "Enter marks for subject 2: 70\n",
      "Enter marks for subject 3: 90\n",
      "Enter marks for subject 4: 100\n",
      "\n",
      "-------- Mark Sheet --------\n",
      "Roll Number: MA060\n",
      "Name: Kausahl\n",
      "Subject 1 Marks: 80\n",
      "Subject 2 Marks: 70\n",
      "Subject 3 Marks: 90\n",
      "Subject 4 Marks: 100\n",
      "Total Marks: 340\n",
      "Percentage: 85.0\n",
      "Grade: A\n",
      "------------------------------\n"
     ]
    }
   ],
   "source": [
    "n = input(\"Enter the roll number: \")\n",
    "s = input(\"Enter the student name: \")\n",
    "m1 = int(input(\"Enter marks for subject 1: \"))\n",
    "m2 = int(input(\"Enter marks for subject 2: \"))\n",
    "m3 = int(input(\"Enter marks for subject 3: \"))\n",
    "m4 = int(input(\"Enter marks for subject 4: \"))\n",
    "\n",
    "t = m1 + m2 + m3 + m4\n",
    "p = (t / 400) * 100\n",
    "\n",
    "if p >= 90:\n",
    "    g = \"A+\"\n",
    "elif p >= 80:\n",
    "    g = \"A\"\n",
    "elif p >= 70:\n",
    "    g = \"B\"\n",
    "elif p >= 60:\n",
    "    g = \"C\"\n",
    "elif p >= 50:\n",
    "    g = \"D\"\n",
    "else:\n",
    "    g = \"F\"\n",
    "\n",
    "print(\"\\n-------- Mark Sheet --------\")\n",
    "print(\"Roll Number:\", n)\n",
    "print(\"Name:\", s)\n",
    "print(\"Subject 1 Marks:\", m1)\n",
    "print(\"Subject 2 Marks:\", m2)\n",
    "print(\"Subject 3 Marks:\", m3)\n",
    "print(\"Subject 4 Marks:\", m4)\n",
    "print(\"Total Marks:\", t)\n",
    "print(\"Percentage:\", p)\n",
    "print(\"Grade:\", g)\n",
    "print(\"-\"*30)"
   ]
  },
  {
   "cell_type": "markdown",
   "metadata": {},
   "source": [
    "<h5>7. Input employee details: empno, name, gender, basic salary from user. Calculate DA (110% of basic salary ), HRA (5% of basic salary) and total salary. Also calculate yearly gross salary which also includes bonus (50% of one basic salary)."
   ]
  },
  {
   "cell_type": "code",
   "execution_count": 13,
   "metadata": {},
   "outputs": [
    {
     "name": "stdout",
     "output_type": "stream",
     "text": [
      "Enter employee number: MA060\n",
      "Enter employee name: Kauhsal\n",
      "Enter employee gender: male\n",
      "Enter basic salary: 300000\n",
      "\n",
      "------ Employee Details ------\n",
      "Employee Number: MA060\n",
      "Employee Name: Kauhsal\n",
      "Gender: male\n",
      "Basic Salary: 300000.0\n",
      "DA: 330000.0\n",
      "HRA: 15000.0\n",
      "Total Salary: 645000.0\n",
      "Yearly Gross Salary (including bonus): 7890000.0\n",
      "------------------------------\n"
     ]
    }
   ],
   "source": [
    "e = input(\"Enter employee number: \")\n",
    "n = input(\"Enter employee name: \")\n",
    "g = input(\"Enter employee gender: \")\n",
    "b = float(input(\"Enter basic salary: \"))\n",
    "\n",
    "da = 1.1 * b\n",
    "hra = 0.05 * b\n",
    "t = b + da + hra\n",
    "\n",
    "bonus = 0.5 * b\n",
    "y = t * 12 + bonus\n",
    "\n",
    "print(\"\\n------ Employee Details ------\")\n",
    "print(\"Employee Number:\", e)\n",
    "print(\"Employee Name:\", n)\n",
    "print(\"Gender:\", g)\n",
    "print(\"Basic Salary:\", b)\n",
    "print(\"DA:\", da)\n",
    "print(\"HRA:\", hra)\n",
    "print(\"Total Salary:\", t)\n",
    "print(\"Yearly Gross Salary (including bonus):\", y)\n",
    "print(\"-\"*30)\n"
   ]
  },
  {
   "cell_type": "markdown",
   "metadata": {},
   "source": [
    "<h5>8. Compute area and perimeter of a rectangle."
   ]
  },
  {
   "cell_type": "code",
   "execution_count": 15,
   "metadata": {},
   "outputs": [
    {
     "name": "stdout",
     "output_type": "stream",
     "text": [
      "Enter the length of rectangle: 12\n",
      "Enter the width of rectangle: 5\n",
      "Area of  rectangle: 60.0 \n",
      "Perimeter of  rectangle: 34.0\n"
     ]
    }
   ],
   "source": [
    "length = float(input(\"Enter the length of rectangle: \"))\n",
    "width = float(input(\"Enter the width of rectangle: \"))\n",
    "\n",
    "area = length * width\n",
    "perimeter = 2 * (length + width)\n",
    "\n",
    "print(\"Area of  rectangle:\", area,\"\\nPerimeter of  rectangle:\", perimeter)"
   ]
  },
  {
   "cell_type": "markdown",
   "metadata": {},
   "source": [
    "<h5>9. (i) Celcius to Fahrenheit. (ii) Fahrenheit to Celcius."
   ]
  },
  {
   "cell_type": "code",
   "execution_count": 16,
   "metadata": {},
   "outputs": [
    {
     "name": "stdout",
     "output_type": "stream",
     "text": [
      "\n",
      "Enter the temperature in Celsius: 20\n",
      "Temperature in Fahrenheit: 68.0\n",
      "\n",
      "Enter the temperature in Fahrenheit: 30\n",
      "Temperature in Celsius: -1.1111111111111112\n"
     ]
    }
   ],
   "source": [
    "c = float(input(\"\\nEnter the temperature in Celsius: \"))\n",
    "f = (c * 9/5) + 32\n",
    "print(\"Temperature in Fahrenheit:\", f)\n",
    "\n",
    "f = float(input(\"\\nEnter the temperature in Fahrenheit: \"))\n",
    "c = (f - 32) * 5/9\n",
    "print(\"Temperature in Celsius:\", c)"
   ]
  },
  {
   "cell_type": "markdown",
   "metadata": {},
   "source": [
    "<h5>10. (i) Show current date. (ii) Show current time. (iii) Show current date and time."
   ]
  },
  {
   "cell_type": "code",
   "execution_count": 17,
   "metadata": {},
   "outputs": [
    {
     "name": "stdout",
     "output_type": "stream",
     "text": [
      "Current Date: 2023-07-09\n",
      "Current Time: 12:01:14.095416\n",
      "Current Date and Time: 2023-07-09 12:01:14.096416\n"
     ]
    }
   ],
   "source": [
    "import datetime\n",
    "\n",
    "print(\"Current Date:\", datetime.date.today())\n",
    "print(\"Current Time:\", datetime.datetime.now().time())\n",
    "print(\"Current Date and Time:\", datetime.datetime.now())"
   ]
  },
  {
   "cell_type": "markdown",
   "metadata": {},
   "source": [
    "<h5>11. Store your birthdate (in a valid date format) in a variable."
   ]
  },
  {
   "cell_type": "code",
   "execution_count": 18,
   "metadata": {},
   "outputs": [
    {
     "name": "stdout",
     "output_type": "stream",
     "text": [
      "Enter Date (1-31): 10\n",
      "Enter the month (1-12): 7\n",
      "Enter the year: 2002\n",
      "Formatted Date: July 10, 2002\n"
     ]
    }
   ],
   "source": [
    "import datetime\n",
    "\n",
    "d = int(input(\"Enter Date (1-31): \")) \n",
    "month = int(input(\"Enter the month (1-12): \"))\n",
    "year = int(input(\"Enter the year: \"))\n",
    "\n",
    "date = datetime.datetime(year, month, d).date().strftime(\"%B %d, %Y\")\n",
    "print(\"Formatted Date:\", date)\n"
   ]
  },
  {
   "cell_type": "code",
   "execution_count": null,
   "metadata": {},
   "outputs": [],
   "source": []
  }
 ],
 "metadata": {
  "kernelspec": {
   "display_name": "Python 3 (ipykernel)",
   "language": "python",
   "name": "python3"
  },
  "language_info": {
   "codemirror_mode": {
    "name": "ipython",
    "version": 3
   },
   "file_extension": ".py",
   "mimetype": "text/x-python",
   "name": "python",
   "nbconvert_exporter": "python",
   "pygments_lexer": "ipython3",
   "version": "3.10.9"
  }
 },
 "nbformat": 4,
 "nbformat_minor": 2
}
