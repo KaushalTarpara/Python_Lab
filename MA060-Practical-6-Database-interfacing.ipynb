{
 "cells": [
  {
   "cell_type": "markdown",
   "id": "7fdd949c",
   "metadata": {},
   "source": [
    "<h1>Practical-6-Database-interfacing"
   ]
  },
  {
   "cell_type": "markdown",
   "id": "9d1d1075",
   "metadata": {},
   "source": [
    "<h5>Name : Tarpara Kaushal\n",
    "<h5>Roll no : MA060"
   ]
  },
  {
   "cell_type": "markdown",
   "id": "6afb72bb",
   "metadata": {},
   "source": [
    "<h3>1. Create connection to the mysql on localhost."
   ]
  },
  {
   "cell_type": "code",
   "execution_count": 2,
   "id": "aacf2fd8",
   "metadata": {
    "scrolled": true
   },
   "outputs": [
    {
     "name": "stdout",
     "output_type": "stream",
     "text": [
      "Connection =  <mysql.connector.connection.MySQLConnection object at 0x00000187ED9B2560>\n"
     ]
    }
   ],
   "source": [
    "import mysql.connector\n",
    "\n",
    "con = mysql.connector.connect(host=\"localhost\", user=\"root\", password=\"\")\n",
    "\n",
    "print(\"Connection = \",con)\n",
    "\n",
    "con.close()"
   ]
  },
  {
   "cell_type": "markdown",
   "id": "c27322be",
   "metadata": {},
   "source": [
    "<h3>2. List all the databases available in your system."
   ]
  },
  {
   "cell_type": "code",
   "execution_count": 3,
   "id": "d318dabf",
   "metadata": {},
   "outputs": [
    {
     "name": "stdout",
     "output_type": "stream",
     "text": [
      "db_springjpa\n",
      "dbstudent\n",
      "information_schema\n",
      "mysql\n",
      "performance_schema\n",
      "sys\n"
     ]
    }
   ],
   "source": [
    "import mysql.connector\n",
    "\n",
    "conn = mysql.connector.connect(host=\"localhost\", user=\"root\", password=\"\")\n",
    "cursor = conn.cursor()\n",
    "cursor.execute(\"SHOW DATABASES\")\n",
    "for db in cursor.fetchall():\n",
    "    print(db[0])\n",
    "cursor.close()\n",
    "conn.close()\n"
   ]
  },
  {
   "cell_type": "markdown",
   "id": "7f7a163e",
   "metadata": {},
   "source": [
    "<h3>3. Create a database dbStudent. Connect to it."
   ]
  },
  {
   "cell_type": "code",
   "execution_count": 7,
   "id": "b2d7f9c4",
   "metadata": {},
   "outputs": [
    {
     "name": "stdout",
     "output_type": "stream",
     "text": [
      "'dbStudent' database Created\n",
      "Connected to 'dbStudent' database\n"
     ]
    }
   ],
   "source": [
    "import mysql.connector\n",
    "\n",
    "conn = mysql.connector.connect(host=\"localhost\", user=\"root\", password=\"\")\n",
    "cursor = conn.cursor()\n",
    "cursor.execute(\"CREATE DATABASE IF NOT EXISTS dbStudent\")\n",
    "print(\"'dbStudent' database Created\")\n",
    "cursor.close()\n",
    "\n",
    "conn = mysql.connector.connect(host=\"localhost\", user=\"root\", password=\"\", database=\"dbStudent\")\n",
    "print(\"Connected to 'dbStudent' database\")\n",
    "\n"
   ]
  },
  {
   "cell_type": "markdown",
   "id": "100e27a1",
   "metadata": {},
   "source": [
    "<h3>4. Create a table tblStudent with columns of suitable type: rollno, name, birthdate, gender, cmarks, cppmarks, pythonmarks,totalmarks, percentage and grade."
   ]
  },
  {
   "cell_type": "code",
   "execution_count": 1,
   "id": "d2c94d9a",
   "metadata": {},
   "outputs": [
    {
     "name": "stdout",
     "output_type": "stream",
     "text": [
      "Table 'tblStudent' created successfully.\n"
     ]
    }
   ],
   "source": [
    "import mysql.connector\n",
    "\n",
    "conn = mysql.connector.connect(host=\"localhost\", user=\"root\", password=\"\", database=\"dbStudent\")\n",
    "cursor = conn.cursor()\n",
    "\n",
    "create_table_query = \"\"\"\n",
    "    CREATE TABLE IF NOT EXISTS tblStudent (\n",
    "        rollno INT PRIMARY KEY,\n",
    "        name VARCHAR(255),\n",
    "        birthdate DATE,\n",
    "        gender ENUM('Male', 'Female', 'Other'),\n",
    "        cmarks INT,\n",
    "        cppmarks INT,\n",
    "        pythonmarks INT,\n",
    "        totalmarks INT,\n",
    "        percentage DECIMAL(5, 2),\n",
    "        grade CHAR(1)\n",
    "    )\n",
    "\"\"\"\n",
    "\n",
    "cursor.execute(create_table_query)\n",
    "conn.commit()\n",
    "cursor.close()\n",
    "conn.close()\n",
    "\n",
    "print(\"Table 'tblStudent' created successfully.\")\n"
   ]
  },
  {
   "cell_type": "markdown",
   "id": "7f7cc6ca",
   "metadata": {},
   "source": [
    "<h3>5. Insert at least 10 rows (only rollno, name, birthdate, gender, cmarks, cppmarks, pythonmarks) into tblStudent. Use different ways for the same (as shown in various examples shown above)."
   ]
  },
  {
   "cell_type": "code",
   "execution_count": 2,
   "id": "3b549004",
   "metadata": {},
   "outputs": [
    {
     "name": "stdout",
     "output_type": "stream",
     "text": [
      "Inserted student data into 'tblStudent' successfully.\n"
     ]
    }
   ],
   "source": [
    "import mysql.connector\n",
    "\n",
    "conn = mysql.connector.connect(host=\"localhost\", user=\"root\", password=\"\", database=\"dbStudent\")\n",
    "cursor = conn.cursor()\n",
    "\n",
    "student_data = [\n",
    "    (1, 'Amit Patel', '1997-06-15', 'Male', 82, 88, 76),\n",
    "    (2, 'Priya Singh', '1998-03-28', 'Female', 78, 85, 92),\n",
    "    (3, 'Rahul Sharma', '1997-09-10', 'Male', 90, 92, 88),\n",
    "    (4, 'Deepika Reddy', '1996-04-25', 'Female', 88, 80, 78),\n",
    "    (5, 'Rajesh Kumar', '1998-02-10', 'Male', 92, 89, 90),\n",
    "    (6, 'Pooja Verma', '1997-07-18', 'Female', 84, 87, 85),\n",
    "    (7, 'Sachin Gupta', '1996-11-20', 'Male', 85, 78, 88),\n",
    "    (8, 'Neha Mishra', '1998-05-08', 'Female', 79, 86, 94),\n",
    "    (9, 'Vikas Yadav', '1997-08-12', 'Male', 88, 91, 84),\n",
    "    (10, 'Anita Choudhary', '1998-01-05', 'Female', 82, 83, 87)\n",
    "]\n",
    "\n",
    "insert_query = \"\"\"\n",
    "    INSERT INTO tblStudent (rollno, name, birthdate, gender, cmarks, cppmarks, pythonmarks)\n",
    "    VALUES (%s, %s, %s, %s, %s, %s, %s)\n",
    "\"\"\"\n",
    "\n",
    "cursor.executemany(insert_query, student_data)\n",
    "conn.commit()\n",
    "\n",
    "cursor.close()\n",
    "conn.close()\n",
    "\n",
    "print(\"Inserted student data into 'tblStudent' successfully.\")\n"
   ]
  },
  {
   "cell_type": "markdown",
   "id": "819ae132",
   "metadata": {},
   "source": [
    "<h3>6. Print all rows (only rollno, name, birthdate, gender, cmarks, cppmarks, pythonmarks) on screen (as shown in various examples shown above)."
   ]
  },
  {
   "cell_type": "code",
   "execution_count": 9,
   "id": "e63fd8b0",
   "metadata": {},
   "outputs": [
    {
     "name": "stdout",
     "output_type": "stream",
     "text": [
      "Roll No  Name            Birthdate    Gender   C Marks CPP Marks Python Marks\n",
      "==============================================================================\n",
      "1        Amit Patel      1997-06-15   Male     82      88        76     \n",
      "2        Priya Singh     1998-03-28   Female   78      85        92     \n",
      "3        Rahul Sharma    1997-09-10   Male     90      92        88     \n",
      "4        Deepika Reddy   1996-04-25   Female   88      80        78     \n",
      "5        Rajesh Kumar    1998-02-10   Male     92      89        90     \n",
      "6        Pooja Verma     1997-07-18   Female   84      87        85     \n",
      "7        Sachin Gupta    1996-11-20   Male     85      78        88     \n",
      "8        Neha Mishra     1998-05-08   Female   79      86        94     \n",
      "9        Vikas Yadav     1997-08-12   Male     88      91        84     \n",
      "10       Anita Choudhary 1998-01-05   Female   82      83        87     \n"
     ]
    }
   ],
   "source": [
    "import mysql.connector\n",
    " \n",
    "conn = mysql.connector.connect(host=\"localhost\", user=\"root\", password=\"\", database=\"dbStudent\")\n",
    "cursor = conn.cursor()\n",
    "\n",
    "cursor.execute(\"SELECT rollno, name, DATE_FORMAT(birthdate, '%Y-%m-%d'), gender, cmarks, cppmarks, pythonmarks FROM tblStudent\")\n",
    "\n",
    "student_records = cursor.fetchall()\n",
    "\n",
    "print(\"{:<8} {:<15} {:<12} {:<8} {:<7} {:<7} {:<7}\".format(\"Roll No\", \"Name\", \"Birthdate\", \"Gender\", \"C Marks\", \"CPP Marks\", \"Python Marks\"))\n",
    "print(\"=\"*78)\n",
    "\n",
    "for record in student_records:\n",
    "    rollno, name, birthdate, gender, cmarks, cppmarks, pythonmarks = record\n",
    "    print(\"{:<8} {:<15} {:<12} {:<8} {:<7} {:<9} {:<7}\".format(rollno, name, birthdate, gender, cmarks, cppmarks, pythonmarks))\n",
    "\n",
    "cursor.close()\n",
    "conn.close()\n"
   ]
  },
  {
   "cell_type": "markdown",
   "id": "7f836966",
   "metadata": {},
   "source": [
    "<h3>7. Compute & update totalmarks for all rows in table."
   ]
  },
  {
   "cell_type": "code",
   "execution_count": 10,
   "id": "e84ec213",
   "metadata": {},
   "outputs": [
    {
     "name": "stdout",
     "output_type": "stream",
     "text": [
      "Totalmarks computed and updated successfully for all rows.\n"
     ]
    }
   ],
   "source": [
    "import mysql.connector\n",
    "\n",
    "conn = mysql.connector.connect(host=\"localhost\", user=\"root\", password=\"\", database=\"dbStudent\")\n",
    "cursor = conn.cursor()\n",
    "\n",
    "compute_total_query = \"UPDATE tblStudent SET totalmarks = cmarks + cppmarks + pythonmarks\"\n",
    "cursor.execute(compute_total_query)\n",
    "conn.commit()\n",
    "\n",
    "cursor.close()\n",
    "conn.close()\n",
    "\n",
    "print(\"Totalmarks computed and updated successfully for all rows.\")\n"
   ]
  },
  {
   "cell_type": "markdown",
   "id": "4a7c63d3",
   "metadata": {},
   "source": [
    "<h3>8. Compute & update percentage for all rows in table."
   ]
  },
  {
   "cell_type": "code",
   "execution_count": 11,
   "id": "9a7c7981",
   "metadata": {},
   "outputs": [
    {
     "name": "stdout",
     "output_type": "stream",
     "text": [
      "Percentage computed and updated successfully for all rows.\n"
     ]
    }
   ],
   "source": [
    "import mysql.connector\n",
    "\n",
    "conn = mysql.connector.connect(host=\"localhost\", user=\"root\", password=\"\", database=\"dbStudent\")\n",
    "cursor = conn.cursor()\n",
    "\n",
    "compute_percentage_query = \"UPDATE tblStudent SET percentage = (cmarks + cppmarks + pythonmarks) / 3\"\n",
    "cursor.execute(compute_percentage_query)\n",
    "conn.commit()\n",
    "\n",
    "cursor.close()\n",
    "conn.close()\n",
    "\n",
    "print(\"Percentage computed and updated successfully for all rows.\")\n"
   ]
  },
  {
   "cell_type": "markdown",
   "id": "bc8046c4",
   "metadata": {},
   "source": [
    "<h3>9. Compute & update grade for all rows in table."
   ]
  },
  {
   "cell_type": "code",
   "execution_count": 1,
   "id": "28824345",
   "metadata": {},
   "outputs": [
    {
     "name": "stdout",
     "output_type": "stream",
     "text": [
      "Grade computed and updated successfully for all rows.\n"
     ]
    }
   ],
   "source": [
    "import mysql.connector\n",
    "\n",
    "conn = mysql.connector.connect(host=\"localhost\", user=\"root\", password=\"\", database=\"dbStudent\")\n",
    "cursor = conn.cursor()\n",
    "\n",
    "compute_grade_query = \"\"\"\n",
    "    UPDATE tblStudent\n",
    "    SET grade = CASE\n",
    "        WHEN percentage >= 90 THEN 'A'\n",
    "        WHEN percentage >= 80 THEN 'B'\n",
    "        WHEN percentage >= 70 THEN 'C'\n",
    "        WHEN percentage >= 60 THEN 'D'\n",
    "        WHEN percentage >= 50 THEN 'E'\n",
    "        ELSE 'F'\n",
    "    END\n",
    "\"\"\"\n",
    "\n",
    "cursor.execute(compute_grade_query)\n",
    "conn.commit()\n",
    "\n",
    "cursor.close()\n",
    "conn.close()\n",
    "\n",
    "print(\"Grade computed and updated successfully for all rows.\")\n"
   ]
  },
  {
   "cell_type": "markdown",
   "id": "4fe6636d",
   "metadata": {},
   "source": [
    "<h3>10. Print all rows (all columns)."
   ]
  },
  {
   "cell_type": "code",
   "execution_count": 35,
   "id": "3c257a8e",
   "metadata": {},
   "outputs": [
    {
     "name": "stdout",
     "output_type": "stream",
     "text": [
      "Roll No  Name            Birthdate    Gender   C       CPP     Python       Totalmarks Percentage Grade  \n",
      "============================================================================================================\n",
      "1        Amit Patel      1997-06-15   Male     82      88        76           246        82.00      B      \n",
      "2        Priya Singh     1998-03-28   Female   78      85        92           255        85.00      B      \n",
      "3        Rahul Sharma    1997-09-10   Male     90      92        88           270        90.00      A      \n",
      "4        Deepika Reddy   1996-04-25   Female   88      80        78           246        82.00      B      \n",
      "5        Rajesh Kumar    1998-02-10   Male     92      89        90           271        90.33      A      \n",
      "6        Pooja Verma     1997-07-18   Female   84      87        85           256        85.33      B      \n",
      "7        Sachin Gupta    1996-11-20   Male     85      78        88           251        83.67      B      \n",
      "8        Neha Mishra     1998-05-08   Female   79      86        94           259        86.33      B      \n",
      "9        Vikas Yadav     1997-08-12   Male     88      91        84           263        87.67      B      \n",
      "10       Anita Choudhary 1998-01-05   Female   82      83        87           252        84.00      B      \n"
     ]
    }
   ],
   "source": [
    "import mysql.connector\n",
    "\n",
    "conn = mysql.connector.connect(host=\"localhost\", user=\"root\", password=\"\", database=\"dbStudent\")\n",
    "cursor = conn.cursor()\n",
    "\n",
    "select_all_query = \"SELECT rollno, name, DATE_FORMAT(birthdate, '%Y-%m-%d'), gender, cmarks, cppmarks, pythonmarks,totalmarks, percentage, grade FROM tblStudent\"\n",
    "cursor.execute(select_all_query)\n",
    "\n",
    "student_records = cursor.fetchall()\n",
    "\n",
    "print(\"{:<8} {:<15} {:<12} {:<8} {:<7} {:<7} {:13}{:<7} {:<7} {:<7}\".format(\"Roll No\", \"Name\", \"Birthdate\", \"Gender\", \"C\", \"CPP\", \"Python\",\"Totalmarks\", \"Percentage\", \"Grade\" ))\n",
    "print(\"=\"*108)\n",
    "\n",
    "\n",
    "    \n",
    "for record in student_records:\n",
    "    rollno, name, birthdate, gender, cmarks, cppmarks, pythonmarks, totalmarks, percentage, grade = record\n",
    "    print(\"{:<8} {:<15} {:<12} {:<8} {:<7} {:<9} {:<12} {:<10} {:<10} {:<7}\".format(rollno, name, birthdate, gender, cmarks, cppmarks, pythonmarks, totalmarks, percentage, grade))\n",
    " \n",
    "cursor.close()\n",
    "conn.close()\n"
   ]
  },
  {
   "cell_type": "markdown",
   "id": "f16870d7",
   "metadata": {},
   "source": [
    "<h3>11. Print all rows with only columns: rollno, name, percentage and grade."
   ]
  },
  {
   "cell_type": "code",
   "execution_count": 43,
   "id": "a091e560",
   "metadata": {},
   "outputs": [
    {
     "name": "stdout",
     "output_type": "stream",
     "text": [
      "Roll No  Name            Percentage   Grade    \n",
      "===========================================\n",
      "1        Amit Patel      82.00        B        \n",
      "2        Priya Singh     85.00        B        \n",
      "3        Rahul Sharma    90.00        A        \n",
      "4        Deepika Reddy   82.00        B        \n",
      "5        Rajesh Kumar    90.33        A        \n",
      "6        Pooja Verma     85.33        B        \n",
      "7        Sachin Gupta    83.67        B        \n",
      "8        Neha Mishra     86.33        B        \n",
      "9        Vikas Yadav     87.67        B        \n",
      "10       Anita Choudhary 84.00        B        \n"
     ]
    }
   ],
   "source": [
    "import mysql.connector\n",
    "\n",
    "conn = mysql.connector.connect(host=\"localhost\", user=\"root\", password=\"\", database=\"dbStudent\")\n",
    "cursor = conn.cursor()\n",
    "\n",
    "select_query = \"SELECT rollno, name, percentage, grade FROM tblStudent\"\n",
    "cursor.execute(select_query)\n",
    "\n",
    "student_records = cursor.fetchall()\n",
    "\n",
    "print(\"{:<8} {:<15} {:<12} {:<8} \".format(\"Roll No\", \"Name\", \"Percentage\", \"Grade\" )) \n",
    "print(\"=\"*43)\n",
    "for record in student_records:\n",
    "    rollno, name, percentage, grade = record\n",
    "    print(\"{:<8} {:<15} {:<12} {:<8} \".format(rollno, name, percentage, grade))\n",
    " \n",
    "\n",
    "cursor.close()\n",
    "conn.close()\n"
   ]
  },
  {
   "cell_type": "markdown",
   "id": "7f37834a",
   "metadata": {},
   "source": [
    "<h3>12. Print merit list."
   ]
  },
  {
   "cell_type": "code",
   "execution_count": 44,
   "id": "bcb49e17",
   "metadata": {},
   "outputs": [
    {
     "name": "stdout",
     "output_type": "stream",
     "text": [
      "Roll No  Name            Percentage   Grade   \n",
      "===========================================\n",
      "5        Rajesh Kumar    90.33        A       \n",
      "3        Rahul Sharma    90.00        A       \n",
      "9        Vikas Yadav     87.67        B       \n",
      "8        Neha Mishra     86.33        B       \n",
      "6        Pooja Verma     85.33        B       \n",
      "2        Priya Singh     85.00        B       \n",
      "10       Anita Choudhary 84.00        B       \n",
      "7        Sachin Gupta    83.67        B       \n",
      "1        Amit Patel      82.00        B       \n",
      "4        Deepika Reddy   82.00        B       \n"
     ]
    }
   ],
   "source": [
    "import mysql.connector\n",
    "\n",
    "conn = mysql.connector.connect(host=\"localhost\", user=\"root\", password=\"\", database=\"dbStudent\")\n",
    "cursor = conn.cursor()\n",
    "\n",
    "select_query = \"SELECT rollno, name, percentage, grade FROM tblStudent ORDER BY percentage DESC\"\n",
    "cursor.execute(select_query)\n",
    "\n",
    "student_records = cursor.fetchall()\n",
    "\n",
    "print(\"{:<8} {:<15} {:<12} {:<8}\".format(\"Roll No\", \"Name\", \"Percentage\", \"Grade\"))\n",
    "print(\"=\" * 43)\n",
    "\n",
    "for record in student_records:\n",
    "    rollno, name, percentage, grade = record\n",
    "    print(\"{:<8} {:<15} {:<12} {:<8}\".format(rollno, name, percentage, grade))\n",
    "\n",
    "cursor.close()\n",
    "conn.close()\n"
   ]
  },
  {
   "cell_type": "markdown",
   "id": "81310ff7",
   "metadata": {},
   "source": [
    "<h3>13. Print first two toppers."
   ]
  },
  {
   "cell_type": "code",
   "execution_count": 45,
   "id": "bcc69c86",
   "metadata": {},
   "outputs": [
    {
     "name": "stdout",
     "output_type": "stream",
     "text": [
      "Roll No  Name            Percentage   Grade   \n",
      "===========================================\n",
      "5        Rajesh Kumar    90.33        A       \n",
      "3        Rahul Sharma    90.00        A       \n"
     ]
    }
   ],
   "source": [
    "import mysql.connector\n",
    "\n",
    "conn = mysql.connector.connect(host=\"localhost\", user=\"root\", password=\"\", database=\"dbStudent\")\n",
    "cursor = conn.cursor()\n",
    "\n",
    "select_query = \"SELECT rollno, name, percentage, grade FROM tblStudent ORDER BY percentage DESC LIMIT 2\"\n",
    "cursor.execute(select_query)\n",
    "\n",
    "toppers = cursor.fetchall()\n",
    "\n",
    "print(\"{:<8} {:<15} {:<12} {:<8}\".format(\"Roll No\", \"Name\", \"Percentage\", \"Grade\"))\n",
    "print(\"=\" * 43)\n",
    "\n",
    "for record in toppers:\n",
    "    rollno, name, percentage, grade = record\n",
    "    print(\"{:<8} {:<15} {:<12} {:<8}\".format(rollno, name, percentage, grade))\n",
    "\n",
    "cursor.close()\n",
    "conn.close()\n"
   ]
  },
  {
   "cell_type": "markdown",
   "id": "79e692c0",
   "metadata": {},
   "source": [
    "<h3>14. Print girl students who have failed in at least two subjects."
   ]
  },
  {
   "cell_type": "code",
   "execution_count": 54,
   "id": "28fc391e",
   "metadata": {},
   "outputs": [
    {
     "name": "stdout",
     "output_type": "stream",
     "text": [
      "Roll No  Name           \n",
      "===========================\n"
     ]
    }
   ],
   "source": [
    "import mysql.connector\n",
    "\n",
    "conn = mysql.connector.connect(host=\"localhost\", user=\"root\", password=\"\", database=\"dbStudent\")\n",
    "cursor = conn.cursor()\n",
    "\n",
    "select_query = \"\"\"\n",
    "    SELECT rollno, name\n",
    "    FROM tblStudent\n",
    "    WHERE gender = 'Female' AND (cmarks < 40 OR cppmarks < 40 OR pythonmarks < 40)\n",
    "\"\"\"\n",
    "\n",
    "cursor.execute(select_query)\n",
    "\n",
    "failed_girls = cursor.fetchall()\n",
    "\n",
    "print(\"{:<8} {:<15}\".format(\"Roll No\", \"Name\"))\n",
    "print(\"=\" * 27)\n",
    "\n",
    "for record in failed_girls:\n",
    "    rollno, name = record\n",
    "    print(\"{:<8} {:<15}\".format(rollno, name))\n",
    "\n",
    "cursor.close()\n",
    "conn.close()\n"
   ]
  },
  {
   "cell_type": "markdown",
   "id": "54a025d9",
   "metadata": {},
   "source": [
    "<h3>15. Print youngest female topper."
   ]
  },
  {
   "cell_type": "code",
   "execution_count": 56,
   "id": "0c90a1ee",
   "metadata": {},
   "outputs": [
    {
     "name": "stdout",
     "output_type": "stream",
     "text": [
      "Roll No  Name           \n",
      "===========================\n",
      "4        Deepika Reddy  \n"
     ]
    }
   ],
   "source": [
    "import mysql.connector\n",
    "\n",
    "conn = mysql.connector.connect(host=\"localhost\", user=\"root\", password=\"\", database=\"dbStudent\")\n",
    "cursor = conn.cursor()\n",
    "\n",
    "select_query = \"\"\"\n",
    "    SELECT rollno, name\n",
    "    FROM tblStudent\n",
    "    WHERE gender = 'Female'\n",
    "    ORDER BY birthdate ASC, percentage DESC\n",
    "    LIMIT 1\n",
    "\"\"\"\n",
    "\n",
    "cursor.execute(select_query)\n",
    "\n",
    "youngest_female_topper = cursor.fetchone()\n",
    "\n",
    "print(\"{:<8} {:<15}\".format(\"Roll No\", \"Name\"))\n",
    "print(\"=\" * 27)\n",
    "\n",
    "rollno, name = youngest_female_topper\n",
    "print(\"{:<8} {:<15}\".format(rollno, name))\n",
    "\n",
    "cursor.close()\n",
    "conn.close()\n"
   ]
  },
  {
   "cell_type": "markdown",
   "id": "5f6f362b",
   "metadata": {},
   "source": [
    "<h3>16. Print oldest male topper."
   ]
  },
  {
   "cell_type": "code",
   "execution_count": 57,
   "id": "1a4d1e4f",
   "metadata": {},
   "outputs": [
    {
     "name": "stdout",
     "output_type": "stream",
     "text": [
      "Roll No  Name           \n",
      "===========================\n",
      "5        Rajesh Kumar   \n"
     ]
    }
   ],
   "source": [
    "import mysql.connector\n",
    "\n",
    "conn = mysql.connector.connect(host=\"localhost\", user=\"root\", password=\"\", database=\"dbStudent\")\n",
    "cursor = conn.cursor()\n",
    "\n",
    "select_query = \"\"\"\n",
    "    SELECT rollno, name\n",
    "    FROM tblStudent\n",
    "    WHERE gender = 'Male'\n",
    "    ORDER BY birthdate DESC, percentage DESC\n",
    "    LIMIT 1\n",
    "\"\"\"\n",
    "\n",
    "cursor.execute(select_query)\n",
    "\n",
    "oldest_male_topper = cursor.fetchone()\n",
    "\n",
    "print(\"{:<8} {:<15}\".format(\"Roll No\", \"Name\"))\n",
    "print(\"=\" * 27)\n",
    "\n",
    "rollno, name = oldest_male_topper\n",
    "print(\"{:<8} {:<15}\".format(rollno, name))\n",
    "\n",
    "cursor.close()\n",
    "conn.close()\n"
   ]
  },
  {
   "cell_type": "markdown",
   "id": "944d08f1",
   "metadata": {},
   "source": [
    "<h3>17. Change birth month to January who were born in December."
   ]
  },
  {
   "cell_type": "code",
   "execution_count": 58,
   "id": "bd3e8902",
   "metadata": {},
   "outputs": [],
   "source": [
    "import mysql.connector\n",
    "\n",
    "conn = mysql.connector.connect(host=\"localhost\", user=\"root\", password=\"\", database=\"dbStudent\")\n",
    "cursor = conn.cursor()\n",
    "\n",
    "update_query = \"\"\"\n",
    "    UPDATE tblStudent\n",
    "    SET birthdate = DATE_ADD(birthdate, INTERVAL 1 MONTH)\n",
    "    WHERE MONTH(birthdate) = 12\n",
    "\"\"\"\n",
    "\n",
    "cursor.execute(update_query)\n",
    "\n",
    "conn.commit()\n",
    "\n",
    "cursor.close()\n",
    "conn.close()\n"
   ]
  },
  {
   "cell_type": "markdown",
   "id": "485aea80",
   "metadata": {},
   "source": [
    "<h3>18. Change birthdate of topper student as 01-01-2000."
   ]
  },
  {
   "cell_type": "code",
   "execution_count": 69,
   "id": "896b3f07",
   "metadata": {},
   "outputs": [],
   "source": [
    "import mysql.connector\n",
    "\n",
    "conn = mysql.connector.connect(\n",
    "    host=\"localhost\",\n",
    "    user=\"root\",\n",
    "    password=\"\",\n",
    "    database=\"dbStudent\"\n",
    ")\n",
    "\n",
    "cursor = conn.cursor()\n",
    "\n",
    "select_query = \"SELECT MAX(percentage) FROM tblStudent\"\n",
    "\n",
    "cursor.execute(select_query)\n",
    "max_percentage = cursor.fetchone()[0]\n",
    "\n",
    "update_query = \"UPDATE tblStudent SET birthdate = '2000-01-01' WHERE percentage = %s\"\n",
    "\n",
    "cursor.execute(update_query, (max_percentage,))\n",
    "\n",
    "conn.commit()\n",
    "\n",
    "cursor.close()\n",
    "conn.close()\n"
   ]
  },
  {
   "cell_type": "markdown",
   "id": "003b4299",
   "metadata": {},
   "source": [
    "<h3>19. List all students whose birthdate is yet to come in 2023."
   ]
  },
  {
   "cell_type": "code",
   "execution_count": 71,
   "id": "b3d10379",
   "metadata": {},
   "outputs": [
    {
     "name": "stdout",
     "output_type": "stream",
     "text": [
      "Roll No  Name            Birthdate   \n",
      "===================================\n"
     ]
    }
   ],
   "source": [
    "import mysql.connector\n",
    "\n",
    "conn = mysql.connector.connect(\n",
    "    host=\"localhost\",\n",
    "    user=\"root\",\n",
    "    password=\"\",\n",
    "    database=\"dbStudent\"\n",
    ")\n",
    "\n",
    "cursor = conn.cursor()\n",
    "\n",
    "select_students_query = \"\"\"\n",
    "    SELECT rollno, name, birthdate\n",
    "    FROM tblStudent\n",
    "    WHERE YEAR(birthdate) = 2023\n",
    "\"\"\"\n",
    "\n",
    "cursor.execute(select_students_query)\n",
    "\n",
    "results = cursor.fetchall()\n",
    "\n",
    "print(\"{:<8} {:<15} {:<12}\".format(\"Roll No\", \"Name\", \"Birthdate\"))\n",
    "print(\"=\" * 35)\n",
    "\n",
    "for row in results:\n",
    "    rollno, name, birthdate = row\n",
    "    print(\"{:<8} {:<15} {:<12}\".format(rollno, name, birthdate))\n",
    "\n",
    "cursor.close()\n",
    "conn.close()\n"
   ]
  },
  {
   "cell_type": "markdown",
   "id": "36c77810",
   "metadata": {},
   "source": [
    "<h3>20. Create a stored procedure for inserting row in table. Show usage of it."
   ]
  },
  {
   "cell_type": "code",
   "execution_count": null,
   "id": "6e3e503a",
   "metadata": {},
   "outputs": [],
   "source": [
    "# DELIMITER //\n",
    "\n",
    "# CREATE PROCEDURE InsertStudent(\n",
    "#     IN p_rollno INT,\n",
    "#     IN p_name VARCHAR(255),\n",
    "#     IN p_birthdate DATE,\n",
    "#     IN p_gender VARCHAR(10),\n",
    "#     IN p_cmarks INT,\n",
    "#     IN p_cppmarks INT,\n",
    "#     IN p_pythonmarks INT\n",
    "# )\n",
    "# BEGIN\n",
    "#     INSERT INTO tblStudent(rollno, name, birthdate, gender, cmarks, cppmarks, pythonmarks)\n",
    "#     VALUES(p_rollno, p_name, p_birthdate, p_gender, p_cmarks, p_cppmarks, p_pythonmarks);\n",
    "# END;\n",
    "# //\n",
    "\n",
    "# DELIMITER ;\n"
   ]
  },
  {
   "cell_type": "code",
   "execution_count": 72,
   "id": "a1980e92",
   "metadata": {},
   "outputs": [
    {
     "name": "stdout",
     "output_type": "stream",
     "text": [
      "Student data inserted\n"
     ]
    }
   ],
   "source": [
    "import mysql.connector\n",
    "\n",
    "conn = mysql.connector.connect(\n",
    "    host=\"localhost\",\n",
    "    user=\"root\",\n",
    "    password=\"\",\n",
    "    database=\"dbStudent\"\n",
    ")\n",
    "\n",
    "cursor = conn.cursor()\n",
    "\n",
    "rollno = 11\n",
    "name = \"Kaushal Tarpara\"\n",
    "birthdate = \"2000-02-15\"\n",
    "gender = \"Male\"\n",
    "cmarks = 85\n",
    "cppmarks = 88\n",
    "pythonmarks = 92\n",
    "\n",
    "insert_student_query = \"CALL InsertStudent(%s, %s, %s, %s, %s, %s, %s)\"\n",
    "\n",
    "cursor.execute(insert_student_query, (rollno, name, birthdate, gender, cmarks, cppmarks, pythonmarks))\n",
    "print(\"Student data inserted\")\n",
    "conn.commit()\n",
    "\n",
    "cursor.close()\n",
    "conn.close()\n"
   ]
  },
  {
   "cell_type": "markdown",
   "id": "3f28a09b",
   "metadata": {},
   "source": [
    "<h3>21. Create a stored procedure for fetching only female student rows. Show usage of it."
   ]
  },
  {
   "cell_type": "code",
   "execution_count": 73,
   "id": "f93238ba",
   "metadata": {},
   "outputs": [],
   "source": [
    "# # DELIMITER //\n",
    "\n",
    "# CREATE PROCEDURE GetFemaleStudents()\n",
    "# BEGIN\n",
    "#     SELECT * FROM tblStudent WHERE gender = 'Female';\n",
    "# END;\n",
    "# //\n",
    "\n",
    "# DELIMITER ;\n"
   ]
  },
  {
   "cell_type": "code",
   "execution_count": 105,
   "id": "864df295",
   "metadata": {},
   "outputs": [
    {
     "name": "stdout",
     "output_type": "stream",
     "text": [
      "(2, 'Priya Singh', datetime.date(1998, 3, 28), 'Female', 78, 85, 92, 255, Decimal('85.00'), 'B')\n",
      "(4, 'Deepika Reddy', datetime.date(1996, 4, 25), 'Female', 88, 80, 78, 246, Decimal('82.00'), 'B')\n",
      "(6, 'Pooja Verma', datetime.date(1997, 7, 18), 'Female', 84, 87, 85, 256, Decimal('85.33'), 'B')\n",
      "(8, 'Neha Mishra', datetime.date(1998, 5, 8), 'Female', 79, 86, 94, 259, Decimal('86.33'), 'B')\n",
      "(10, 'Anita Choudhary', datetime.date(1998, 1, 5), 'Female', 82, 83, 87, 252, Decimal('84.00'), 'B')\n"
     ]
    }
   ],
   "source": [
    "import mysql.connector\n",
    "\n",
    "\n",
    "conn = mysql.connector.connect(\n",
    "    host=\"localhost\",\n",
    "    user=\"root\",\n",
    "    password=\"\",\n",
    "    database=\"dbStudent\"\n",
    ")\n",
    "\n",
    "cursor = conn.cursor()\n",
    "cursor.callproc(\"GetFemaleStudents\")\n",
    "for result in cursor.stored_results():\n",
    "    details = result.fetchall()\n",
    "   \n",
    "\n",
    "\n",
    "for row in details:\n",
    "    print(row)\n",
    "\n",
    "cursor.close()\n",
    "conn.close()\n"
   ]
  },
  {
   "cell_type": "markdown",
   "id": "9abf0ea6",
   "metadata": {},
   "source": [
    "<h3>22. Create a stored procedure for fetching student records having grade as a specific parameter given by user. Show usage of it."
   ]
  },
  {
   "cell_type": "code",
   "execution_count": null,
   "id": "f6d1e91e",
   "metadata": {},
   "outputs": [],
   "source": [
    "# DELIMITER //\n",
    "\n",
    "# CREATE PROCEDURE GetStudentsByGrade(IN p_grade VARCHAR(2))\n",
    "# BEGIN\n",
    "#      SELECT * FROM tblStudent WHERE grade = p_grade;\n",
    "# END;\n",
    "# //"
   ]
  },
  {
   "cell_type": "code",
   "execution_count": 100,
   "id": "69544d12",
   "metadata": {},
   "outputs": [
    {
     "name": "stdout",
     "output_type": "stream",
     "text": [
      "Enter grade :A\n",
      "(3, 'Rahul Sharma', datetime.date(1997, 9, 10), 'Male', 90, 92, 88, 270, Decimal('90.00'), 'A')\n",
      "(5, 'Rajesh Kumar', datetime.date(2000, 1, 1), 'Male', 92, 89, 90, 271, Decimal('90.33'), 'A')\n"
     ]
    }
   ],
   "source": [
    "import mysql.connector\n",
    "\n",
    "conn = mysql.connector.connect(\n",
    "    host=\"localhost\",\n",
    "    user=\"root\",\n",
    "    password=\"\",\n",
    "    database=\"dbStudent\"\n",
    ")\n",
    "\n",
    "cursor = conn.cursor()\n",
    "g = input(\"Enter grade :\")\n",
    "cursor.callproc(\"GetStudentsByGrade\",[g])\n",
    "\n",
    "for result in cursor.stored_results():\n",
    "    details = result.fetchall()\n",
    "\n",
    "for row in details:\n",
    "    print(row)\n",
    "\n",
    "cursor.close()\n",
    "conn.close()\n"
   ]
  },
  {
   "cell_type": "code",
   "execution_count": 91,
   "id": "4bc03fb9",
   "metadata": {},
   "outputs": [],
   "source": []
  },
  {
   "cell_type": "code",
   "execution_count": null,
   "id": "efd5a96f",
   "metadata": {},
   "outputs": [],
   "source": []
  }
 ],
 "metadata": {
  "kernelspec": {
   "display_name": "Python 3 (ipykernel)",
   "language": "python",
   "name": "python3"
  },
  "language_info": {
   "codemirror_mode": {
    "name": "ipython",
    "version": 3
   },
   "file_extension": ".py",
   "mimetype": "text/x-python",
   "name": "python",
   "nbconvert_exporter": "python",
   "pygments_lexer": "ipython3",
   "version": "3.10.9"
  }
 },
 "nbformat": 4,
 "nbformat_minor": 5
}
