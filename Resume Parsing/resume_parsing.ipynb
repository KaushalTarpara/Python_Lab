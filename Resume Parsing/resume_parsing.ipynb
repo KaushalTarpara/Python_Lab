{
 "cells": [
  {
   "cell_type": "code",
   "execution_count": 21,
   "metadata": {},
   "outputs": [],
   "source": [
    "import spacy #nlp\n",
    "import pdfminer #pdf2tx\n",
    "import re #regex\n",
    "import os #file manip\n",
    "import pandas as pd #csv - tabular"
   ]
  },
  {
   "cell_type": "code",
   "execution_count": 22,
   "metadata": {},
   "outputs": [],
   "source": [
    "import pdf2txt"
   ]
  },
  {
   "cell_type": "code",
   "execution_count": 23,
   "metadata": {},
   "outputs": [],
   "source": [
    "# converting pdf to txt\n",
    "def convert_pdf(f):\n",
    "    output_filename = os.path.basename(os.path.splitext(f)[0]) + \".txt\"\n",
    "    output_filepath = os.path.join(\"output/txt/\", output_filename)\n",
    "    pdf2txt.main(args=[f, \"--outfile\", output_filepath]) #pdf to txt and save it in the given location\n",
    "    print(output_filepath + \" saved successfully!!!\")\n",
    "    return open(output_filepath,encoding=\"utf8\").read()\n",
    "#     return open(output_filepath,errors='ignore').read()"
   ]
  },
  {
   "cell_type": "code",
   "execution_count": 24,
   "metadata": {},
   "outputs": [],
   "source": [
    "# load the language model\n",
    "nlp = spacy.load(\"en_core_web_sm\") #Lowest accuracy\n",
    "# nlp = spacy.load(\"en_core_web_lg\") #high accuracy\n"
   ]
  },
  {
   "cell_type": "code",
   "execution_count": 25,
   "metadata": {},
   "outputs": [],
   "source": [
    "result_dict = {'name': [], 'phone': [], 'email': [], 'skills': []} \n",
    "names = []\n",
    "phones = []\n",
    "emails = []\n",
    "skills = []"
   ]
  },
  {
   "cell_type": "code",
   "execution_count": 26,
   "metadata": {},
   "outputs": [],
   "source": [
    "def parse_content(text):\n",
    "    skillset = re.compile(\"git|python|java|sql|hadoop\")\n",
    "    phone_num = re.compile(\"(\\d{3}[-\\.\\s]??\\d{3}[-\\.\\s]??\\d{4}|\\(\\d{3}\\)\\s*\\d{3}[-\\.\\s]??\\d{4})\")\n",
    "    \n",
    "    doc = nlp(text)\n",
    "#     print(doc)\n",
    "    name = [entity.text for entity in doc.ents if entity.label_ == \"PERSON\"][0]\n",
    "    print(name)\n",
    "    email = [word for word in doc if word.like_email == True][0]\n",
    "    print(email)\n",
    "    phone = str(re.findall(phone_num, text.lower()))\n",
    "    skills_list = re.findall(skillset, text.lower())\n",
    "    unique_skills_list = str(set(skills_list))\n",
    "    \n",
    "    names.append(name)\n",
    "    emails.append(email)\n",
    "    phones.append(phone)\n",
    "    skills.append(unique_skills_list)\n",
    "    print(\"Extraction completed successfully!!!\")"
   ]
  },
  {
   "cell_type": "code",
   "execution_count": 27,
   "metadata": {},
   "outputs": [
    {
     "name": "stdout",
     "output_type": "stream",
     "text": [
      "Reading.....Alisson ParkerCV.pdf\n",
      "output/txt/Alisson ParkerCV.txt saved successfully!!!\n",
      "Alisson Parker-Wright                                                                                                 \n",
      "alli1414parks@mail.com\n",
      "Extraction completed successfully!!!\n",
      "Reading.....Anuj Mangukiya.pdf\n",
      "output/txt/Anuj Mangukiya.txt saved successfully!!!\n",
      "Anuj Mangukiya\n",
      "anuj.mangukiya09@gmail.com\n",
      "Extraction completed successfully!!!\n",
      "Reading.....AshleyMilesCV.pdf\n",
      "output/txt/AshleyMilesCV.txt saved successfully!!!\n",
      "Ashley Miles\n",
      "ashleymiles@memail.com\n",
      "Extraction completed successfully!!!\n",
      "Reading.....John DominicCV.pdf\n",
      "output/txt/John DominicCV.txt saved successfully!!!\n",
      "John Dominic\n",
      "johndominic@mail.com\n",
      "Extraction completed successfully!!!\n",
      "Reading.....MA068_KAUSHAL_TARPARA.pdf\n",
      "output/txt/MA068_KAUSHAL_TARPARA.txt saved successfully!!!\n",
      "Kaushal Tarpara\n",
      "kaushaltarpara10702@gmail.com\n",
      "Extraction completed successfully!!!\n",
      "Reading.....Rahul_Jogadiya.pdf\n",
      "output/txt/Rahul_Jogadiya.txt saved successfully!!!\n",
      "Rahul D. Jogadiya\n",
      "rahuljogadiya3@gmail.com\n",
      "Extraction completed successfully!!!\n",
      "Reading.....ResumeOfRajnikumar-1.pdf\n",
      "output/txt/ResumeOfRajnikumar-1.txt saved successfully!!!\n",
      "Rajnikumar Tank\n",
      "rajanitank99@gmail.com\n",
      "Extraction completed successfully!!!\n",
      "Reading.....Savan_Sutariya1_3.pdf\n",
      "output/txt/Savan_Sutariya1_3.txt saved successfully!!!\n",
      "SavanSutariya\n",
      "savanpatel5248@gmail.com\n",
      "Extraction completed successfully!!!\n"
     ]
    }
   ],
   "source": [
    "for file in os.listdir('resumes/'):\n",
    "    if file.endswith('.pdf'):\n",
    "        print('Reading.....' + file)\n",
    "        txt = convert_pdf(os.path.join('resumes/',file))\n",
    "        parse_content(txt)"
   ]
  },
  {
   "cell_type": "code",
   "execution_count": 28,
   "metadata": {},
   "outputs": [],
   "source": [
    "result_dict['name'] = names\n",
    "result_dict['phone'] = phones\n",
    "result_dict['email'] = emails\n",
    "result_dict['skills'] = skills\n",
    "#print(result_dict)"
   ]
  },
  {
   "cell_type": "code",
   "execution_count": 29,
   "metadata": {
    "scrolled": true
   },
   "outputs": [
    {
     "data": {
      "text/html": [
       "<div>\n",
       "<style scoped>\n",
       "    .dataframe tbody tr th:only-of-type {\n",
       "        vertical-align: middle;\n",
       "    }\n",
       "\n",
       "    .dataframe tbody tr th {\n",
       "        vertical-align: top;\n",
       "    }\n",
       "\n",
       "    .dataframe thead th {\n",
       "        text-align: right;\n",
       "    }\n",
       "</style>\n",
       "<table border=\"1\" class=\"dataframe\">\n",
       "  <thead>\n",
       "    <tr style=\"text-align: right;\">\n",
       "      <th></th>\n",
       "      <th>name</th>\n",
       "      <th>phone</th>\n",
       "      <th>email</th>\n",
       "      <th>skills</th>\n",
       "    </tr>\n",
       "  </thead>\n",
       "  <tbody>\n",
       "    <tr>\n",
       "      <th>0</th>\n",
       "      <td>Alisson Parker-Wright                         ...</td>\n",
       "      <td>['8569878511']</td>\n",
       "      <td>alli1414parks@mail.com</td>\n",
       "      <td>{'java', 'python'}</td>\n",
       "    </tr>\n",
       "    <tr>\n",
       "      <th>1</th>\n",
       "      <td>Anuj Mangukiya</td>\n",
       "      <td>['9723191507']</td>\n",
       "      <td>anuj.mangukiya09@gmail.com</td>\n",
       "      <td>{'java', 'sql', 'python'}</td>\n",
       "    </tr>\n",
       "    <tr>\n",
       "      <th>2</th>\n",
       "      <td>Ashley Miles</td>\n",
       "      <td>['6592251422']</td>\n",
       "      <td>ashleymiles@memail.com</td>\n",
       "      <td>{'sql', 'git'}</td>\n",
       "    </tr>\n",
       "    <tr>\n",
       "      <th>3</th>\n",
       "      <td>John Dominic</td>\n",
       "      <td>['7877756411']</td>\n",
       "      <td>johndominic@mail.com</td>\n",
       "      <td>{'java', 'hadoop', 'python'}</td>\n",
       "    </tr>\n",
       "    <tr>\n",
       "      <th>4</th>\n",
       "      <td>Kaushal Tarpara</td>\n",
       "      <td>['8980664061']</td>\n",
       "      <td>kaushaltarpara10702@gmail.com</td>\n",
       "      <td>{'sql', 'java', 'git', 'python'}</td>\n",
       "    </tr>\n",
       "    <tr>\n",
       "      <th>5</th>\n",
       "      <td>Rahul D. Jogadiya</td>\n",
       "      <td>[]</td>\n",
       "      <td>rahuljogadiya3@gmail.com</td>\n",
       "      <td>{'java', 'sql', 'python'}</td>\n",
       "    </tr>\n",
       "    <tr>\n",
       "      <th>6</th>\n",
       "      <td>Rajnikumar Tank</td>\n",
       "      <td>['9081944328']</td>\n",
       "      <td>rajanitank99@gmail.com</td>\n",
       "      <td>{'java', 'sql', 'python'}</td>\n",
       "    </tr>\n",
       "    <tr>\n",
       "      <th>7</th>\n",
       "      <td>SavanSutariya</td>\n",
       "      <td>['6355962815']</td>\n",
       "      <td>savanpatel5248@gmail.com</td>\n",
       "      <td>{'sql', 'java', 'git', 'python'}</td>\n",
       "    </tr>\n",
       "  </tbody>\n",
       "</table>\n",
       "</div>"
      ],
      "text/plain": [
       "                                                name           phone  \\\n",
       "0  Alisson Parker-Wright                         ...  ['8569878511']   \n",
       "1                                     Anuj Mangukiya  ['9723191507']   \n",
       "2                                       Ashley Miles  ['6592251422']   \n",
       "3                                       John Dominic  ['7877756411']   \n",
       "4                                    Kaushal Tarpara  ['8980664061']   \n",
       "5                                  Rahul D. Jogadiya              []   \n",
       "6                                    Rajnikumar Tank  ['9081944328']   \n",
       "7                                      SavanSutariya  ['6355962815']   \n",
       "\n",
       "                           email                            skills  \n",
       "0         alli1414parks@mail.com                {'java', 'python'}  \n",
       "1     anuj.mangukiya09@gmail.com         {'java', 'sql', 'python'}  \n",
       "2         ashleymiles@memail.com                    {'sql', 'git'}  \n",
       "3           johndominic@mail.com      {'java', 'hadoop', 'python'}  \n",
       "4  kaushaltarpara10702@gmail.com  {'sql', 'java', 'git', 'python'}  \n",
       "5       rahuljogadiya3@gmail.com         {'java', 'sql', 'python'}  \n",
       "6         rajanitank99@gmail.com         {'java', 'sql', 'python'}  \n",
       "7       savanpatel5248@gmail.com  {'sql', 'java', 'git', 'python'}  "
      ]
     },
     "execution_count": 29,
     "metadata": {},
     "output_type": "execute_result"
    }
   ],
   "source": [
    "result_df = pd.DataFrame(result_dict)\n",
    "result_df"
   ]
  },
  {
   "cell_type": "code",
   "execution_count": 30,
   "metadata": {},
   "outputs": [],
   "source": [
    "result_df.to_csv('output/csv/parsed_resumes.csv')"
   ]
  }
 ],
 "metadata": {
  "kernelspec": {
   "display_name": "Python 3 (ipykernel)",
   "language": "python",
   "name": "python3"
  },
  "language_info": {
   "codemirror_mode": {
    "name": "ipython",
    "version": 3
   },
   "file_extension": ".py",
   "mimetype": "text/x-python",
   "name": "python",
   "nbconvert_exporter": "python",
   "pygments_lexer": "ipython3",
   "version": "3.10.9"
  }
 },
 "nbformat": 4,
 "nbformat_minor": 2
}
