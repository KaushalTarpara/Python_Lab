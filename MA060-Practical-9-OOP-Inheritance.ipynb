{
 "cells": [
  {
   "cell_type": "markdown",
   "id": "2fa6cec4",
   "metadata": {},
   "source": [
    "<h1>Practical-9-OOP-Inheritance\n"
   ]
  },
  {
   "cell_type": "markdown",
   "id": "5570584f",
   "metadata": {},
   "source": [
    "<h5>Name : Tarpara Kaushal\n",
    "<h5>Roll no : MA060"
   ]
  },
  {
   "cell_type": "markdown",
   "id": "11906093",
   "metadata": {},
   "source": [
    "<h3>1. What is difference between instance method and class method? Which type of method should be used when? How to create and use them. Explain using example."
   ]
  },
  {
   "cell_type": "markdown",
   "id": "11925ae4",
   "metadata": {},
   "source": [
    "**1. What is the difference between an instance method and a class method?**\n",
    "\n",
    "- An instance method is a method that operates on an instance of a class (an object created from the class) and has access to instance-specific attributes. It is defined without any decorators and typically takes `self` as its first argument.\n",
    "  \n",
    "- A class method is a method that operates on the class itself and is defined using the `@classmethod` decorator. It takes `cls` (conventionally named) as its first argument and can access or modify class-level data.\n",
    "\n",
    "**2. When should you use instance methods, and when should you use class methods?**\n",
    "\n",
    "- Use instance methods when you need to work with instance-specific data or behavior. These methods are tied to individual objects created from the class.\n",
    "\n",
    "- Use class methods when you want to work with class-level data or perform operations related to the class as a whole. Class methods are not tied to specific instances but are associated with the class itself.\n"
   ]
  },
  {
   "cell_type": "code",
   "execution_count": 12,
   "id": "b01cb25a",
   "metadata": {},
   "outputs": [
    {
     "name": "stdout",
     "output_type": "stream",
     "text": [
      "Instance method called with value: 42\n"
     ]
    }
   ],
   "source": [
    "#3. How do you create and use instance methods in Python?\n",
    "\n",
    "class MyClass:\n",
    "    def __init__(self, value):\n",
    "        self.value = value\n",
    "\n",
    "    def instance_method(self):\n",
    "        return f\"Instance method called with value: {self.value}\"\n",
    "\n",
    "obj = MyClass(42)\n",
    "result = obj.instance_method()\n",
    "print(result)"
   ]
  },
  {
   "cell_type": "code",
   "execution_count": 13,
   "id": "0a64b76e",
   "metadata": {},
   "outputs": [
    {
     "name": "stdout",
     "output_type": "stream",
     "text": [
      "Class method called. Total instances created: 2\n"
     ]
    }
   ],
   "source": [
    "#4. How do you create and use class methods in Python?\n",
    "\n",
    "\n",
    "class MyClass:\n",
    "    class_variable = 0\n",
    "\n",
    "    def __init__(self, value):\n",
    "        self.value = value\n",
    "        MyClass.class_variable += 1\n",
    "\n",
    "    @classmethod\n",
    "    def class_method(cls):\n",
    "        return f\"Class method called. Total instances created: {cls.class_variable}\"\n",
    "\n",
    "obj1 = MyClass(42)\n",
    "obj2 = MyClass(100)\n",
    "result = MyClass.class_method()\n",
    "print(result) "
   ]
  },
  {
   "cell_type": "markdown",
   "id": "1ad304e0",
   "metadata": {},
   "source": [
    "<h3>2. What is difference between static method and class method? Which type of method should be used when? How to create and use them. Explain using example."
   ]
  },
  {
   "cell_type": "markdown",
   "id": "2e92553a",
   "metadata": {},
   "source": [
    "**1. What is the difference between a static method and a class method?**\n",
    "\n",
    "- **Static Method**:\n",
    "  - Static methods are methods that are bound to a class rather than an instance of the class.\n",
    "  - They don't have access to instance-specific attributes (via `self`) or class-specific attributes (via `cls`).\n",
    "  - They are defined using the `@staticmethod` decorator.\n",
    "\n",
    "- **Class Method**:\n",
    "  - Class methods are methods that are bound to the class and have access to the class itself (via `cls`).\n",
    "  - They can access or modify class-level data.\n",
    "  - They are defined using the `@classmethod` decorator.\n",
    "\n",
    "**2. When should you use static methods, and when should you use class methods?**\n",
    "\n",
    "- **Static methods** should be used when:\n",
    "  - The method is not related to instance-specific or class-specific data.\n",
    "  - The method doesn't need access to `self` or `cls`.\n",
    "  - It's used for utility functions that are related to the class but are independent of specific instances.\n",
    "\n",
    "- **Class methods** should be used when:\n",
    "  - The method needs to work with class-level data or perform operations related to the class.\n",
    "  - It requires access to `cls` to interact with or modify class attributes.\n",
    "\n",
    "**3. How do you create and use static methods in Python?**\n",
    "\n",
    "To create and use a static method:\n",
    "\n",
    "```python\n",
    "class MathOperations:\n",
    "    @staticmethod\n",
    "    def add(x, y):\n",
    "        return x + y\n",
    "\n",
    "result = MathOperations.add(10, 5)\n",
    "print(result)  # Output: 15\n",
    "```\n",
    "\n",
    "In this example, `add` is a static method that doesn't depend on instance-specific or class-specific data.\n",
    "\n",
    "**4. How do you create and use class methods in Python?**\n",
    "\n",
    "To create and use a class method:\n",
    "\n",
    "```python\n",
    "class MyClass:\n",
    "    class_variable = 0\n",
    "\n",
    "    def __init__(self, value):\n",
    "        self.value = value\n",
    "        MyClass.class_variable += 1\n",
    "\n",
    "    @classmethod\n",
    "    def get_class_variable(cls):\n",
    "        return cls.class_variable\n",
    "\n",
    "obj1 = MyClass(42)\n",
    "obj2 = MyClass(100)\n",
    "result = MyClass.get_class_variable()\n",
    "print(result)  # Output: 2\n",
    "```\n",
    "\n",
    "In this example, `get_class_variable` is a class method that accesses the `class_variable` related to the `MyClass` class."
   ]
  },
  {
   "cell_type": "code",
   "execution_count": 14,
   "id": "9f2c0985",
   "metadata": {},
   "outputs": [
    {
     "name": "stdout",
     "output_type": "stream",
     "text": [
      "15\n"
     ]
    }
   ],
   "source": [
    "#3.How do you create and use static methods in Python?**\n",
    "\n",
    "class MathOperations:\n",
    "    @staticmethod\n",
    "    def add(x, y):\n",
    "        return x + y\n",
    "\n",
    "result = MathOperations.add(10, 5)\n",
    "print(result)  "
   ]
  },
  {
   "cell_type": "code",
   "execution_count": 15,
   "id": "269ec582",
   "metadata": {},
   "outputs": [
    {
     "name": "stdout",
     "output_type": "stream",
     "text": [
      "2\n"
     ]
    }
   ],
   "source": [
    "#4. How do you create and use class methods in Python?**\n",
    "\n",
    "\n",
    "class MyClass:\n",
    "    class_variable = 0\n",
    "\n",
    "    def __init__(self, value):\n",
    "        self.value = value\n",
    "        MyClass.class_variable += 1\n",
    "\n",
    "    @classmethod\n",
    "    def get_class_variable(cls):\n",
    "        return cls.class_variable\n",
    "\n",
    "obj1 = MyClass(42)\n",
    "obj2 = MyClass(100)\n",
    "result = MyClass.get_class_variable()\n",
    "print(result) "
   ]
  },
  {
   "cell_type": "markdown",
   "id": "e43f29c5",
   "metadata": {},
   "source": [
    "<h3>3. Is it possible to overload constructors in python?"
   ]
  },
  {
   "cell_type": "markdown",
   "id": "299acff8",
   "metadata": {},
   "source": [
    "No, Python does not support constructor overloading in the same way that some other programming languages like Java or C++ do. In languages that support constructor overloading, you can define multiple constructors with different parameter lists, and the appropriate constructor is called based on the arguments passed during object creation.\n",
    "\n",
    "In Python, you can't have multiple constructors with different parameter lists for the same class. However, you can achieve similar functionality in Python using default arguments and optional arguments in the constructor. Here's an example:\n",
    "\n"
   ]
  },
  {
   "cell_type": "code",
   "execution_count": 4,
   "id": "dec396f1",
   "metadata": {},
   "outputs": [
    {
     "name": "stdout",
     "output_type": "stream",
     "text": [
      "42\n",
      "None\n",
      "10\n",
      "20\n"
     ]
    }
   ],
   "source": [
    "class MyClass:\n",
    "    def __init__(self, value1, value2=None):\n",
    "        self.value1 = value1\n",
    "        self.value2 = value2\n",
    "\n",
    "# Create objects with different numbers of arguments\n",
    "obj1 = MyClass(42)\n",
    "obj2 = MyClass(10, 20)\n",
    "\n",
    "print(obj1.value1)  # Output: 42\n",
    "print(obj1.value2)  # Output: None\n",
    "\n",
    "print(obj2.value1)  # Output: 10\n",
    "print(obj2.value2)  # Output: 20"
   ]
  },
  {
   "cell_type": "markdown",
   "id": "1c8eada9",
   "metadata": {},
   "source": [
    "\n",
    "\n",
    "In this example, the `MyClass` constructor takes two parameters, but the second parameter `value2` is optional (it has a default value of `None`). This allows you to create objects with either one or two arguments.\n",
    "\n",
    "While this approach doesn't provide strict constructor overloading like some statically-typed languages, it gives you flexibility in how you create objects with different sets of arguments in Python. You can then handle the behavior of the constructor based on the provided arguments within the constructor itself."
   ]
  },
  {
   "cell_type": "markdown",
   "id": "94c20d60",
   "metadata": {},
   "source": [
    "<h3>4. Is it possible to override methods in python? If yes, explain how. If no, explain why."
   ]
  },
  {
   "cell_type": "markdown",
   "id": "a602a16f",
   "metadata": {},
   "source": [
    "Yes, it is possible to override methods in Python. Method overriding is a concept in object-oriented programming where a subclass provides a specific implementation for a method that is already defined in its superclass (parent class). When the same method name is present in both the superclass and the subclass, the subclass's implementation takes precedence when you call the method on an object of the subclass.\n",
    "\n",
    "Here's an example of method overriding in Python:\n",
    "\n"
   ]
  },
  {
   "cell_type": "code",
   "execution_count": 5,
   "id": "c0e83b89",
   "metadata": {},
   "outputs": [
    {
     "name": "stdout",
     "output_type": "stream",
     "text": [
      "This is the method in the ParentClass\n",
      "This is the method in the ChildClass\n"
     ]
    }
   ],
   "source": [
    "class ParentClass:\n",
    "    def some_method(self):\n",
    "        print(\"This is the method in the ParentClass\")\n",
    "\n",
    "class ChildClass(ParentClass):\n",
    "    def some_method(self):\n",
    "        print(\"This is the method in the ChildClass\")\n",
    "\n",
    "# Create instances of both classes\n",
    "parent_obj = ParentClass()\n",
    "child_obj = ChildClass()\n",
    "\n",
    "# Call the overridden method\n",
    "parent_obj.some_method()  # Output: \"This is the method in the ParentClass\"\n",
    "child_obj.some_method()   # Output: \"This is the method in the ChildClass\"\n"
   ]
  },
  {
   "cell_type": "markdown",
   "id": "bca5cc89",
   "metadata": {},
   "source": [
    "\n",
    "\n",
    "In this example, `ChildClass` inherits from `ParentClass`, and it overrides the `some_method` method. When you call `some_method` on an object of `ChildClass`, the overridden method in `ChildClass` is executed instead of the one in `ParentClass`.\n",
    "\n",
    "To achieve method overriding in Python:\n",
    "\n",
    "1. Define a base class (superclass) with the method you want to override.\n",
    "2. Create a subclass (derived class) that inherits from the base class.\n",
    "3. In the subclass, define a method with the same name as the one in the base class. This method will replace the base class's method when called on objects of the subclass.\n",
    "\n",
    "Method overriding is a fundamental concept in object-oriented programming and allows you to provide specialized behavior in subclasses while maintaining a common interface defined in the base class."
   ]
  },
  {
   "cell_type": "markdown",
   "id": "82a89d86",
   "metadata": {},
   "source": [
    "<h3>5. Using suitable examples of your choice (other than those which had been discussed in the class), explain creation and usage of class method, class variable and static method."
   ]
  },
  {
   "cell_type": "code",
   "execution_count": 6,
   "id": "8ef9c349",
   "metadata": {},
   "outputs": [
    {
     "name": "stdout",
     "output_type": "stream",
     "text": [
      "Car 1: 2022 Toyota Camry | Fuel Efficiency: 30 MPG\n",
      "Car 2: 2022 Honda Civic | Fuel Efficiency: 35 MPG\n",
      "Total cars manufactured by the company: 2\n",
      "30 MPG is approximately equal to 7.84 L/100km\n"
     ]
    }
   ],
   "source": [
    "class Car:\n",
    "    # Class variable to keep track of the total number of cars manufactured\n",
    "    total_cars_manufactured = 0\n",
    "\n",
    "    def __init__(self, make, model, year, mpg):\n",
    "        self.make = make\n",
    "        self.model = model\n",
    "        self.year = year\n",
    "        self.mpg = mpg\n",
    "        Car.total_cars_manufactured += 1\n",
    "\n",
    "    def get_info(self):\n",
    "        return f\"{self.year} {self.make} {self.model}\"\n",
    "\n",
    "    def fuel_efficiency(self):\n",
    "        return self.mpg\n",
    "\n",
    "    @classmethod\n",
    "    def display_company_info(cls):\n",
    "        print(f\"Total cars manufactured by the company: {cls.total_cars_manufactured}\")\n",
    "\n",
    "    @staticmethod\n",
    "    def mpg_to_l_per_100km(mpg):\n",
    "        # Conversion formula\n",
    "        liters_per_100km = 235.214583 / mpg\n",
    "        return liters_per_100km\n",
    "\n",
    "# Creating car instances\n",
    "car1 = Car(\"Toyota\", \"Camry\", 2022, 30)\n",
    "car2 = Car(\"Honda\", \"Civic\", 2022, 35)\n",
    "\n",
    "# Displaying car information\n",
    "print(f\"Car 1: {car1.get_info()} | Fuel Efficiency: {car1.fuel_efficiency()} MPG\")\n",
    "print(f\"Car 2: {car2.get_info()} | Fuel Efficiency: {car2.fuel_efficiency()} MPG\")\n",
    "\n",
    "# Displaying company information (class method)\n",
    "Car.display_company_info()\n",
    "\n",
    "# Converting MPG to L/100km (static method)\n",
    "mpg_value = 30\n",
    "l_per_100km = Car.mpg_to_l_per_100km(mpg_value)\n",
    "print(f\"{mpg_value} MPG is approximately equal to {l_per_100km:.2f} L/100km\")\n"
   ]
  },
  {
   "cell_type": "markdown",
   "id": "e3bdd827",
   "metadata": {},
   "source": [
    "<h3>6. How to use inheritance for implementing various types of bankaccount classes? Draw class relationship & explain using detailed practical example. Implement necessary constructors in the base and all derived classes. Show how to invoke base class constructor from derived class. Implement necessary getter & setter methods on all parent & children classes. Implement necessary methods for computing simple interest or any other such interests. Show how to use these classes."
   ]
  },
  {
   "cell_type": "code",
   "execution_count": 9,
   "id": "b0d7f498",
   "metadata": {},
   "outputs": [
    {
     "name": "stdout",
     "output_type": "stream",
     "text": [
      "Savings Account Interest: $45.00\n",
      "Checking Account Balance: $200.00\n",
      "Account Number: SA123, Holder: Kaushal, Balance: $1500.00\n",
      "Account Number: CA456, Holder: Meet, Balance: $200.00\n"
     ]
    }
   ],
   "source": [
    "class BankAccount:\n",
    "    def __init__(self, account_number, account_holder, balance=0.0):\n",
    "        self.account_number = account_number\n",
    "        self.account_holder = account_holder\n",
    "        self.balance = balance\n",
    "\n",
    "    def deposit(self, amount):\n",
    "        self.balance += amount\n",
    "\n",
    "    def withdraw(self, amount):\n",
    "        if amount <= self.balance:\n",
    "            self.balance -= amount\n",
    "        else:\n",
    "            print(\"Insufficient balance.\")\n",
    "\n",
    "    def get_balance(self):\n",
    "        return self.balance\n",
    "\n",
    "    def compute_interest(self):\n",
    "        pass\n",
    "\n",
    "    def __str__(self):\n",
    "        return f\"Account Number: {self.account_number}, Holder: {self.account_holder}, Balance: ${self.balance:.2f}\"\n",
    "\n",
    "\n",
    "class SavingsAccount(BankAccount):\n",
    "    def __init__(self, account_number, account_holder, balance=0.0, interest_rate=0.02):\n",
    "        super().__init__(account_number, account_holder, balance)\n",
    "        self.interest_rate = interest_rate\n",
    "\n",
    "    def compute_interest(self):\n",
    "        return self.balance * self.interest_rate\n",
    "\n",
    "\n",
    "class CheckingAccount(BankAccount):\n",
    "    def __init__(self, account_number, account_holder, balance=0.0, overdraft_limit=100.0):\n",
    "        super().__init__(account_number, account_holder, balance)\n",
    "        self.overdraft_limit = overdraft_limit\n",
    "\n",
    "    def withdraw(self, amount):\n",
    "        if amount <= self.balance + self.overdraft_limit:\n",
    "            self.balance -= amount\n",
    "        else:\n",
    "            print(\"Transaction declined. Exceeds overdraft limit.\")\n",
    "\n",
    "# Creating instances of different account types\n",
    "savings_acc = SavingsAccount(\"SA123\", \"Kaushal\", 1000.0, 0.03)\n",
    "checking_acc = CheckingAccount(\"CA456\", \"Meet\", 500.0, 200.0)\n",
    "\n",
    "# Deposit and withdraw operations\n",
    "savings_acc.deposit(500.0)\n",
    "checking_acc.withdraw(300.0)\n",
    "\n",
    "# Compute and display interest\n",
    "print(f\"Savings Account Interest: ${savings_acc.compute_interest():.2f}\")\n",
    "print(f\"Checking Account Balance: ${checking_acc.get_balance():.2f}\")\n",
    "\n",
    "# Display account details\n",
    "print(savings_acc)\n",
    "print(checking_acc)\n"
   ]
  },
  {
   "cell_type": "markdown",
   "id": "c4e6a439",
   "metadata": {},
   "source": [
    "<h3>7. How to create and user interface in Python?"
   ]
  },
  {
   "cell_type": "markdown",
   "id": "dc4ccd1c",
   "metadata": {},
   "source": [
    "Creating and using a user interface in Python typically involves using graphical user interface (GUI) libraries. One of the most popular GUI libraries for Python is Tkinter, which provides a simple way to create windows, dialogs, buttons, text fields, and other GUI elements. Here's a step-by-step guide on how to create and use a basic GUI interface in Python using Tkinter:\n",
    "\n",
    "**Step 1: Import the Tkinter Library**\n",
    "\n",
    "You need to import the Tkinter library to use its functions and classes. Import it like this:\n",
    "\n",
    "```python\n",
    "import tkinter as tk\n",
    "```\n",
    "\n",
    "**Step 2: Create the Main Application Window**\n",
    "\n",
    "You'll create a main application window using the `Tk()` constructor:\n",
    "\n",
    "```python\n",
    "root = tk.Tk()\n",
    "root.title(\"My GUI Application\")  # Set the window title\n",
    "```\n",
    "\n",
    "**Step 3: Create GUI Widgets (Components)**\n",
    "\n",
    "You can create various GUI widgets like buttons, labels, entry fields, etc., using Tkinter's widget classes. For example, to create a label and a button:\n",
    "\n",
    "```python\n",
    "label = tk.Label(root, text=\"Hello, GUI!\")\n",
    "button = tk.Button(root, text=\"Click Me\")\n",
    "```\n",
    "\n",
    "**Step 4: Organize Widgets Using Layout Managers**\n",
    "\n",
    "Tkinter provides different layout managers (geometry managers) to organize widgets within the window. Common layout managers are `pack`, `grid`, and `place`. For example, to use the `pack` geometry manager:\n",
    "\n",
    "```python\n",
    "label.pack()\n",
    "button.pack()\n",
    "```\n",
    "\n",
    "**Step 5: Define Functions for Widget Actions**\n",
    "\n",
    "You can define functions that will be called when certain widget events occur. For example, when the button is clicked:\n",
    "\n",
    "```python\n",
    "def button_click():\n",
    "    label.config(text=\"Button Clicked!\")\n",
    "\n",
    "button.config(command=button_click)\n",
    "```\n",
    "\n",
    "**Step 6: Run the Main Loop**\n",
    "\n",
    "The main loop (`root.mainloop()`) is required to start the GUI application and keep it running. It waits for user input and responds to events (e.g., button clicks).\n",
    "\n",
    "```python\n",
    "root.mainloop()\n",
    "```\n",
    "\n",
    "Here's a complete example:\n",
    "\n",
    "```python\n",
    "import tkinter as tk\n",
    "\n",
    "def button_click():\n",
    "    label.config(text=\"Button Clicked!\")\n",
    "\n",
    "root = tk.Tk()\n",
    "root.title(\"My GUI Application\")\n",
    "\n",
    "label = tk.Label(root, text=\"Hello, GUI!\")\n",
    "button = tk.Button(root, text=\"Click Me\", command=button_click)\n",
    "\n",
    "label.pack()\n",
    "button.pack()\n",
    "\n",
    "root.mainloop()\n",
    "```\n",
    "\n",
    "This simple example creates a window with a label and a button. When you click the button, the label's text changes.\n",
    "\n",
    "To create more complex interfaces, you can add additional widgets, use different layout managers, and create multiple windows or dialogs. Tkinter provides a wide range of widgets and options for building interactive GUI applications in Python."
   ]
  },
  {
   "cell_type": "markdown",
   "id": "6c8f8f1b",
   "metadata": {},
   "source": [
    "<h3>7. How to create and use interface in Python?"
   ]
  },
  {
   "cell_type": "markdown",
   "id": "d79d0a8a",
   "metadata": {},
   "source": [
    "In Python, you can create and use an interface using an abstract base class (ABC) from the `abc` module. Here's a brief example of how to create and use an interface in Python:"
   ]
  },
  {
   "cell_type": "code",
   "execution_count": null,
   "id": "a51cb761",
   "metadata": {},
   "outputs": [],
   "source": []
  }
 ],
 "metadata": {
  "kernelspec": {
   "display_name": "Python 3 (ipykernel)",
   "language": "python",
   "name": "python3"
  },
  "language_info": {
   "codemirror_mode": {
    "name": "ipython",
    "version": 3
   },
   "file_extension": ".py",
   "mimetype": "text/x-python",
   "name": "python",
   "nbconvert_exporter": "python",
   "pygments_lexer": "ipython3",
   "version": "3.10.9"
  }
 },
 "nbformat": 4,
 "nbformat_minor": 5
}
