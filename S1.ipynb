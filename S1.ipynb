{
 "cells": [
  {
   "cell_type": "code",
   "execution_count": 1,
   "id": "8569fe5f",
   "metadata": {},
   "outputs": [
    {
     "name": "stdout",
     "output_type": "stream",
     "text": [
      "Enter String kauhsal tarpara a b c\n",
      "['a', 'b', 'c', 'kauhsal', 'tarpara']\n"
     ]
    }
   ],
   "source": [
    "str = input(\"Enter String \")\n",
    "str = sorted(str.split())\n",
    "print(str)"
   ]
  },
  {
   "cell_type": "code",
   "execution_count": 6,
   "id": "8c1618a1",
   "metadata": {},
   "outputs": [
    {
     "name": "stdout",
     "output_type": "stream",
     "text": [
      "{1: 111, 2: 222, 3: 333}\n"
     ]
    }
   ],
   "source": [
    "d_ex = {1:111,2:222,3:333}\n",
    "d_new = {}\n",
    "d_new.update(d_ex.items())\n",
    "print(d_new)\n"
   ]
  },
  {
   "cell_type": "code",
   "execution_count": 9,
   "id": "20b50480",
   "metadata": {},
   "outputs": [
    {
     "name": "stdout",
     "output_type": "stream",
     "text": [
      "100\n"
     ]
    }
   ],
   "source": [
    "lst = list(range(1,201,2))\n",
    "\n",
    "print(len(lst))"
   ]
  },
  {
   "cell_type": "code",
   "execution_count": 10,
   "id": "6086930b",
   "metadata": {},
   "outputs": [
    {
     "name": "stdout",
     "output_type": "stream",
     "text": [
      "No valid integers provided.\n"
     ]
    }
   ],
   "source": [
    "import sys\n",
    "\n",
    "\n",
    "def compute_max_sum_command_line_params():\n",
    "    integers = [int(arg) for arg in sys.argv[1:] if arg.isdigit()]\n",
    "    if not integers:\n",
    "        print(\"No valid integers provided.\")\n",
    "        return None\n",
    "\n",
    "    max_value = max(integers)\n",
    "    summation = sum(integers)\n",
    "\n",
    "    return max_value, summation\n",
    "\n",
    "result = compute_max_sum_command_line_params()\n",
    "if result:\n",
    "    max_value, summation = result\n",
    "    print(f\"Maximum value: {max_value}\")\n",
    "    print(f\"Summation: {summation}\")\n"
   ]
  },
  {
   "cell_type": "code",
   "execution_count": 13,
   "id": "3032522b",
   "metadata": {},
   "outputs": [
    {
     "name": "stdout",
     "output_type": "stream",
     "text": [
      "Addition: (2+4j)\n",
      "Subtraction: 0j\n",
      "Multiplication: (-3+4j)\n",
      "Division: (1+0j)\n"
     ]
    }
   ],
   "source": [
    "def complex_operations(num1, num2):\n",
    "    addition = num1 + num2\n",
    "    subtraction = num1 - num2\n",
    "    multiplication = num1 * num2\n",
    "    division = num1 / num2\n",
    "\n",
    "    return addition, subtraction, multiplication, division\n",
    "\n",
    "# Input two complex numbers\n",
    "num1 = complex(1 + 2j)\n",
    "num2 = complex(1 + 2j)\n",
    "\n",
    "# Compute the operations\n",
    "addition, subtraction, multiplication, division = complex_operations(num1, num2)\n",
    "\n",
    "# Display the results\n",
    "print(\"Addition:\", addition)\n",
    "print(\"Subtraction:\", subtraction)\n",
    "print(\"Multiplication:\", multiplication)\n",
    "print(\"Division:\", division)\n"
   ]
  },
  {
   "cell_type": "code",
   "execution_count": 18,
   "id": "a5cedf1f",
   "metadata": {},
   "outputs": [
    {
     "name": "stdout",
     "output_type": "stream",
     "text": [
      "A\n",
      "B\n",
      "C\n",
      "D\n",
      "E\n",
      "F\n",
      "G\n",
      "H\n",
      "I\n",
      "J\n",
      "K\n",
      "L\n",
      "M\n",
      "N\n",
      "O\n",
      "P\n",
      "Q\n",
      "R\n",
      "S\n",
      "T\n",
      "U\n",
      "V\n",
      "W\n",
      "X\n",
      "Y\n",
      "Z\n"
     ]
    }
   ],
   "source": [
    "for i in range(ord('A'),ord('Z')+1):\n",
    "    print(chr(i) )   "
   ]
  },
  {
   "cell_type": "code",
   "execution_count": 21,
   "id": "3c54ed2d",
   "metadata": {},
   "outputs": [
    {
     "name": "stdout",
     "output_type": "stream",
     "text": [
      "Enter birthdate 1 (in descending order, e.g., YYYY-MM-DD): fdef\n",
      "Enter birthdate 2 (in descending order, e.g., YYYY-MM-DD): fewf\n",
      "Enter birthdate 3 (in descending order, e.g., YYYY-MM-DD): ewfew\n",
      "Enter birthdate 4 (in descending order, e.g., YYYY-MM-DD): few\n",
      "Enter birthdate 5 (in descending order, e.g., YYYY-MM-DD): few\n",
      "Birthdates in descending order:\n",
      "fewf\n",
      "few\n",
      "few\n",
      "fdef\n",
      "ewfew\n",
      "fewf few few fdef ewfew\n"
     ]
    }
   ],
   "source": [
    "def input_birthdates():\n",
    "    birthdates = []\n",
    "    for i in range(5):\n",
    "        date_str = input(f\"Enter birthdate {i+1} (in descending order, e.g., YYYY-MM-DD): \")\n",
    "        birthdates.append(date_str)\n",
    "\n",
    "    return birthdates\n",
    "\n",
    "# Input 5 birthdates\n",
    "birthdates_list = input_birthdates()\n",
    "\n",
    "# Sort the birthdates in descending order\n",
    "sorted_birthdates = sorted(birthdates_list, reverse=True)\n",
    "\n",
    "# Display the birthdates in descending order\n",
    "print(\"Birthdates in descending order:\")\n",
    "for date in sorted_birthdates:\n",
    "    print(date)\n",
    "\n",
    "print(' '.join(sorted_birthdates))"
   ]
  },
  {
   "cell_type": "code",
   "execution_count": 24,
   "id": "ae62f06d",
   "metadata": {},
   "outputs": [
    {
     "name": "stdout",
     "output_type": "stream",
     "text": [
      "dict_items([(1, 111), (2, 222), (3, 333)])\n"
     ]
    }
   ],
   "source": [
    "d_ex = {1:111,2:222,3:333}\n",
    "print(d_ex.items())"
   ]
  },
  {
   "cell_type": "code",
   "execution_count": 25,
   "id": "6a53dcf5",
   "metadata": {},
   "outputs": [
    {
     "name": "stdout",
     "output_type": "stream",
     "text": [
      "Bitwise Calculator\n",
      "-------------------\n",
      "1. AND\n",
      "2. OR\n",
      "3. XOR\n",
      "4. Left Shift\n",
      "5. Right Shift\n",
      "6. Exit\n",
      "\n",
      "Enter your choice (1-6): 1\n",
      "Enter the first number: 2\n",
      "Enter the second number: 2\n",
      "Result: 2\n",
      "\n",
      "Enter your choice (1-6): 1\n",
      "Enter the first number: 2\n",
      "Enter the second number: 3\n",
      "Result: 2\n",
      "\n",
      "Enter your choice (1-6): 1\n",
      "Enter the first number: 0\n",
      "Enter the second number: 2\n",
      "Result: 0\n",
      "\n",
      "Enter your choice (1-6): 4\n",
      "Enter the number: 3\n",
      "Enter the number of positions to left shift: 2\n",
      "Result: 12\n",
      "\n",
      "Enter your choice (1-6): 5\n",
      "Enter the number: 12\n",
      "Enter the number of positions to right shift: 2\n",
      "Result: 3\n",
      "\n",
      "Enter your choice (1-6): 3\n",
      "Enter the first number: 5\n",
      "Enter the second number: 5\n",
      "Result: 0\n",
      "\n",
      "Enter your choice (1-6): 3\n",
      "Enter the first number: 4\n",
      "Enter the second number: 5\n",
      "Result: 1\n",
      "\n",
      "Enter your choice (1-6): 3\n",
      "Enter the first number: 1\n",
      "Enter the second number: 6\n",
      "Result: 7\n",
      "\n",
      "Enter your choice (1-6): 0\n",
      "Invalid choice. Please select a valid option (1-6).\n",
      "\n",
      "Enter your choice (1-6): 6\n",
      "Exiting the program.\n"
     ]
    }
   ],
   "source": [
    "def bitwise_calculator():\n",
    "    print(\"Bitwise Calculator\")\n",
    "    print(\"-------------------\")\n",
    "    print(\"1. AND\")\n",
    "    print(\"2. OR\")\n",
    "    print(\"3. XOR\")\n",
    "    print(\"4. Left Shift\")\n",
    "    print(\"5. Right Shift\")\n",
    "    print(\"6. Exit\")\n",
    "\n",
    "    while True:\n",
    "        choice = int(input(\"\\nEnter your choice (1-6): \"))\n",
    "\n",
    "        if choice == 1:\n",
    "            num1 = int(input(\"Enter the first number: \"))\n",
    "            num2 = int(input(\"Enter the second number: \"))\n",
    "            result = num1 & num2\n",
    "            print(f\"Result: {result}\")\n",
    "        elif choice == 2:\n",
    "            num1 = int(input(\"Enter the first number: \"))\n",
    "            num2 = int(input(\"Enter the second number: \"))\n",
    "            result = num1 | num2\n",
    "            print(f\"Result: {result}\")\n",
    "        elif choice == 3:\n",
    "            num1 = int(input(\"Enter the first number: \"))\n",
    "            num2 = int(input(\"Enter the second number: \"))\n",
    "            result = num1 ^ num2\n",
    "            print(f\"Result: {result}\")\n",
    "        elif choice == 4:\n",
    "            num1 = int(input(\"Enter the number: \"))\n",
    "            shift = int(input(\"Enter the number of positions to left shift: \"))\n",
    "            result = num1 << shift\n",
    "            print(f\"Result: {result}\")\n",
    "        elif choice == 5:\n",
    "            num1 = int(input(\"Enter the number: \"))\n",
    "            shift = int(input(\"Enter the number of positions to right shift: \"))\n",
    "            result = num1 >> shift\n",
    "            print(f\"Result: {result}\")\n",
    "        elif choice == 6:\n",
    "            print(\"Exiting the program.\")\n",
    "            break\n",
    "        else:\n",
    "            print(\"Invalid choice. Please select a valid option (1-6).\")\n",
    "\n",
    "\n",
    "bitwise_calculator()\n"
   ]
  },
  {
   "cell_type": "code",
   "execution_count": 35,
   "id": "01239960",
   "metadata": {},
   "outputs": [
    {
     "name": "stdout",
     "output_type": "stream",
     "text": [
      "[6, 5, 3, 2, 1]\n"
     ]
    }
   ],
   "source": [
    "lst = [3,2,5,1,6]\n",
    "# lst.sort()\n",
    "lst = sorted(lst,reverse=True)\n",
    "print(lst)"
   ]
  },
  {
   "cell_type": "code",
   "execution_count": null,
   "id": "4180e18e",
   "metadata": {},
   "outputs": [],
   "source": []
  }
 ],
 "metadata": {
  "kernelspec": {
   "display_name": "Python 3 (ipykernel)",
   "language": "python",
   "name": "python3"
  },
  "language_info": {
   "codemirror_mode": {
    "name": "ipython",
    "version": 3
   },
   "file_extension": ".py",
   "mimetype": "text/x-python",
   "name": "python",
   "nbconvert_exporter": "python",
   "pygments_lexer": "ipython3",
   "version": "3.10.9"
  }
 },
 "nbformat": 4,
 "nbformat_minor": 5
}
